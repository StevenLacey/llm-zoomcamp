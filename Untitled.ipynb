{
 "cells": [
  {
   "cell_type": "code",
   "execution_count": 13,
   "id": "ab55f12a-c6ab-4f07-a305-56508f3024e9",
   "metadata": {},
   "outputs": [
    {
     "name": "stdout",
     "output_type": "stream",
     "text": [
      "/workspaces/llm-zoomcamp\n"
     ]
    }
   ],
   "source": [
    "import os\n",
    "print(os.getcwd())\n"
   ]
  },
  {
   "cell_type": "code",
   "execution_count": null,
   "id": "a619b9f9-d922-4463-93d3-6cd36368ae04",
   "metadata": {},
   "outputs": [],
   "source": []
  },
  {
   "cell_type": "code",
   "execution_count": 20,
   "id": "4d86b73c-5497-4082-b055-751622dc6db5",
   "metadata": {},
   "outputs": [
    {
     "name": "stdout",
     "output_type": "stream",
     "text": [
      "Step 1:\n",
      "  Characters: 5746\n",
      "  First word: We\n",
      "  Last word:  Two.\n",
      "\n",
      "Step 2:\n",
      "  Characters: 7961\n",
      "  First word: Came\n",
      "  Last word:  9\n",
      "\n",
      "Step 3:\n",
      "  Characters: 5040\n",
      "  First word: Made\n",
      "  Last word:  Four.\n",
      "\n",
      "Step 4:\n",
      "  Characters: 10094\n",
      "  First word: Made\n",
      "  Last word:  Five.\n",
      "\n",
      "Step 5:\n",
      "  Characters: 6637\n",
      "  First word: Admitted\n",
      "  Last word:  Six.\n",
      "\n",
      "Step 6:\n",
      "  Characters: 7389\n",
      "  First word: Were\n",
      "  Last word:  Seven.\n",
      "\n",
      "Step 7:\n",
      "  Characters: 9014\n",
      "  First word: Humbly\n",
      "  Last word:  Eight.\n",
      "\n",
      "Step 8:\n",
      "  Characters: 8984\n",
      "  First word: Made\n",
      "  Last word:  Nine.\n",
      "\n",
      "Step 9:\n",
      "  Characters: 9460\n",
      "  First word: Made\n",
      "  Last word:  48\n",
      "\n",
      "Step 10:\n",
      "  Characters: 7852\n",
      "  First word: Continued\n",
      "  Last word:  Eleven.\n",
      "\n",
      "Step 11:\n",
      "  Characters: 10393\n",
      "  First word: Sought\n",
      "  Last word:  Twelve.\n",
      "\n",
      "Step 12:\n",
      "  Characters: 11054\n",
      "  First word: Having\n",
      "  Last word:  recover.\n",
      "\n",
      "Total characters across all steps: 99624\n",
      "The history saving thread hit an unexpected error (OperationalError('attempt to write a readonly database')).History will not be written to the database.\n"
     ]
    }
   ],
   "source": [
    "import json\n",
    "\n",
    "# Correct relative path to your file\n",
    "file_path = \"mai/context/life_with_hope/structured/steps.json\"\n",
    "\n",
    "# Load the JSON file\n",
    "with open(file_path, \"r\", encoding=\"utf-8\") as f:\n",
    "    steps_data = json.load(f)  # This reads the entire JSON array at once\n",
    "\n",
    "# Initialize total character count\n",
    "total_chars = 0\n",
    "\n",
    "# Analyze each step\n",
    "for step in steps_data:\n",
    "    text = step[\"text\"]\n",
    "    char_count = len(text)\n",
    "    total_chars += char_count\n",
    "\n",
    "    # Tokenize into words for first and last\n",
    "    words = text.strip().split()\n",
    "    first_word = words[0] if words else \"\"\n",
    "    last_word = words[-1] if words else \"\"\n",
    "\n",
    "    print(f\"Step {step['step']}:\")\n",
    "    print(f\"  Characters: {char_count}\")\n",
    "    print(f\"  First word: {first_word}\")\n",
    "    print(f\"  Last word:  {last_word}\")\n",
    "    print()\n",
    "\n",
    "# Print total\n",
    "print(f\"Total characters across all steps: {total_chars}\")\n"
   ]
  },
  {
   "cell_type": "code",
   "execution_count": null,
   "id": "02109ee7-b41e-41b1-81d0-e2e9c83540b9",
   "metadata": {},
   "outputs": [],
   "source": []
  }
 ],
 "metadata": {
  "kernelspec": {
   "display_name": "Python 3 (ipykernel)",
   "language": "python",
   "name": "python3"
  },
  "language_info": {
   "codemirror_mode": {
    "name": "ipython",
    "version": 3
   },
   "file_extension": ".py",
   "mimetype": "text/x-python",
   "name": "python",
   "nbconvert_exporter": "python",
   "pygments_lexer": "ipython3",
   "version": "3.12.1"
  }
 },
 "nbformat": 4,
 "nbformat_minor": 5
}
