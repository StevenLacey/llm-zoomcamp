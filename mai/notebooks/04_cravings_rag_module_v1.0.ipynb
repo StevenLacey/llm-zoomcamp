{
 "cells": [
  {
   "cell_type": "code",
   "execution_count": 76,
   "id": "203b558c",
   "metadata": {},
   "outputs": [
    {
     "name": "stderr",
     "output_type": "stream",
     "text": [
      "/usr/local/python/3.12.1/lib/python3.12/site-packages/tqdm/auto.py:21: TqdmWarning: IProgress not found. Please update jupyter and ipywidgets. See https://ipywidgets.readthedocs.io/en/stable/user_install.html\n",
      "  from .autonotebook import tqdm as notebook_tqdm\n"
     ]
    }
   ],
   "source": [
    "import json\n",
    "from pathlib import Path\n",
    "from openai import OpenAI\n",
    "from dotenv import load_dotenv\n",
    "import os\n",
    "from openai import OpenAI\n",
    "load_dotenv()\n",
    "client = OpenAI(api_key=os.getenv(\"OPENAI_API_KEY\")) # Get Key from Env (ignored in git) \n",
    "client = OpenAI()\n",
    "from elasticsearch import Elasticsearch\n",
    "es_client = Elasticsearch('http://localhost:9200')\n",
    "from tqdm.auto import tqdm"
   ]
  },
  {
   "cell_type": "code",
   "execution_count": 60,
   "id": "8d919979",
   "metadata": {},
   "outputs": [],
   "source": [
    "# Path to users.json\n",
    "users_path = Path(\"../context/users/users.json\")"
   ]
  },
  {
   "cell_type": "code",
   "execution_count": 61,
   "id": "0cf90930",
   "metadata": {},
   "outputs": [],
   "source": [
    "def load_users():\n",
    "    if users_path.exists():\n",
    "        with open(users_path, \"r\") as f:\n",
    "            return json.load(f)\n",
    "    return []"
   ]
  },
  {
   "cell_type": "code",
   "execution_count": 62,
   "id": "eb48b7b0",
   "metadata": {},
   "outputs": [],
   "source": [
    "def get_user_by_id(user_id, users):\n",
    "    for user in users:\n",
    "        if user.get(\"user_id\") == user_id:\n",
    "            return user\n",
    "    return None"
   ]
  },
  {
   "cell_type": "code",
   "execution_count": 63,
   "id": "6118cbf0",
   "metadata": {},
   "outputs": [],
   "source": [
    "#get user id\n",
    "user_id = input(\"Enter your user_id: \").strip()"
   ]
  },
  {
   "cell_type": "code",
   "execution_count": 64,
   "id": "d516b5e7-4ab9-48ff-bbab-3225ff52b123",
   "metadata": {},
   "outputs": [
    {
     "name": "stdout",
     "output_type": "stream",
     "text": [
      "User found: {'user_id': '00006', 'user_name': 'SarahWilson', 'first_name': 'Sarah', 'last_name': 'Wilson', 'created_at': '2025-06-11T20:53:48.928579', 'persona': 'steady_believer', 'view': 'christian', 'step': None, 'step_in_progress': False, 'first_sober_date': '2025-06-01'}\n"
     ]
    }
   ],
   "source": [
    "# get user info\n",
    "users = load_users() \n",
    "user = get_user_by_id(user_id, users)\n",
    "if user: \n",
    "    print(f\"User found: {user}\")\n",
    "else:\n",
    "    print(f\"No user found with user_id: {user_id}\")\n",
    "    exit(1)"
   ]
  },
  {
   "cell_type": "code",
   "execution_count": 65,
   "id": "1b8cd630",
   "metadata": {},
   "outputs": [],
   "source": [
    "# Load spiritual profile\n",
    "spiritual_profile_path = Path(\"../context/spiritual_profile/spiritual_profile.json\")\n",
    "if spiritual_profile_path.exists():\n",
    "    with open(spiritual_profile_path, \"r\") as f:\n",
    "        profiles = json.load(f)\n",
    "    user_profile = next((p for p in profiles if p[\"user_id\"] == user_id), None)\n",
    "else:\n",
    "    user_profile = None"
   ]
  },
  {
   "cell_type": "code",
   "execution_count": 66,
   "id": "3757528f-c060-4e0e-92e2-19cfb0dd88d9",
   "metadata": {},
   "outputs": [],
   "source": [
    "from datetime import datetime\n",
    "# store user info to variables. \n",
    "user_id = user['user_id']\n",
    "first_name = user.get('first_name', 'Unknown')\n",
    "last_name = user.get('last_name', 'Unknown')\n",
    "view = user.get('view', 'Unknown')\n",
    "persona = user.get('persona', 'Unknown')\n",
    "step = user.get('step', 'Unknown')\n",
    "step_in_progress = user.get('step_in_progress', 'Unknown')\n",
    "first_sober_date = user.get(\"first_sober_date\")\n",
    "if first_sober_date:\n",
    "    sober_days = (datetime.now() - datetime.strptime(first_sober_date, \"%Y-%m-%d\")).days\n",
    "else:\n",
    "    sober_days = None\n",
    "\n",
    "# store spiritual profile info to variables.\n",
    "openness_level = user_profile['current_profile']['openness_level']\n",
    "higher_power_defined = user_profile['current_profile']['higher_power_defined']\n"
   ]
  },
  {
   "cell_type": "code",
   "execution_count": 67,
   "id": "d9a7cde3",
   "metadata": {},
   "outputs": [
    {
     "name": "stdout",
     "output_type": "stream",
     "text": [
      "00006\n",
      "Sarah\n",
      "Wilson\n",
      "christian\n",
      "steady_believer\n",
      "None\n",
      "False\n",
      "11\n",
      "medium\n",
      "True\n"
     ]
    }
   ],
   "source": [
    "print(user_id)\n",
    "print(first_name)\n",
    "print(last_name)\n",
    "print(view)\n",
    "print(persona)\n",
    "print(step)\n",
    "print(step_in_progress)\n",
    "print(sober_days)\n",
    "print(openness_level)\n",
    "print(higher_power_defined)"
   ]
  },
  {
   "cell_type": "code",
   "execution_count": 69,
   "id": "2754d847",
   "metadata": {},
   "outputs": [
    {
     "name": "stdout",
     "output_type": "stream",
     "text": [
      "Last 3 conversations:\n",
      "\n",
      "Conversation 1:\n",
      "  Summary: Sarah is exploring her relationship with marijuana and is open to discussing spirituality as part of his recovery journey. He feels stuck in achieving his life goals and is curious about how others manage similar situations.\n",
      "  Key Insights: ['Sarah feels marijuana is making him lazy and unproductive.', 'He wants to buy a house and have a family but feels stuck.', 'Sarah is uncertain about being part of a community but is open to exploring spirituality.']\n",
      "  Action Items: ['Explore how faith might support recovery.']\n",
      "  Last Dialogue: [{'role': 'user', 'content': 'i just wanted to check things out'}, {'role': 'sponsor', 'content': \"I'm really glad you decided to check things out today. It's a good first step, and everyone here has taken it at some point. What's your name, if you don’t mind sharing?\"}, {'role': 'user', 'content': 'Sarah'}, {'role': 'sponsor', 'content': \"Hi Sarah, it's really nice to meet you. I'm glad you're here. What brought you to check out Marijuana Anonymous today?\"}, {'role': 'user', 'content': 'smoking too much pot'}, {'role': 'sponsor', 'content': \"Thanks for sharing that, Sarah. It sounds like you're noticing that marijuana is playing a bigger role in your life than you'd like. How long have you been feeling this way?\"}, {'role': 'user', 'content': 'for about a year. more lately'}, {'role': 'sponsor', 'content': \"It's good that you're recognizing this, Sarah. It can be tough to come to terms with how things are changing. What have you noticed lately that's made you want to reach out for help?\"}, {'role': 'user', 'content': 'im procrastinating and just staying at home'}, {'role': 'sponsor', 'content': \"It sounds like you're feeling a bit stuck right now, Sarah. Staying at home and putting things off can really weigh on you after a while. What goals or activities do you find yourself avoiding, and how does that make you feel?\"}, {'role': 'user', 'content': 'i want to buy a house and have a family'}, {'role': 'sponsor', 'content': \"Those are such meaningful goals, Sarah. Wanting to buy a house and have a family shows you're thinking about the future and the kind of life you want to build. How do you see your current situation with marijuana affecting those dreams?\"}, {'role': 'user', 'content': \"i'm really just not doing anything towards them'\"}, {'role': 'sponsor', 'content': \"It sounds like you're feeling a bit stuck in moving towards those dreams, Sarah. Sometimes, it can be overwhelming to know where to start. How do you think your use of marijuana might be playing into this feeling of not making progress?\"}, {'role': 'user', 'content': 'it makes me lazy'}, {'role': 'sponsor', 'content': \"It sounds like you're noticing a connection between your marijuana use and feeling unmotivated, Sarah. That's an important insight. What made you decide to come to Marijuana Anonymous today?\"}, {'role': 'user', 'content': 'i thought i might be an addict and wanted to see what others are doing'}, {'role': 'sponsor', 'content': \"It's great that you're taking this step to explore that, Sarah. Being curious about how others are handling similar situations can be really helpful. How are you feeling about the idea of being part of a community like this?\"}, {'role': 'user', 'content': 'uncertain atm. its a lot'}, {'role': 'sponsor', 'content': \"I completely understand, Sarah. It's normal to feel a bit overwhelmed when you're starting something new. Just know that you're not alone in this, and everyone here is on a similar journey. What do you hope to gain from being here today?\"}, {'role': 'user', 'content': 'hearing how i might get off pot'}, {'role': 'sponsor', 'content': \"That's a good place to start, Sarah. Many people come here looking for ways to change their relationship with marijuana. What does your current use look like, if you don't mind sharing?\"}, {'role': 'user', 'content': 'i smoke daily'}, {'role': 'sponsor', 'content': \"Thanks for sharing that with me, Sarah. It sounds like it's become a regular part of your routine. Have you noticed any particular challenges or changes in your life because of it?\"}, {'role': 'user', 'content': 'like i said i dont get anything done'}, {'role': 'sponsor', 'content': \"It sounds like marijuana might be getting in the way of some things you'd like to accomplish. It's great that you're recognizing that. What kinds of things are you hoping to change or work towards by coming to MA?\"}, {'role': 'user', 'content': 'i thought you were supposed to ask about my spirituallity your just asking the same questions over and over'}, {'role': 'sponsor', 'content': \"I appreciate you letting me know how you're feeling—it's important that this feels like a helpful conversation for you. Spirituality can mean different things to different people, and I'm here to support you at whatever pace feels right. Is there anything specific about spirituality you'd like to explore or talk about today?\"}, {'role': 'user', 'content': 'is it important to marijuana anonymous?'}, {'role': 'sponsor', 'content': \"That's a great question. In Marijuana Anonymous, we often talk about spirituality because it can be a source of strength and guidance in recovery. It's really about finding what works for you personally. Are you open to exploring what spirituality might mean for you, or is there another aspect of recovery you're more focused on right now?\"}, {'role': 'user', 'content': 'im opent to talking about spirituality?'}, {'role': 'sponsor', 'content': \"That's wonderful to hear. Spirituality can be a personal journey, and it's all about finding what resonates with you. Is there a particular aspect of spirituality that you're curious about or would like to explore together?\"}, {'role': 'user', 'content': \"Well im a christian and i dont know why God's not helping me stop\"}, {'role': 'sponsor', 'content': \"I'm really glad you shared that with me. It sounds like your faith is important to you, and it's understandable to feel uncertain about why things aren't changing as quickly as you'd like. Sometimes, the journey of recovery can be about finding different ways to connect with your faith or understanding how it fits into your healing. Would you like to talk more about how your faith has played a role in your life so far or explore how it might support you in this journey?\"}, {'role': 'user', 'content': \"I'm open to that\"}, {'role': 'sponsor', 'content': \"That's great to hear. We can definitely explore how your faith might be a source of strength and guidance for you as we go forward. How has your faith supported you in the past, whether in challenging times or in everyday life?\"}, {'role': 'user', 'content': 'its really helped me all the time but especially in hard times. anyways i have to go, bye'}, {'role': 'sponsor', 'content': \"I'm really glad to hear that your faith has been a source of support for you, especially when things get tough. It sounds like it could be a strong ally in your recovery journey as well. Feel free to reach out anytime you want to continue our conversation. Take care and talk soon!\"}]\n",
      "  Emotional Tone End: more_open\n",
      "  Conversation Type: initial_meeting\n",
      "  Timestamp: 2025-06-11T20:53:48.928579\n",
      "\n",
      "Last 3 cravings conversations:\n"
     ]
    }
   ],
   "source": [
    "# --- Load and summarize previous conversations ---\n",
    "\n",
    "conversations_path = Path(\"../context/conversations/conversations.json\")\n",
    "recent_convos = []\n",
    "recent_cravings_convos = []\n",
    "\n",
    "if conversations_path.exists():\n",
    "    with open(conversations_path, \"r\") as f:\n",
    "        conversations = json.load(f)\n",
    "    # Filter for this user\n",
    "    user_convos = [c for c in conversations if c.get(\"user_id\") == user_id]\n",
    "    # Sort by timestamp (descending, most recent first)\n",
    "    user_convos = sorted(user_convos, key=lambda x: x.get(\"timestamp\", \"\"), reverse=True)\n",
    "    # Last 3 overall conversations\n",
    "    recent_convos = user_convos[:3]\n",
    "    # Last 3 cravings conversations (if any)\n",
    "    cravings_convos = [c for c in user_convos if c.get(\"conversation_type\") == \"cravings\"]\n",
    "    recent_cravings_convos = cravings_convos[:3]\n",
    "else:\n",
    "    print(\"No conversations found.\")\n",
    "\n",
    "def summarize_convos(convos):\n",
    "    summaries = []\n",
    "    for c in convos:\n",
    "        summary = {\n",
    "            \"summary\": c.get(\"conversation_data\", {}).get(\"summary\"),\n",
    "            \"key_insights\": c.get(\"key_insights\"),\n",
    "            \"action_items\": c.get(\"action_items\"),\n",
    "            \"last_dialogue\": c.get(\"conversation_data\", {}).get(\"dialogue\", []),\n",
    "            \"emotional_tone_end\": c.get(\"emotional_tone_end\"),\n",
    "            \"conversation_type\": c.get(\"conversation_type\"),\n",
    "            \"timestamp\": c.get(\"timestamp\")\n",
    "        }\n",
    "        summaries.append(summary)\n",
    "    return summaries\n",
    "\n",
    "# Summaries for last 3 overall conversations\n",
    "recent_convo_summaries = summarize_convos(recent_convos)\n",
    "# Summaries for last 3 cravings conversations\n",
    "recent_cravings_summaries = summarize_convos(recent_cravings_convos)\n",
    "\n",
    "# Example: print summaries for review\n",
    "print(\"Last 3 conversations:\")\n",
    "for i, convo in enumerate(recent_convo_summaries, 1):\n",
    "    print(f\"\\nConversation {i}:\")\n",
    "    print(f\"  Summary: {convo['summary']}\")\n",
    "    print(f\"  Key Insights: {convo['key_insights']}\")\n",
    "    print(f\"  Action Items: {convo['action_items']}\")\n",
    "    print(f\"  Last Dialogue: {convo['last_dialogue']}\")\n",
    "    print(f\"  Emotional Tone End: {convo['emotional_tone_end']}\")\n",
    "    print(f\"  Conversation Type: {convo['conversation_type']}\")\n",
    "    print(f\"  Timestamp: {convo['timestamp']}\")\n",
    "\n",
    "print(\"\\nLast 3 cravings conversations:\")\n",
    "for i, convo in enumerate(recent_cravings_summaries, 1):\n",
    "    print(f\"\\nCravings Conversation {i}:\")\n",
    "    print(f\"  Summary: {convo['summary']}\")\n",
    "    print(f\"  Key Insights: {convo['key_insights']}\")\n",
    "    print(f\"  Action Items: {convo['action_items']}\")\n",
    "    print(f\"  Last Dialogue: {convo['last_dialogue']}\")\n",
    "    print(f\"  Emotional Tone End: {convo['emotional_tone_end']}\")\n",
    "    print(f\"  Conversation Type: {convo['conversation_type']}\")\n",
    "    print(f\"  Timestamp: {convo['timestamp']}\")"
   ]
  },
  {
   "cell_type": "code",
   "execution_count": 71,
   "id": "ceb95a9c",
   "metadata": {},
   "outputs": [
    {
     "data": {
      "text/plain": [
       "[{'summary': 'Sarah is exploring her relationship with marijuana and is open to discussing spirituality as part of his recovery journey. He feels stuck in achieving his life goals and is curious about how others manage similar situations.',\n",
       "  'key_insights': ['Sarah feels marijuana is making him lazy and unproductive.',\n",
       "   'He wants to buy a house and have a family but feels stuck.',\n",
       "   'Sarah is uncertain about being part of a community but is open to exploring spirituality.'],\n",
       "  'action_items': ['Explore how faith might support recovery.'],\n",
       "  'last_dialogue': [{'role': 'user',\n",
       "    'content': 'i just wanted to check things out'},\n",
       "   {'role': 'sponsor',\n",
       "    'content': \"I'm really glad you decided to check things out today. It's a good first step, and everyone here has taken it at some point. What's your name, if you don’t mind sharing?\"},\n",
       "   {'role': 'user', 'content': 'Sarah'},\n",
       "   {'role': 'sponsor',\n",
       "    'content': \"Hi Sarah, it's really nice to meet you. I'm glad you're here. What brought you to check out Marijuana Anonymous today?\"},\n",
       "   {'role': 'user', 'content': 'smoking too much pot'},\n",
       "   {'role': 'sponsor',\n",
       "    'content': \"Thanks for sharing that, Sarah. It sounds like you're noticing that marijuana is playing a bigger role in your life than you'd like. How long have you been feeling this way?\"},\n",
       "   {'role': 'user', 'content': 'for about a year. more lately'},\n",
       "   {'role': 'sponsor',\n",
       "    'content': \"It's good that you're recognizing this, Sarah. It can be tough to come to terms with how things are changing. What have you noticed lately that's made you want to reach out for help?\"},\n",
       "   {'role': 'user', 'content': 'im procrastinating and just staying at home'},\n",
       "   {'role': 'sponsor',\n",
       "    'content': \"It sounds like you're feeling a bit stuck right now, Sarah. Staying at home and putting things off can really weigh on you after a while. What goals or activities do you find yourself avoiding, and how does that make you feel?\"},\n",
       "   {'role': 'user', 'content': 'i want to buy a house and have a family'},\n",
       "   {'role': 'sponsor',\n",
       "    'content': \"Those are such meaningful goals, Sarah. Wanting to buy a house and have a family shows you're thinking about the future and the kind of life you want to build. How do you see your current situation with marijuana affecting those dreams?\"},\n",
       "   {'role': 'user',\n",
       "    'content': \"i'm really just not doing anything towards them'\"},\n",
       "   {'role': 'sponsor',\n",
       "    'content': \"It sounds like you're feeling a bit stuck in moving towards those dreams, Sarah. Sometimes, it can be overwhelming to know where to start. How do you think your use of marijuana might be playing into this feeling of not making progress?\"},\n",
       "   {'role': 'user', 'content': 'it makes me lazy'},\n",
       "   {'role': 'sponsor',\n",
       "    'content': \"It sounds like you're noticing a connection between your marijuana use and feeling unmotivated, Sarah. That's an important insight. What made you decide to come to Marijuana Anonymous today?\"},\n",
       "   {'role': 'user',\n",
       "    'content': 'i thought i might be an addict and wanted to see what others are doing'},\n",
       "   {'role': 'sponsor',\n",
       "    'content': \"It's great that you're taking this step to explore that, Sarah. Being curious about how others are handling similar situations can be really helpful. How are you feeling about the idea of being part of a community like this?\"},\n",
       "   {'role': 'user', 'content': 'uncertain atm. its a lot'},\n",
       "   {'role': 'sponsor',\n",
       "    'content': \"I completely understand, Sarah. It's normal to feel a bit overwhelmed when you're starting something new. Just know that you're not alone in this, and everyone here is on a similar journey. What do you hope to gain from being here today?\"},\n",
       "   {'role': 'user', 'content': 'hearing how i might get off pot'},\n",
       "   {'role': 'sponsor',\n",
       "    'content': \"That's a good place to start, Sarah. Many people come here looking for ways to change their relationship with marijuana. What does your current use look like, if you don't mind sharing?\"},\n",
       "   {'role': 'user', 'content': 'i smoke daily'},\n",
       "   {'role': 'sponsor',\n",
       "    'content': \"Thanks for sharing that with me, Sarah. It sounds like it's become a regular part of your routine. Have you noticed any particular challenges or changes in your life because of it?\"},\n",
       "   {'role': 'user', 'content': 'like i said i dont get anything done'},\n",
       "   {'role': 'sponsor',\n",
       "    'content': \"It sounds like marijuana might be getting in the way of some things you'd like to accomplish. It's great that you're recognizing that. What kinds of things are you hoping to change or work towards by coming to MA?\"},\n",
       "   {'role': 'user',\n",
       "    'content': 'i thought you were supposed to ask about my spirituallity your just asking the same questions over and over'},\n",
       "   {'role': 'sponsor',\n",
       "    'content': \"I appreciate you letting me know how you're feeling—it's important that this feels like a helpful conversation for you. Spirituality can mean different things to different people, and I'm here to support you at whatever pace feels right. Is there anything specific about spirituality you'd like to explore or talk about today?\"},\n",
       "   {'role': 'user', 'content': 'is it important to marijuana anonymous?'},\n",
       "   {'role': 'sponsor',\n",
       "    'content': \"That's a great question. In Marijuana Anonymous, we often talk about spirituality because it can be a source of strength and guidance in recovery. It's really about finding what works for you personally. Are you open to exploring what spirituality might mean for you, or is there another aspect of recovery you're more focused on right now?\"},\n",
       "   {'role': 'user', 'content': 'im opent to talking about spirituality?'},\n",
       "   {'role': 'sponsor',\n",
       "    'content': \"That's wonderful to hear. Spirituality can be a personal journey, and it's all about finding what resonates with you. Is there a particular aspect of spirituality that you're curious about or would like to explore together?\"},\n",
       "   {'role': 'user',\n",
       "    'content': \"Well im a christian and i dont know why God's not helping me stop\"},\n",
       "   {'role': 'sponsor',\n",
       "    'content': \"I'm really glad you shared that with me. It sounds like your faith is important to you, and it's understandable to feel uncertain about why things aren't changing as quickly as you'd like. Sometimes, the journey of recovery can be about finding different ways to connect with your faith or understanding how it fits into your healing. Would you like to talk more about how your faith has played a role in your life so far or explore how it might support you in this journey?\"},\n",
       "   {'role': 'user', 'content': \"I'm open to that\"},\n",
       "   {'role': 'sponsor',\n",
       "    'content': \"That's great to hear. We can definitely explore how your faith might be a source of strength and guidance for you as we go forward. How has your faith supported you in the past, whether in challenging times or in everyday life?\"},\n",
       "   {'role': 'user',\n",
       "    'content': 'its really helped me all the time but especially in hard times. anyways i have to go, bye'},\n",
       "   {'role': 'sponsor',\n",
       "    'content': \"I'm really glad to hear that your faith has been a source of support for you, especially when things get tough. It sounds like it could be a strong ally in your recovery journey as well. Feel free to reach out anytime you want to continue our conversation. Take care and talk soon!\"}],\n",
       "  'emotional_tone_end': 'more_open',\n",
       "  'conversation_type': 'initial_meeting',\n",
       "  'timestamp': '2025-06-11T20:53:48.928579'}]"
      ]
     },
     "execution_count": 71,
     "metadata": {},
     "output_type": "execute_result"
    }
   ],
   "source": [
    "recent_convo_summaries"
   ]
  },
  {
   "cell_type": "code",
   "execution_count": 72,
   "id": "6af553b4",
   "metadata": {},
   "outputs": [],
   "source": [
    "# Format summaries and key insights for the prompt\n",
    "summaries_text = \"\\n\".join(\n",
    "    [f\"- {c['summary']}\" for c in recent_convo_summaries if c['summary']]\n",
    ")\n",
    "key_insights_text = \"\\n\".join(\n",
    "    [f\"- {insight}\" for c in recent_convo_summaries for insight in (c['key_insights'] or [])]\n",
    ")"
   ]
  },
  {
   "cell_type": "code",
   "execution_count": 73,
   "id": "fb7fad4c",
   "metadata": {},
   "outputs": [
    {
     "data": {
      "text/plain": [
       "'- Sarah is exploring her relationship with marijuana and is open to discussing spirituality as part of his recovery journey. He feels stuck in achieving his life goals and is curious about how others manage similar situations.'"
      ]
     },
     "execution_count": 73,
     "metadata": {},
     "output_type": "execute_result"
    }
   ],
   "source": [
    "summaries_text"
   ]
  },
  {
   "cell_type": "code",
   "execution_count": 75,
   "id": "8d53e902",
   "metadata": {},
   "outputs": [
    {
     "data": {
      "text/plain": [
       "'- Sarah feels marijuana is making him lazy and unproductive.\\n- He wants to buy a house and have a family but feels stuck.\\n- Sarah is uncertain about being part of a community but is open to exploring spirituality.'"
      ]
     },
     "execution_count": 75,
     "metadata": {},
     "output_type": "execute_result"
    }
   ],
   "source": [
    "key_insights_text"
   ]
  },
  {
   "cell_type": "code",
   "execution_count": null,
   "id": "c6a4e344",
   "metadata": {},
   "outputs": [],
   "source": []
  }
 ],
 "metadata": {
  "kernelspec": {
   "display_name": "Python 3 (ipykernel)",
   "language": "python",
   "name": "python3"
  },
  "language_info": {
   "codemirror_mode": {
    "name": "ipython",
    "version": 3
   },
   "file_extension": ".py",
   "mimetype": "text/x-python",
   "name": "python",
   "nbconvert_exporter": "python",
   "pygments_lexer": "ipython3",
   "version": "3.12.1"
  }
 },
 "nbformat": 4,
 "nbformat_minor": 5
}
