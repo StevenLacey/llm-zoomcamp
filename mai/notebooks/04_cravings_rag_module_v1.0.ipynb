{
 "cells": [
  {
   "cell_type": "code",
   "execution_count": null,
   "id": "203b558c",
   "metadata": {},
   "outputs": [],
   "source": [
    "import json\n",
    "from pathlib import Path"
   ]
  },
  {
   "cell_type": "code",
   "execution_count": null,
   "id": "8d919979",
   "metadata": {},
   "outputs": [],
   "source": [
    "# Path to users.json\n",
    "users_path = Path(\"../context/users/users.json\")"
   ]
  },
  {
   "cell_type": "code",
   "execution_count": null,
   "id": "0cf90930",
   "metadata": {},
   "outputs": [],
   "source": [
    "def load_users():\n",
    "    if users_path.exists():\n",
    "        with open(users_path, \"r\") as f:\n",
    "            return json.load(f)\n",
    "    return []"
   ]
  },
  {
   "cell_type": "code",
   "execution_count": null,
   "id": "eb48b7b0",
   "metadata": {},
   "outputs": [],
   "source": [
    "def get_user_by_id(user_id, users):\n",
    "    for user in users:\n",
    "        if user.get(\"user_id\") == user_id:\n",
    "            return user\n",
    "    return None"
   ]
  },
  {
   "cell_type": "code",
   "execution_count": null,
   "id": "e6200b78",
   "metadata": {},
   "outputs": [],
   "source": [
    "# Input user_id and load user info\n",
    "user_id = input(\"Enter your user_id: \").strip()\n",
    "users = load_users()\n",
    "user = get_user_by_id(user_id, users)\n",
    "\n",
    "if user:\n",
    "    print(f\"User found: {user}\")\n",
    "else:\n",
    "    print(\"User not found.\")"
   ]
  }
 ],
 "metadata": {
  "kernelspec": {
   "display_name": "Python 3 (ipykernel)",
   "language": "python",
   "name": "python3"
  },
  "language_info": {
   "codemirror_mode": {
    "name": "ipython",
    "version": 3
   },
   "file_extension": ".py",
   "mimetype": "text/x-python",
   "name": "python",
   "nbconvert_exporter": "python",
   "pygments_lexer": "ipython3",
   "version": "3.12.1"
  }
 },
 "nbformat": 4,
 "nbformat_minor": 5
}
