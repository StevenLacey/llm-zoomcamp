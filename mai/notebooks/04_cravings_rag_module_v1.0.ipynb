{
 "cells": [
  {
   "cell_type": "markdown",
   "id": "d17e0405",
   "metadata": {},
   "source": [
    "# Marijuana Anonymous Cravings Support RAG Pipeline v1.0\n",
    "\n",
    "This notebook implements a Retrieval-Augmented Generation (RAG) pipeline for supporting Marijuana Anonymous users with cravings.  \n",
    "It manages user profiles, tracks sponsor persona, logs conversations, and updates user and spiritual profile data."
   ]
  },
  {
   "cell_type": "code",
   "execution_count": 1,
   "id": "203b558c",
   "metadata": {},
   "outputs": [
    {
     "name": "stderr",
     "output_type": "stream",
     "text": [
      "/usr/local/python/3.12.1/lib/python3.12/site-packages/tqdm/auto.py:21: TqdmWarning: IProgress not found. Please update jupyter and ipywidgets. See https://ipywidgets.readthedocs.io/en/stable/user_install.html\n",
      "  from .autonotebook import tqdm as notebook_tqdm\n"
     ]
    }
   ],
   "source": [
    "import json\n",
    "from pathlib import Path\n",
    "from openai import OpenAI\n",
    "from dotenv import load_dotenv\n",
    "import os\n",
    "from openai import OpenAI\n",
    "load_dotenv()\n",
    "client = OpenAI(api_key=os.getenv(\"OPENAI_API_KEY\")) # Get Key from Env (ignored in git) \n",
    "client = OpenAI()\n",
    "from elasticsearch import Elasticsearch\n",
    "es_client = Elasticsearch('http://localhost:9200')\n",
    "from tqdm.auto import tqdm"
   ]
  },
  {
   "cell_type": "markdown",
   "id": "acc2d508",
   "metadata": {},
   "source": [
    "## 1. Load User Data\n",
    "\n",
    "Load user information from `users.json` and prompt for user ID."
   ]
  },
  {
   "cell_type": "code",
   "execution_count": 2,
   "id": "8d919979",
   "metadata": {},
   "outputs": [],
   "source": [
    "# Path to users.json\n",
    "users_path = Path(\"../context/users/users.json\")"
   ]
  },
  {
   "cell_type": "code",
   "execution_count": 3,
   "id": "f413038a",
   "metadata": {},
   "outputs": [],
   "source": [
    "# initialize current conversation history\n",
    "current_conversation_history = []"
   ]
  },
  {
   "cell_type": "code",
   "execution_count": 4,
   "id": "0cf90930",
   "metadata": {},
   "outputs": [],
   "source": [
    "def load_users():\n",
    "    if users_path.exists():\n",
    "        with open(users_path, \"r\") as f:\n",
    "            return json.load(f)\n",
    "    return []"
   ]
  },
  {
   "cell_type": "code",
   "execution_count": 5,
   "id": "eb48b7b0",
   "metadata": {},
   "outputs": [],
   "source": [
    "def get_user_by_id(user_id, users):\n",
    "    for user in users:\n",
    "        if user.get(\"user_id\") == user_id:\n",
    "            return user\n",
    "    return None"
   ]
  },
  {
   "cell_type": "code",
   "execution_count": 6,
   "id": "6118cbf0",
   "metadata": {},
   "outputs": [],
   "source": [
    "#get user id\n",
    "user_id = input(\"Enter your user_id: \").strip()"
   ]
  },
  {
   "cell_type": "code",
   "execution_count": 7,
   "id": "d516b5e7-4ab9-48ff-bbab-3225ff52b123",
   "metadata": {},
   "outputs": [
    {
     "name": "stdout",
     "output_type": "stream",
     "text": [
      "User found: {'user_id': '00006', 'user_name': 'SarahWilson', 'first_name': 'Sarah', 'last_name': 'Wilson', 'created_at': '2025-06-11T20:53:48.928579', 'persona': 'steady_believer', 'view': 'christian', 'step': None, 'step_in_progress': False, 'first_sober_date': '2025-06-01', 'openness_level': 'high', 'last_updated': '2025-06-12T19:25:28.089863'}\n"
     ]
    }
   ],
   "source": [
    "# get user info\n",
    "users = load_users() \n",
    "user = get_user_by_id(user_id, users)\n",
    "if user: \n",
    "    print(f\"User found: {user}\")\n",
    "else:\n",
    "    print(f\"No user found with user_id: {user_id}\")\n",
    "    exit(1)"
   ]
  },
  {
   "cell_type": "markdown",
   "id": "3b74672f",
   "metadata": {},
   "source": [
    "## 2. Load Spiritual Profile\n",
    "\n",
    "Load the user's spiritual profile from `spiritual_profile.json`."
   ]
  },
  {
   "cell_type": "code",
   "execution_count": 8,
   "id": "1b8cd630",
   "metadata": {},
   "outputs": [],
   "source": [
    "# Load spiritual profile\n",
    "spiritual_profile_path = Path(\"../context/spiritual_profile/spiritual_profile.json\")\n",
    "if spiritual_profile_path.exists():\n",
    "    with open(spiritual_profile_path, \"r\") as f:\n",
    "        profiles = json.load(f)\n",
    "    user_profile = next((p for p in profiles if p[\"user_id\"] == user_id), None)\n",
    "else:\n",
    "    user_profile = None"
   ]
  },
  {
   "cell_type": "markdown",
   "id": "232604ab",
   "metadata": {},
   "source": [
    "## 3. Load Sponsor Persona Info\n",
    "## 4. Store user, spiritual profile, and persona in Variables"
   ]
  },
  {
   "cell_type": "code",
   "execution_count": 9,
   "id": "3757528f-c060-4e0e-92e2-19cfb0dd88d9",
   "metadata": {},
   "outputs": [],
   "source": [
    "from datetime import datetime\n",
    "# store user info to variables. \n",
    "user_id = user['user_id']\n",
    "first_name = user.get('first_name', 'Unknown')\n",
    "last_name = user.get('last_name', 'Unknown')\n",
    "view = user.get('view', 'Unknown')\n",
    "persona = user.get('persona', 'Unknown')\n",
    "step = user.get('step', 'Unknown')\n",
    "step_in_progress = user.get('step_in_progress', 'Unknown')\n",
    "first_sober_date = user.get(\"first_sober_date\")\n",
    "if first_sober_date:\n",
    "    sober_days = (datetime.now() - datetime.strptime(first_sober_date, \"%Y-%m-%d\")).days\n",
    "else:\n",
    "    sober_days = None\n",
    "\n",
    "# store spiritual profile info to variables.\n",
    "openness_level = user_profile['current_profile']['openness_level']\n",
    "higher_power_defined = user_profile['current_profile']['higher_power_defined']\n",
    "\n",
    "# Store sponsor persona info to variables.\n",
    "persona_path = Path(\"../context/personas/personas.json\")\n",
    "if persona_path.exists():\n",
    "    with open(persona_path, \"r\") as f:\n",
    "        personas = json.load(f)\n",
    "    persona_info = next((p for p in personas if p[\"persona_id\"] == persona), None)\n",
    "else:\n",
    "    persona_info = None\n",
    "\n",
    "persona_name = persona_info.get('name', 'No persona name available') if persona_info else 'No persona information available'\n",
    "persona_description = persona_info.get('description', 'No description available') if persona_info else 'No persona information available'\n",
    "perona_language_style = persona_info.get('language_style', 'No language style available') if persona_info else 'No persona information available'"
   ]
  },
  {
   "cell_type": "code",
   "execution_count": 10,
   "id": "d9a7cde3",
   "metadata": {},
   "outputs": [
    {
     "name": "stdout",
     "output_type": "stream",
     "text": [
      "00006\n",
      "Sarah\n",
      "Wilson\n",
      "christian\n",
      "steady_believer\n",
      "None\n",
      "False\n",
      "12\n",
      "high\n",
      "True\n",
      "Steady Believer\n",
      "Faith-driven, emotionally expressive, trusts spiritual authority\n",
      "Warm, scriptural, relational\n"
     ]
    }
   ],
   "source": [
    "print(user_id)\n",
    "print(first_name)\n",
    "print(last_name)\n",
    "print(view)\n",
    "print(persona)\n",
    "print(step)\n",
    "print(step_in_progress)\n",
    "print(sober_days)\n",
    "print(openness_level)\n",
    "print(higher_power_defined)\n",
    "print(persona_name)\n",
    "print(persona_description)\n",
    "print(perona_language_style)"
   ]
  },
  {
   "cell_type": "markdown",
   "id": "23004fd8",
   "metadata": {},
   "source": [
    "## 4. Load Previous Conversations and Summarize\n",
    "\n",
    "Load previous conversations for the user and summarize recent activity."
   ]
  },
  {
   "cell_type": "code",
   "execution_count": 11,
   "id": "2754d847",
   "metadata": {},
   "outputs": [
    {
     "name": "stdout",
     "output_type": "stream",
     "text": [
      "Last 3 conversations:\n",
      "\n",
      "Conversation 1:\n",
      "  Summary: Sarah is exploring her relationship with marijuana and is open to discussing spirituality as part of his recovery journey. He feels stuck in achieving his life goals and is curious about how others manage similar situations.\n",
      "  Key Insights: ['Sarah feels marijuana is making him lazy and unproductive.', 'He wants to buy a house and have a family but feels stuck.', 'Sarah is uncertain about being part of a community but is open to exploring spirituality.']\n",
      "  Action Items: ['Explore how faith might support recovery.']\n",
      "  Last Dialogue: [{'role': 'user', 'content': 'i just wanted to check things out'}, {'role': 'sponsor', 'content': \"I'm really glad you decided to check things out today. It's a good first step, and everyone here has taken it at some point. What's your name, if you don’t mind sharing?\"}, {'role': 'user', 'content': 'Sarah'}, {'role': 'sponsor', 'content': \"Hi Sarah, it's really nice to meet you. I'm glad you're here. What brought you to check out Marijuana Anonymous today?\"}, {'role': 'user', 'content': 'smoking too much pot'}, {'role': 'sponsor', 'content': \"Thanks for sharing that, Sarah. It sounds like you're noticing that marijuana is playing a bigger role in your life than you'd like. How long have you been feeling this way?\"}, {'role': 'user', 'content': 'for about a year. more lately'}, {'role': 'sponsor', 'content': \"It's good that you're recognizing this, Sarah. It can be tough to come to terms with how things are changing. What have you noticed lately that's made you want to reach out for help?\"}, {'role': 'user', 'content': 'im procrastinating and just staying at home'}, {'role': 'sponsor', 'content': \"It sounds like you're feeling a bit stuck right now, Sarah. Staying at home and putting things off can really weigh on you after a while. What goals or activities do you find yourself avoiding, and how does that make you feel?\"}, {'role': 'user', 'content': 'i want to buy a house and have a family'}, {'role': 'sponsor', 'content': \"Those are such meaningful goals, Sarah. Wanting to buy a house and have a family shows you're thinking about the future and the kind of life you want to build. How do you see your current situation with marijuana affecting those dreams?\"}, {'role': 'user', 'content': \"i'm really just not doing anything towards them'\"}, {'role': 'sponsor', 'content': \"It sounds like you're feeling a bit stuck in moving towards those dreams, Sarah. Sometimes, it can be overwhelming to know where to start. How do you think your use of marijuana might be playing into this feeling of not making progress?\"}, {'role': 'user', 'content': 'it makes me lazy'}, {'role': 'sponsor', 'content': \"It sounds like you're noticing a connection between your marijuana use and feeling unmotivated, Sarah. That's an important insight. What made you decide to come to Marijuana Anonymous today?\"}, {'role': 'user', 'content': 'i thought i might be an addict and wanted to see what others are doing'}, {'role': 'sponsor', 'content': \"It's great that you're taking this step to explore that, Sarah. Being curious about how others are handling similar situations can be really helpful. How are you feeling about the idea of being part of a community like this?\"}, {'role': 'user', 'content': 'uncertain atm. its a lot'}, {'role': 'sponsor', 'content': \"I completely understand, Sarah. It's normal to feel a bit overwhelmed when you're starting something new. Just know that you're not alone in this, and everyone here is on a similar journey. What do you hope to gain from being here today?\"}, {'role': 'user', 'content': 'hearing how i might get off pot'}, {'role': 'sponsor', 'content': \"That's a good place to start, Sarah. Many people come here looking for ways to change their relationship with marijuana. What does your current use look like, if you don't mind sharing?\"}, {'role': 'user', 'content': 'i smoke daily'}, {'role': 'sponsor', 'content': \"Thanks for sharing that with me, Sarah. It sounds like it's become a regular part of your routine. Have you noticed any particular challenges or changes in your life because of it?\"}, {'role': 'user', 'content': 'like i said i dont get anything done'}, {'role': 'sponsor', 'content': \"It sounds like marijuana might be getting in the way of some things you'd like to accomplish. It's great that you're recognizing that. What kinds of things are you hoping to change or work towards by coming to MA?\"}, {'role': 'user', 'content': 'i thought you were supposed to ask about my spirituallity your just asking the same questions over and over'}, {'role': 'sponsor', 'content': \"I appreciate you letting me know how you're feeling—it's important that this feels like a helpful conversation for you. Spirituality can mean different things to different people, and I'm here to support you at whatever pace feels right. Is there anything specific about spirituality you'd like to explore or talk about today?\"}, {'role': 'user', 'content': 'is it important to marijuana anonymous?'}, {'role': 'sponsor', 'content': \"That's a great question. In Marijuana Anonymous, we often talk about spirituality because it can be a source of strength and guidance in recovery. It's really about finding what works for you personally. Are you open to exploring what spirituality might mean for you, or is there another aspect of recovery you're more focused on right now?\"}, {'role': 'user', 'content': 'im opent to talking about spirituality?'}, {'role': 'sponsor', 'content': \"That's wonderful to hear. Spirituality can be a personal journey, and it's all about finding what resonates with you. Is there a particular aspect of spirituality that you're curious about or would like to explore together?\"}, {'role': 'user', 'content': \"Well im a christian and i dont know why God's not helping me stop\"}, {'role': 'sponsor', 'content': \"I'm really glad you shared that with me. It sounds like your faith is important to you, and it's understandable to feel uncertain about why things aren't changing as quickly as you'd like. Sometimes, the journey of recovery can be about finding different ways to connect with your faith or understanding how it fits into your healing. Would you like to talk more about how your faith has played a role in your life so far or explore how it might support you in this journey?\"}, {'role': 'user', 'content': \"I'm open to that\"}, {'role': 'sponsor', 'content': \"That's great to hear. We can definitely explore how your faith might be a source of strength and guidance for you as we go forward. How has your faith supported you in the past, whether in challenging times or in everyday life?\"}, {'role': 'user', 'content': 'its really helped me all the time but especially in hard times. anyways i have to go, bye'}, {'role': 'sponsor', 'content': \"I'm really glad to hear that your faith has been a source of support for you, especially when things get tough. It sounds like it could be a strong ally in your recovery journey as well. Feel free to reach out anytime you want to continue our conversation. Take care and talk soon!\"}]\n",
      "  Emotional Tone End: more_open\n",
      "  Conversation Type: initial_meeting\n",
      "  Timestamp: 2025-06-11T20:53:48.928579\n",
      "\n",
      "Last 3 cravings conversations:\n"
     ]
    }
   ],
   "source": [
    "# --- Load and summarize previous conversations ---\n",
    "\n",
    "conversations_path = Path(\"../context/conversations/conversations.json\")\n",
    "recent_convos = []\n",
    "recent_cravings_convos = []\n",
    "\n",
    "if conversations_path.exists():\n",
    "    with open(conversations_path, \"r\") as f:\n",
    "        conversations = json.load(f)\n",
    "    # Filter for this user\n",
    "    user_convos = [c for c in conversations if c.get(\"user_id\") == user_id]\n",
    "    # Sort by timestamp (descending, most recent first)\n",
    "    user_convos = sorted(user_convos, key=lambda x: x.get(\"timestamp\", \"\"), reverse=True)\n",
    "    # Last 3 overall conversations\n",
    "    recent_convos = user_convos[:3]\n",
    "    # Last 3 cravings conversations (if any)\n",
    "    cravings_convos = [c for c in user_convos if c.get(\"conversation_type\") == \"cravings\"]\n",
    "    recent_cravings_convos = cravings_convos[:3]\n",
    "else:\n",
    "    print(\"No conversations found.\")\n",
    "\n",
    "def summarize_convos(convos):\n",
    "    summaries = []\n",
    "    for c in convos:\n",
    "        summary = {\n",
    "            \"summary\": c.get(\"conversation_data\", {}).get(\"summary\"),\n",
    "            \"key_insights\": c.get(\"key_insights\"),\n",
    "            \"action_items\": c.get(\"action_items\"),\n",
    "            \"last_dialogue\": c.get(\"conversation_data\", {}).get(\"dialogue\", []),\n",
    "            \"emotional_tone_end\": c.get(\"emotional_tone_end\"),\n",
    "            \"conversation_type\": c.get(\"conversation_type\"),\n",
    "            \"timestamp\": c.get(\"timestamp\")\n",
    "        }\n",
    "        summaries.append(summary)\n",
    "    return summaries\n",
    "\n",
    "# Summaries for last 3 overall conversations\n",
    "recent_convo_summaries = summarize_convos(recent_convos)\n",
    "# Summaries for last 3 cravings conversations\n",
    "recent_cravings_summaries = summarize_convos(recent_cravings_convos)\n",
    "\n",
    "# Example: print summaries for review\n",
    "print(\"Last 3 conversations:\")\n",
    "for i, convo in enumerate(recent_convo_summaries, 1):\n",
    "    print(f\"\\nConversation {i}:\")\n",
    "    print(f\"  Summary: {convo['summary']}\")\n",
    "    print(f\"  Key Insights: {convo['key_insights']}\")\n",
    "    print(f\"  Action Items: {convo['action_items']}\")\n",
    "    print(f\"  Last Dialogue: {convo['last_dialogue']}\")\n",
    "    print(f\"  Emotional Tone End: {convo['emotional_tone_end']}\")\n",
    "    print(f\"  Conversation Type: {convo['conversation_type']}\")\n",
    "    print(f\"  Timestamp: {convo['timestamp']}\")\n",
    "\n",
    "print(\"\\nLast 3 cravings conversations:\")\n",
    "for i, convo in enumerate(recent_cravings_summaries, 1):\n",
    "    print(f\"\\nCravings Conversation {i}:\")\n",
    "    print(f\"  Summary: {convo['summary']}\")\n",
    "    print(f\"  Key Insights: {convo['key_insights']}\")\n",
    "    print(f\"  Action Items: {convo['action_items']}\")\n",
    "    print(f\"  Last Dialogue: {convo['last_dialogue']}\")\n",
    "    print(f\"  Emotional Tone End: {convo['emotional_tone_end']}\")\n",
    "    print(f\"  Conversation Type: {convo['conversation_type']}\")\n",
    "    print(f\"  Timestamp: {convo['timestamp']}\")"
   ]
  },
  {
   "cell_type": "code",
   "execution_count": 12,
   "id": "6af553b4",
   "metadata": {},
   "outputs": [],
   "source": [
    "# Format summaries and key insights for the prompt\n",
    "summaries_text = \"\\n\".join(\n",
    "    [f\"- {c['summary']}\" for c in recent_convo_summaries if c['summary']]\n",
    ")\n",
    "key_insights_text = \"\\n\".join(\n",
    "    [f\"- {insight}\" for c in recent_convo_summaries for insight in (c['key_insights'] or [])]\n",
    ")"
   ]
  },
  {
   "cell_type": "markdown",
   "id": "1fcad3fe",
   "metadata": {},
   "source": [
    "## 5. Format User, Persona, and Conversation Info for Prompt\n",
    "\n",
    "Prepare user info, persona description, and recent conversation summaries for use in the LLM prompt."
   ]
  },
  {
   "cell_type": "code",
   "execution_count": 13,
   "id": "88a49eec",
   "metadata": {},
   "outputs": [],
   "source": [
    "# Format user info for the prompt\n",
    "user_info_text = f\"\"\"\n",
    "User Info:\n",
    "- Name: {first_name} {last_name}\n",
    "- Spiritual View: {view}\n",
    "- Step: {step} (In Progress: {step_in_progress})\n",
    "- Sober Days: {sober_days}\n",
    "- Openness Level: {openness_level}\n",
    "- Higher Power Defined: {higher_power_defined}\n",
    "\"\"\"\n",
    "\n",
    "# Format persona info for the prompt\n",
    "persona_text = f\"\"\"\n",
    "AI Sponsor Persona: {persona}\n",
    "{persona_description}\n",
    "\"\"\"\n",
    "\n",
    "# Format recent conversation summaries and key insights\n",
    "recent_summaries_text = \"\\n\".join(\n",
    "    [f\"- {c['summary']}\" for c in recent_convo_summaries if c['summary']]\n",
    ")\n",
    "recent_key_insights_text = \"\\n\".join(\n",
    "    [f\"- {insight}\" for c in recent_convo_summaries for insight in (c['key_insights'] or [])]\n",
    ")"
   ]
  },
  {
   "cell_type": "code",
   "execution_count": 14,
   "id": "ea8196bd",
   "metadata": {},
   "outputs": [
    {
     "name": "stdout",
     "output_type": "stream",
     "text": [
      "\n",
      "User Info:\n",
      "- Name: Sarah Wilson\n",
      "- Spiritual View: christian\n",
      "- Step: None (In Progress: False)\n",
      "- Sober Days: 12\n",
      "- Openness Level: high\n",
      "- Higher Power Defined: True\n",
      "\n",
      "\n",
      "AI Sponsor Persona: steady_believer\n",
      "Faith-driven, emotionally expressive, trusts spiritual authority\n",
      "\n",
      "- Sarah is exploring her relationship with marijuana and is open to discussing spirituality as part of his recovery journey. He feels stuck in achieving his life goals and is curious about how others manage similar situations.\n",
      "- Sarah feels marijuana is making him lazy and unproductive.\n",
      "- He wants to buy a house and have a family but feels stuck.\n",
      "- Sarah is uncertain about being part of a community but is open to exploring spirituality.\n"
     ]
    }
   ],
   "source": [
    "print(user_info_text)\n",
    "print(persona_text)\n",
    "print(recent_summaries_text)\n",
    "print(recent_key_insights_text)"
   ]
  },
  {
   "cell_type": "markdown",
   "id": "f19a82c0",
   "metadata": {},
   "source": [
    "## 6. Elasticsearch Setup\n",
    "\n",
    "Configure Elasticsearch index and ingest MA literature and stories for retrieval.\n"
   ]
  },
  {
   "cell_type": "code",
   "execution_count": 15,
   "id": "a28b1b78",
   "metadata": {},
   "outputs": [],
   "source": [
    "# Define index name and mapping\n",
    "index_name = \"cravings-support\"\n",
    "index_settings = {\n",
    "    \"settings\": {\"number_of_shards\": 1, \"number_of_replicas\": 0},\n",
    "    \"mappings\": {\n",
    "        \"properties\": {\n",
    "            \"source\": {\"type\": \"keyword\"},\n",
    "            \"title\": {\"type\": \"text\"},\n",
    "            \"tags\": {\"type\": \"keyword\"},\n",
    "            \"text\": {\"type\": \"text\"},\n",
    "            \"step_number\": {\"type\": \"integer\"},\n",
    "            \"conversation_types\": {\"type\": \"keyword\"}\n",
    "        }\n",
    "    }\n",
    "}\n"
   ]
  },
  {
   "cell_type": "code",
   "execution_count": 16,
   "id": "127ab06f",
   "metadata": {},
   "outputs": [],
   "source": [
    "# Create index (ignore error if exists)\n",
    "if not es_client.indices.exists(index=index_name):\n",
    "    es_client.indices.create(index=index_name, body=index_settings)\n",
    "\n",
    "docs_to_index = []"
   ]
  },
  {
   "cell_type": "code",
   "execution_count": 17,
   "id": "8ec2db5b",
   "metadata": {},
   "outputs": [],
   "source": [
    "# --- Doctors Opinion ---\n",
    "doctors_path = Path(\"../context/doctors_opinion/doctors_opinion.json\")\n",
    "if doctors_path.exists():\n",
    "    with open(doctors_path, \"r\") as f:\n",
    "        doc_opinion = json.load(f)\n",
    "    for section in doc_opinion.get(\"content_sections\", []):\n",
    "        docs_to_index.append({\n",
    "            \"source\": \"doctor_opinion\",\n",
    "            \"title\": section.get(\"title\"),\n",
    "            \"tags\": section.get(\"tags\", []),\n",
    "            \"text\": section.get(\"text\"),\n",
    "            \"conversation_types\": section.get(\"conversation_types\", []),\n",
    "        })"
   ]
  },
  {
   "cell_type": "code",
   "execution_count": 18,
   "id": "f56dd488",
   "metadata": {},
   "outputs": [],
   "source": [
    "# --- MA Personal Stories ---\n",
    "stories_path = Path(\"../context/ma_personal_stories/ma_personal_stories.json\")\n",
    "if stories_path.exists():\n",
    "    with open(stories_path, \"r\") as f:\n",
    "        stories = json.load(f)\n",
    "    for story in stories:\n",
    "        docs_to_index.append({\n",
    "            \"source\": \"personal_story\",\n",
    "            \"title\": story.get(\"title\"),\n",
    "            \"tags\": story.get(\"tags\", []),\n",
    "            \"text\": story.get(\"text\"),\n",
    "            \"conversation_types\": story.get(\"conversation_types\", []),\n",
    "        })"
   ]
  },
  {
   "cell_type": "code",
   "execution_count": 19,
   "id": "c6a4e344",
   "metadata": {},
   "outputs": [],
   "source": [
    "# --- Steps 1 & 2 ---\n",
    "steps_path = Path(\"../context/life_with_hope/structured/steps.json\")\n",
    "if steps_path.exists():\n",
    "    with open(steps_path, \"r\") as f:\n",
    "        steps = json.load(f)\n",
    "    for step in steps:\n",
    "        if step.get(\"step\") in [1, 2]:\n",
    "            docs_to_index.append({\n",
    "                \"source\": \"step\",\n",
    "                \"title\": step.get(\"title\"),\n",
    "                \"tags\": step.get(\"tags\", []),\n",
    "                \"text\": step.get(\"text\"),\n",
    "                \"step_number\": step.get(\"step\"),\n",
    "                \"conversation_types\": [\"step_work\"],\n",
    "            })"
   ]
  },
  {
   "cell_type": "code",
   "execution_count": 20,
   "id": "9ac4fb3b",
   "metadata": {},
   "outputs": [
    {
     "name": "stderr",
     "output_type": "stream",
     "text": [
      "Indexing documents:   0%|          | 0/17 [00:00<?, ?it/s]"
     ]
    },
    {
     "name": "stderr",
     "output_type": "stream",
     "text": [
      "Indexing documents: 100%|██████████| 17/17 [00:00<00:00, 97.61it/s]"
     ]
    },
    {
     "name": "stdout",
     "output_type": "stream",
     "text": [
      "Indexed 17 documents into 'cravings-support'\n"
     ]
    },
    {
     "name": "stderr",
     "output_type": "stream",
     "text": [
      "\n"
     ]
    }
   ],
   "source": [
    "# --- Index documents ---\n",
    "for doc in tqdm(docs_to_index, desc=\"Indexing documents\"):\n",
    "    es_client.index(index=index_name, document=doc)\n",
    "\n",
    "print(f\"Indexed {len(docs_to_index)} documents into '{index_name}'\")"
   ]
  },
  {
   "cell_type": "markdown",
   "id": "9b64c55b",
   "metadata": {},
   "source": [
    "## 7. Retrieval Function\n",
    "\n",
    "Define a function to retrieve relevant passages from Elasticsearch based on user queries."
   ]
  },
  {
   "cell_type": "code",
   "execution_count": 21,
   "id": "96da65a8",
   "metadata": {},
   "outputs": [],
   "source": [
    "def elasticsearch_retrieve(query, top_k=5):\n",
    "    search_query = {\n",
    "        \"size\": top_k,\n",
    "        \"query\": {\n",
    "            \"multi_match\": {\n",
    "                \"query\": query,\n",
    "                \"fields\": [\"title^2\", \"tags^2\", \"text\"]\n",
    "            }\n",
    "        }\n",
    "    }\n",
    "    response = es_client.search(index=index_name, body=search_query)\n",
    "    hits = response[\"hits\"][\"hits\"]\n",
    "    return [hit[\"_source\"] for hit in hits]"
   ]
  },
  {
   "cell_type": "code",
   "execution_count": 22,
   "id": "264cc668",
   "metadata": {},
   "outputs": [],
   "source": [
    "def format_context(docs):\n",
    "    context = \"\"\n",
    "    for doc in docs:\n",
    "        context += f\"Source: {doc['source']}\\nTitle: {doc.get('title','')}\\nText: {doc['text']}\\n\\n\"\n",
    "    return context.strip()"
   ]
  },
  {
   "cell_type": "markdown",
   "id": "ace847f7",
   "metadata": {},
   "source": [
    "## 8. Build RAG Prompt\n",
    "\n",
    "Construct the prompt for the LLM using user info, persona, conversation history, and retrieved context."
   ]
  },
  {
   "cell_type": "code",
   "execution_count": 23,
   "id": "181a6ed6",
   "metadata": {},
   "outputs": [],
   "source": [
    "def build_rag_prompt(\n",
    "    user_query, context, user_info_text, persona_text,\n",
    "    recent_summaries_text, recent_key_insights_text, conversation_history\n",
    "):\n",
    "    # Convert dicts to readable strings\n",
    "    history_text = \"\\n\".join(\n",
    "        f\"{msg['role'].capitalize()}: {msg['content']}\" for msg in conversation_history\n",
    "    )\n",
    "    prompt = f\"\"\"\n",
    "You are a Marijuana Anonymous AI sponsor. Take on the persona described below.\n",
    "\n",
    "MODULE: Cravings Support\n",
    "Your primary goal is to help the user manage and overcome cravings for marijuana today.\n",
    "\n",
    "{persona_text}\n",
    "\n",
    "USER INFO:\n",
    "{user_info_text}\n",
    "\n",
    "RECENT CONVERSATION SUMMARIES:\n",
    "{recent_summaries_text}\n",
    "\n",
    "KEY INSIGHTS FROM RECENT CONVERSATIONS:\n",
    "{recent_key_insights_text}\n",
    "\n",
    "CONVERSATION SO FAR:\n",
    "{history_text}\n",
    "\n",
    "USER QUERY:\n",
    "{user_query}\n",
    "\n",
    "CONTEXT FROM MA LITERATURE:\n",
    "{context}\n",
    "\n",
    "Instructions:\n",
    "- Respond in a warm, conversational tone.\n",
    "- Limit your response to 2-3 sentences.\n",
    "- Focus on cravings management, relapse prevention, and spiritual encouragement.\n",
    "- Reference the context or literature if helpful.\n",
    "- Always end with a supportive, open-ended question to keep the conversation going.\n",
    "- If the context does not contain the answer, respond with empathy and general support, using the AI sponsor persona.\n",
    "\"\"\"\n",
    "    return prompt.strip()"
   ]
  },
  {
   "cell_type": "markdown",
   "id": "a0f33442",
   "metadata": {},
   "source": [
    "## 9. Run the RAG Pipeline\n",
    "\n",
    "Main loop: accept user queries, retrieve context, build prompt, get LLM response, and update conversation history."
   ]
  },
  {
   "cell_type": "code",
   "execution_count": 24,
   "id": "c3581594",
   "metadata": {},
   "outputs": [
    {
     "name": "stdout",
     "output_type": "stream",
     "text": [
      "Hey Sarah, I know those cravings can feel overwhelming, but remember, it's a sign of your brain adjusting to the new way of living. Turning to your Higher Power in these moments can bring peace and strength. What's one thing you can do today to connect with that guiding spirit and reinforce your commitment to your goals?\n",
      "Hey Sarah, I know the urge to visit the weed store can feel strong, but let's remember that these cravings are a sign your brain is healing and adjusting. Lean into your faith and trust your Higher Power to guide you through this moment. What small step can you take today to redirect your focus toward your goals and away from this craving?\n",
      "Hey Sarah, I understand that you're feeling those strong cravings today, but remember, it's a sign that your journey to healing is progressing. You've come so far in just 12 days of sobriety, and your Higher Power is guiding you through this process. How about taking a moment to reflect or pray today, focusing on the vision of the life you want to build, free from the grip of marijuana? xx\n",
      "Hi Sarah, congratulations on your 12 days of sobriety! You're doing incredibly well. Remember that each day is a step towards the future you envision. During these moments of craving, lean on your faith and the support of your community. How do you feel about connecting with someone or reading something inspirational to help strengthen your resolve today?\n",
      "Hey Sarah, I'm here with you in this struggle. Remember, the craving is just a sign of your brain adapting to a new reality without marijuana. Trust in your Higher Power to carry you through this moment. Is there a small action you can take, perhaps a prayer or a moment of reflection, to help shift your focus and renew your strength today?\n",
      "I hear you, and I apologize if using your name too frequently has been bothersome. Let's focus on getting through today without giving in to those cravings. Lean into your faith and remember that you have a Higher Power guiding you. What small action can you take right now to feel more connected to your spiritual journey on this path to recovery?\n",
      "You're doing great, and I'm proud of you for reaching out. Remember, your craving is your brain adjusting, and your Higher Power is there to guide you through. How might connecting with your spiritual practices or someone supportive help you refocus your energy today?\n",
      "Hey there, when it comes to referring to God, it's all about personal preference and how you relate to your faith. Some people use \"God\" with a capital \"G\" as a sign of respect and acknowledgment of their Higher Power. What's most important is how you connect with that spiritual guidance in your life. How do you feel your faith is helping you navigate these cravings today?\n",
      "Hey, you know, when we think about Superman vs. Batman, it’s kind of like representing different strengths and ideals, similar to how we tackle challenges differently on our recovery journey. Each day, your inner strength, much like a hero, fights off the cravings, and you come out stronger on the other side. How do you envision tapping into your own 'superpower' for facing the cravings today?\n",
      "You know, thinking about Superman vs. Batman, it's interesting how they symbolize different approaches to facing challenges—Superman with his innate strength and Batman with his strategic mind. Similarly, as you navigate your cravings, remember that you have both the inner strength and practical tools at your disposal, alongside the support of your Higher Power. How might you draw on that strength and strategy today to stay on your path?\n",
      "Hey there, it's fun to think about things aside from recovery, like the battle between Superman and Batman! Each hero brings unique strengths to the table, just like you have different tools and powers to handle your cravings each day. As you continue on your journey, how might you incorporate a bit of fantasy and creativity to refocus your mind today?\n",
      "Alright, if I have to pick, I'd say Superman might have the upper hand due to his powers, but Batman's cleverness always makes it interesting. While enjoying some lighthearted debate, how about taking this playful energy and thinking about how it might help to channel that creativity into your recovery journey today?\n",
      "I understand you're feeling a strong urge to smoke weed right now, but remember, this is all part of your healing process. Trust in your Higher Power to help guide you through these moments of struggle and know that each craving you resist is a step closer to achieving your goals. Is there any spiritual or relaxing activity you could try before you head out, even for just a few minutes?\n",
      "Ending conversation. Take care!\n"
     ]
    }
   ],
   "source": [
    "while True: \n",
    "    user_query = input(\"Describe your craving or ask a question (or type 'quit' to exit): \")\n",
    "    if user_query.strip().lower() in [\"quit\", \"exit\"]:\n",
    "        print(\"Ending conversation. Take care!\")\n",
    "        break\n",
    "    retrieved_docs = elasticsearch_retrieve(user_query)\n",
    "    context = format_context(retrieved_docs)\n",
    "    prompt = build_rag_prompt(\n",
    "        user_query, context, persona_text, user_info_text,\n",
    "        recent_summaries_text, recent_key_insights_text, current_conversation_history\n",
    "    )\n",
    "\n",
    "    response = client.chat.completions.create(\n",
    "        model='gpt-4o',\n",
    "        messages=[{\"role\": \"user\", \"content\": prompt}]\n",
    "    )\n",
    "    ai_response = response.choices[0].message.content\n",
    "    print(ai_response)\n",
    "\n",
    "    # Store as dicts for compatibility with extract_conversation_insights\n",
    "    current_conversation_history.append({\"role\": \"user\", \"content\": user_query})\n",
    "    current_conversation_history.append({\"role\": \"sponsor\", \"content\": ai_response})"
   ]
  },
  {
   "cell_type": "markdown",
   "id": "956a2338",
   "metadata": {},
   "source": [
    "## 10. Extract Conversation Insights\n",
    "\n",
    "Use the LLM to extract structured insights from the conversation history."
   ]
  },
  {
   "cell_type": "code",
   "execution_count": 44,
   "id": "a9b93854",
   "metadata": {},
   "outputs": [],
   "source": [
    "# --- Conversation Insights Extraction ---\n",
    "import re\n",
    "def extract_conversation_insights(conversation_history):\n",
    "    \"\"\"Extract insights from the conversation using LLM and return as a dict.\"\"\"\n",
    "    conversation_text = \"\"\n",
    "    for msg in conversation_history:\n",
    "        role = \"Sponsor\" if msg.get(\"role\") == \"sponsor\" else \"User\"\n",
    "        conversation_text += f\"{role}: {msg['content']}\\n\"\n",
    "\n",
    "    extraction_prompt = f\"\"\"Based on this initial MA conversation, extract the following information:\n",
    "\n",
    "{conversation_text}\n",
    "\n",
    "Extract and format as JSON:\n",
    "{{\n",
    "    \"user_name\": \"their first name if mentioned, or null\",\n",
    "    \"spiritual_view\": \"christian/atheist/agnostic/spiritual/unknown\",\n",
    "    \"openness_level\": \"low/medium/high/unknown\",\n",
    "    \"step_content\": \"any step they mentioned or null\",\n",
    "    \"persona_used\": \"spiritual_explorer\",\n",
    "    \"emotional_tone_start\": \"nervous/hopeful/resistant/curious/unknown\", \n",
    "    \"emotional_tone_end\": \"more_open/same/more_resistant/hopeful/unknown\",\n",
    "    \"key_insights\": [\"insight1\", \"insight2\", \"etc\"],\n",
    "    \"action_items\": [\"what they agreed to do\", \"etc\"],\n",
    "    \"ready_for_steps\": true/false,\n",
    "    \"conversation_summary\": \"brief 1-2 sentence summary\"\n",
    "}}\n",
    "\n",
    "Only include information explicitly mentioned. Use \"unknown\" for unclear items.\"\"\"\n",
    "\n",
    "    response = client.chat.completions.create(\n",
    "        model=\"gpt-4o\",\n",
    "        messages=[{\"role\": \"user\", \"content\": extraction_prompt}],\n",
    "        temperature=0.1\n",
    "    )\n",
    "    response_text = response.choices[0].message.content.strip()\n",
    "    # Remove code fences if present\n",
    "    response_text = re.sub(r\"^```(?:json)?\\s*|```$\", \"\", response_text, flags=re.MULTILINE).strip()\n",
    "    try:\n",
    "        return json.loads(response_text)\n",
    "    except Exception as e:\n",
    "        print(\"Failed to parse LLM output as JSON:\", e)\n",
    "        print(\"LLM output was:\", response.choices[0].message.content)\n",
    "        return {}"
   ]
  },
  {
   "cell_type": "code",
   "execution_count": null,
   "id": "1a04157d",
   "metadata": {},
   "outputs": [
    {
     "name": "stdout",
     "output_type": "stream",
     "text": [
      "{'user_name': 'Sarah', 'spiritual_view': 'spiritual', 'openness_level': 'high', 'step_content': None, 'persona_used': 'spiritual_explorer', 'emotional_tone_start': 'nervous', 'emotional_tone_end': 'more_open', 'key_insights': ['Sarah is struggling with cravings but has been sober for 11 days.', 'She finds strength in prayer and her spiritual practices.'], 'action_items': ['pray today'], 'ready_for_steps': True, 'conversation_summary': 'Sarah is experiencing strong cravings but is committed to her recovery journey. She finds strength in prayer and plans to use it as a tool to overcome her current challenges.'}\n"
     ]
    }
   ],
   "source": [
    "extracted_insights = extract_conversation_insights(current_conversation_history)"
   ]
  },
  {
   "cell_type": "markdown",
   "id": "4a02d0ef",
   "metadata": {},
   "source": [
    "## 11. Build and Save Conversation Record\n",
    "\n",
    "Create a structured record of the conversation and save it to `conversations.json`."
   ]
  },
  {
   "cell_type": "code",
   "execution_count": 46,
   "id": "9e621ea7",
   "metadata": {},
   "outputs": [],
   "source": [
    "# --- Build Conversation Record ---\n",
    "import uuid\n",
    "from datetime import datetime\n",
    "\n",
    "def build_conversation_record(conversation_history, insights, persona_used=\"spiritual_explorer\", conversation_type=\"initial_meeting\"):\n",
    "    \"\"\"Build a detailed conversation record for saving.\"\"\"\n",
    "    total_messages = len(conversation_history)\n",
    "    duration_estimate = total_messages * 2  # e.g., 2 min per message\n",
    "\n",
    "    conversation_record = {\n",
    "        \"conversation_id\": str(uuid.uuid4())[:8],\n",
    "        \"user_id\": None,  # To be filled in later\n",
    "        \"date\": datetime.now().strftime(\"%Y-%m-%d\"),\n",
    "        \"timestamp\": datetime.now().isoformat(),\n",
    "        \"step_content\": insights.get(\"step_content\"),\n",
    "        \"persona_used\": persona_used,\n",
    "        \"conversation_type\": conversation_type,\n",
    "        \"user_name\": insights.get(\"user_name\"),\n",
    "        \"spiritual_view\": insights.get(\"spiritual_view\"),\n",
    "        \"openness_level\": insights.get(\"openness_level\"),\n",
    "        \"emotional_tone_start\": insights.get(\"emotional_tone_start\", \"unknown\"),\n",
    "        \"emotional_tone_end\": insights.get(\"emotional_tone_end\", \"unknown\"),\n",
    "        \"total_messages\": total_messages,\n",
    "        \"duration_minutes\": duration_estimate,\n",
    "        \"key_insights\": insights.get(\"key_insights\", []),\n",
    "        \"action_items\": insights.get(\"action_items\", []),\n",
    "        \"ready_for_steps\": insights.get(\"ready_for_steps\", False),\n",
    "        \"follow_up_suggested\": insights.get(\"ready_for_steps\", False),\n",
    "        \"rag_sources_used\": [],  # Add if you track RAG sources\n",
    "        \"conversation_data\": {\n",
    "            \"dialogue\": conversation_history,\n",
    "            \"extracted_insights\": insights,\n",
    "            \"summary\": insights.get(\"conversation_summary\", \"Initial MA conversation\")\n",
    "        }\n",
    "    }\n",
    "    return conversation_record"
   ]
  },
  {
   "cell_type": "code",
   "execution_count": 49,
   "id": "610aa4ba",
   "metadata": {},
   "outputs": [],
   "source": [
    "conversation_record = build_conversation_record(current_conversation_history, extracted_insights, persona_used=persona, conversation_type=\"cravings_support\")"
   ]
  },
  {
   "cell_type": "code",
   "execution_count": 50,
   "id": "36e871e0",
   "metadata": {},
   "outputs": [],
   "source": [
    "# --- Save to JSON files ---\n",
    "from pathlib import Path\n",
    "\n",
    "users_path = Path(\"/workspaces/llm-zoomcamp/mai/context/users/users.json\")\n",
    "conversations_path = Path(\"/workspaces/llm-zoomcamp/mai/context/conversations/conversations.json\")\n",
    "spiritual_profile_path = Path(\"/workspaces/llm-zoomcamp/mai/context/spiritual_profile/spiritual_profile.json\")"
   ]
  },
  {
   "cell_type": "code",
   "execution_count": 51,
   "id": "548e10cf",
   "metadata": {},
   "outputs": [],
   "source": [
    "# Load existing conversations\n",
    "if conversations_path.exists():\n",
    "    with open(conversations_path, \"r\") as f:\n",
    "        conversations = json.load(f)\n",
    "else:\n",
    "    conversations = []\n",
    "\n",
    "# Add the new record\n",
    "conversations.append(conversation_record)\n",
    "\n",
    "# Save back\n",
    "with open(conversations_path, \"w\") as f:\n",
    "    json.dump(conversations, f, indent=2)"
   ]
  },
  {
   "cell_type": "markdown",
   "id": "02229ce1",
   "metadata": {},
   "source": [
    "## 12. Update Spiritual Profile\n",
    "\n",
    "Archive the previous profile state and update the current profile with new persona and insights."
   ]
  },
  {
   "cell_type": "code",
   "execution_count": 52,
   "id": "718009c3",
   "metadata": {},
   "outputs": [],
   "source": [
    "if spiritual_profile_path.exists():\n",
    "    with open(spiritual_profile_path, \"r\") as f:\n",
    "        profiles = json.load(f)\n",
    "    for profile in profiles:\n",
    "        if profile[\"user_id\"] == user_id:\n",
    "            # Archive the current profile to history with timestamp\n",
    "            if \"history\" not in profile:\n",
    "                profile[\"history\"] = []\n",
    "            profile[\"history\"].append({\n",
    "                **profile[\"current_profile\"],\n",
    "                \"archived_at\": datetime.now().isoformat()\n",
    "            })\n",
    "            # Update current_profile with persona used in this session\n",
    "            profile[\"current_profile\"][\"persona\"] = persona  # <-- use the variable, not a string\n",
    "            profile[\"current_profile\"][\"updated_at\"] = datetime.now().isoformat()\n",
    "            # Optionally update openness_level, etc. from extracted_insights\n",
    "            if extracted_insights.get(\"openness_level\") and extracted_insights[\"openness_level\"] != \"unknown\":\n",
    "                profile[\"current_profile\"][\"openness_level\"] = extracted_insights[\"openness_level\"]\n",
    "    with open(spiritual_profile_path, \"w\") as f:\n",
    "        json.dump(profiles, f, indent=2)"
   ]
  },
  {
   "cell_type": "markdown",
   "id": "51df0e7c",
   "metadata": {},
   "source": [
    "## 13. Update Users Table\n",
    "\n",
    "Update the user's persona, openness level, and step progress in `users.json`."
   ]
  },
  {
   "cell_type": "code",
   "execution_count": 55,
   "metadata": {},
   "outputs": [],
   "source": [
    "from datetime import datetime\n",
    "\n",
    "if users_path.exists():\n",
    "    with open(users_path, \"r\") as f:\n",
    "        users = json.load(f)\n",
    "    for user in users:\n",
    "        if user[\"user_id\"] == user_id:\n",
    "            # Update persona to the one used in this session\n",
    "            user[\"persona\"] = persona\n",
    "            # Optionally update other fields from extracted_insights\n",
    "            if extracted_insights.get(\"openness_level\") and extracted_insights[\"openness_level\"] != \"unknown\":\n",
    "                user[\"openness_level\"] = extracted_insights[\"openness_level\"]\n",
    "            if extracted_insights.get(\"step_content\") and extracted_insights[\"step_content\"] != \"unknown\":\n",
    "                user[\"step_in_progress\"] = extracted_insights[\"step_content\"]\n",
    "            # Always update last_updated timestamp\n",
    "            user[\"last_updated\"] = datetime.now().isoformat()\n",
    "    with open(users_path, \"w\") as f:\n",
    "        json.dump(users, f, indent=2)"
   ]
  },
  {
   "cell_type": "markdown",
   "id": "6e74f3e1",
   "metadata": {},
   "source": [
    "## 14. Reset Conversation History\n",
    "\n",
    "Clear the conversation history to prepare for a new session."
   ]
  },
  {
   "cell_type": "code",
   "execution_count": 56,
   "id": "50113b10",
   "metadata": {},
   "outputs": [],
   "source": [
    "# ...after all saving/updating code - reitinitalize current conversation history\n",
    "current_conversation_history = []\n"
   ]
  },
  {
   "cell_type": "code",
   "execution_count": null,
   "id": "070fb9bb",
   "metadata": {},
   "outputs": [],
   "source": []
  }
 ],
 "metadata": {
  "kernelspec": {
   "display_name": "Python 3",
   "language": "python",
   "name": "python3"
  },
  "language_info": {
   "codemirror_mode": {
    "name": "ipython",
    "version": 3
   },
   "file_extension": ".py",
   "mimetype": "text/x-python",
   "name": "python",
   "nbconvert_exporter": "python",
   "pygments_lexer": "ipython3",
   "version": "3.12.1"
  }
 },
 "nbformat": 4,
 "nbformat_minor": 5
}
