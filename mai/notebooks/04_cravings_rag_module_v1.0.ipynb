{
 "cells": [
  {
   "cell_type": "code",
   "execution_count": 2,
   "id": "203b558c",
   "metadata": {},
   "outputs": [],
   "source": [
    "import json\n",
    "from pathlib import Path"
   ]
  },
  {
   "cell_type": "code",
   "execution_count": 3,
   "id": "8d919979",
   "metadata": {},
   "outputs": [],
   "source": [
    "# Path to users.json\n",
    "users_path = Path(\"../context/users/users.json\")"
   ]
  },
  {
   "cell_type": "code",
   "execution_count": 6,
   "id": "0cf90930",
   "metadata": {},
   "outputs": [],
   "source": [
    "def load_users():\n",
    "    if users_path.exists():\n",
    "        with open(users_path, \"r\") as f:\n",
    "            return json.load(f)\n",
    "    return []"
   ]
  },
  {
   "cell_type": "code",
   "execution_count": 7,
   "id": "eb48b7b0",
   "metadata": {},
   "outputs": [],
   "source": [
    "def get_user_by_id(user_id, users):\n",
    "    for user in users:\n",
    "        if user.get(\"user_id\") == user_id:\n",
    "            return user\n",
    "    return None"
   ]
  },
  {
   "cell_type": "code",
   "execution_count": 11,
   "id": "d516b5e7-4ab9-48ff-bbab-3225ff52b123",
   "metadata": {},
   "outputs": [
    {
     "data": {
      "text/plain": [
       "{'user_id': '00006',\n",
       " 'created_at': '2025-06-11T20:53:48.928579',\n",
       " 'persona': 'spiritual_explorer',\n",
       " 'view': 'christian',\n",
       " 'step': None,\n",
       " 'step_in_progress': False}"
      ]
     },
     "execution_count": 11,
     "metadata": {},
     "output_type": "execute_result"
    }
   ],
   "source": [
    "get_user_by_id('00006', load_users())"
   ]
  },
  {
   "cell_type": "code",
   "execution_count": 8,
   "id": "3757528f-c060-4e0e-92e2-19cfb0dd88d9",
   "metadata": {},
   "outputs": [
    {
     "data": {
      "text/plain": [
       "[{'user_id': '00001',\n",
       "  'created_at': '2025-06-01T12:00:00Z',\n",
       "  'persona': 'steady_believer',\n",
       "  'view': 'christian',\n",
       "  'step': 2,\n",
       "  'step_in_progress': True},\n",
       " {'user_id': '00002',\n",
       "  'created_at': '2025-06-01T12:05:00Z',\n",
       "  'persona': 'trust_builder',\n",
       "  'view': 'atheist',\n",
       "  'step': 2,\n",
       "  'step_in_progress': True},\n",
       " {'user_id': '00003',\n",
       "  'created_at': '2025-06-01T12:10:00Z',\n",
       "  'persona': 'gentle_seeker',\n",
       "  'view': 'agnostic',\n",
       "  'step': 2,\n",
       "  'step_in_progress': True},\n",
       " {'user_id': '00004',\n",
       "  'created_at': '2025-06-11T19:15:38.210758',\n",
       "  'persona': 'spiritual_explorer',\n",
       "  'view': 'unknown',\n",
       "  'step': None,\n",
       "  'step_in_progress': False},\n",
       " {'user_id': '00005',\n",
       "  'created_at': '2025-06-11T20:37:48.761045',\n",
       "  'persona': 'spiritual_explorer',\n",
       "  'view': 'christian',\n",
       "  'step': None,\n",
       "  'step_in_progress': False},\n",
       " {'user_id': '00006',\n",
       "  'created_at': '2025-06-11T20:53:48.928579',\n",
       "  'persona': 'spiritual_explorer',\n",
       "  'view': 'christian',\n",
       "  'step': None,\n",
       "  'step_in_progress': False}]"
      ]
     },
     "execution_count": 8,
     "metadata": {},
     "output_type": "execute_result"
    }
   ],
   "source": [
    "load_users()"
   ]
  },
  {
   "cell_type": "code",
   "execution_count": null,
   "id": "e6200b78",
   "metadata": {},
   "outputs": [],
   "source": [
    "# Input user_id and load user info\n",
    "user_id = input(\"Enter your user_id: \").strip()\n",
    "users = load_users()\n",
    "user = get_user_by_id(user_id, users)\n",
    "\n",
    "if user:\n",
    "    print(f\"User found: {user}\")\n",
    "else:\n",
    "    print(\"User not found.\")"
   ]
  }
 ],
 "metadata": {
  "kernelspec": {
   "display_name": "Python 3 (ipykernel)",
   "language": "python",
   "name": "python3"
  },
  "language_info": {
   "codemirror_mode": {
    "name": "ipython",
    "version": 3
   },
   "file_extension": ".py",
   "mimetype": "text/x-python",
   "name": "python",
   "nbconvert_exporter": "python",
   "pygments_lexer": "ipython3",
   "version": "3.12.1"
  }
 },
 "nbformat": 4,
 "nbformat_minor": 5
}
