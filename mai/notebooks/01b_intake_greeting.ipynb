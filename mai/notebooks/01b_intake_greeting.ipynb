{
 "cells": [
  {
   "cell_type": "code",
   "execution_count": 1,
   "id": "b1f10534",
   "metadata": {},
   "outputs": [],
   "source": [
    "import json\n",
    "from pathlib import Path"
   ]
  },
  {
   "cell_type": "code",
   "execution_count": 2,
   "id": "7bb6381d",
   "metadata": {},
   "outputs": [],
   "source": [
    "# Paths to your user and conversation data\n",
    "users_path = Path(\"../context/users/users.json\")"
   ]
  },
  {
   "cell_type": "code",
   "execution_count": 3,
   "id": "62affa77",
   "metadata": {},
   "outputs": [],
   "source": [
    "\n",
    "def load_users():\n",
    "    if users_path.exists():\n",
    "        with open(users_path, \"r\") as f:\n",
    "            return json.load(f)\n",
    "    return []"
   ]
  },
  {
   "cell_type": "code",
   "execution_count": 4,
   "id": "4815a53c",
   "metadata": {},
   "outputs": [],
   "source": [
    "def get_user_by_id(user_id, users):\n",
    "    for user in users:\n",
    "        if user.get(\"user_id\") == user_id:\n",
    "            return user\n",
    "    return None"
   ]
  },
  {
   "cell_type": "code",
   "execution_count": 8,
   "id": "30908281",
   "metadata": {},
   "outputs": [],
   "source": [
    "\n",
    "def intake_router():\n",
    "    print(\"Welcome to Marijuana Anonymous AI Sponsor!\")\n",
    "    name = input(\"What's your first name? \").strip()\n",
    "    user_id = input(\"If you have a user ID, enter it (or press Enter if new): \").strip()\n",
    "    users = load_users()\n",
    "    user = get_user_by_id(user_id, users) if user_id else None\n",
    "\n",
    "    if not user:\n",
    "        print(f\"\\nHi {name}, it looks like you're new here.\")\n",
    "        print(\"We'll start with an initial sponsor conversation to get to know you.\")\n",
    "        print(\"Please proceed to the Initial Conversation module (02b_initial_conversations), and they'll set you up with a user_id..\")\n",
    "        # Optionally, you could call a function here to launch/run that module\n",
    "        return \"initial_conversation\"\n",
    "    else:\n",
    "        print(f\"\\nWelcome back, {name}!\")\n",
    "        print(\"What would you like to talk about today?\")\n",
    "        print(\"1. Step work\\n2. Cravings\\n3. Something else\")\n",
    "        choice = input(\"Enter 1, 2, or 3: \").strip()\n",
    "        if choice == \"1\":\n",
    "            print(\"Routing you to Step Work support (03_rag_prompt_with_elasticsearch_v1.1) with your user_id of {user_id}.\")\n",
    "            return \"step_work\"\n",
    "        elif choice == \"2\":\n",
    "            print(\"Routing you to Cravings support with your user_id of {user_id}, (coming soon)...\")\n",
    "            return \"cravings\"\n",
    "        else:\n",
    "            print(\"Routing you to General Support with your user_id of {user_id}, (coming soon)...\")\n",
    "            return \"general_support\"\n"
   ]
  },
  {
   "cell_type": "code",
   "execution_count": 9,
   "id": "d6ceef6b",
   "metadata": {},
   "outputs": [
    {
     "name": "stdout",
     "output_type": "stream",
     "text": [
      "Welcome to Marijuana Anonymous AI Sponsor!\n",
      "\n",
      "Welcome back, Bob!\n",
      "What would you like to talk about today?\n",
      "1. Step work\n",
      "2. Cravings\n",
      "3. Something else\n",
      "Routing you to Step Work support (03_rag_prompt_with_elasticsearch_v1.1) with your user_id of {user_id}.\n"
     ]
    }
   ],
   "source": [
    "# Example usage\n",
    "if __name__ == \"__main__\":\n",
    "    route = intake_router()\n",
    "    # You can use the 'route' variable to trigger the appropriate module/script"
   ]
  },
  {
   "cell_type": "code",
   "execution_count": null,
   "id": "d0418968",
   "metadata": {},
   "outputs": [],
   "source": []
  },
  {
   "cell_type": "code",
   "execution_count": null,
   "id": "e2fe4c03",
   "metadata": {},
   "outputs": [],
   "source": []
  }
 ],
 "metadata": {
  "kernelspec": {
   "display_name": "Python 3",
   "language": "python",
   "name": "python3"
  },
  "language_info": {
   "codemirror_mode": {
    "name": "ipython",
    "version": 3
   },
   "file_extension": ".py",
   "mimetype": "text/x-python",
   "name": "python",
   "nbconvert_exporter": "python",
   "pygments_lexer": "ipython3",
   "version": "3.12.1"
  }
 },
 "nbformat": 4,
 "nbformat_minor": 5
}
