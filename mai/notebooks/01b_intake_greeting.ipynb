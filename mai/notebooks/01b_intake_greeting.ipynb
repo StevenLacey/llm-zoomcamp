import json
from pathlib import Path

# Paths to your user and conversation data
users_path = Path("../context/users/users.json")

def load_users():
    if users_path.exists():
        with open(users_path, "r") as f:
            return json.load(f)
    return []

def get_user_by_id(user_id, users):
    for user in users:
        if user.get("user_id") == user_id:
            return user
    return None

def intake_router():
    print("Welcome to Marijuana Anonymous AI Sponsor!")
    name = input("What's your first name? ").strip()
    user_id = input("If you have a user ID, enter it (or press Enter if new): ").strip()
    users = load_users()
    user = get_user_by_id(user_id, users) if user_id else None

    if not user:
        print(f"\nHi {name}, it looks like you're new here.")
        print("We'll start with an initial sponsor conversation to get to know you.")
        print("Please proceed to the Initial Conversation module (02b_initial_conversations).")
        # Optionally, you could call a function here to launch/run that module
        return "initial_conversation"
    else:
        print(f"\nWelcome back, {name}!")
        print("What would you like to talk about today?")
        print("1. Step work\n2. Cravings\n3. Something else")
        choice = input("Enter 1, 2, or 3: ").strip()
        if choice == "1":
            print("Routing you to Step Work support (03_rag_prompt_with_elasticsearch_v1.1)...")
            return "step_work"
        elif choice == "2":
            print("Routing you to Cravings support (coming soon)...")
            return "cravings"
        else:
            print("Routing you to General Support (coming soon)...")
            return "general_support"

# Example usage
if __name__ == "__main__":
    route = intake_router()
    # You can use the 'route' variable to trigger the appropriate module/script