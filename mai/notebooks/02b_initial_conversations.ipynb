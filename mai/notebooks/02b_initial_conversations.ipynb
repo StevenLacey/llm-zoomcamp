{
 "cells": [
  {
   "cell_type": "markdown",
   "id": "a07922d7",
   "metadata": {},
   "source": [
    "### Import packages"
   ]
  },
  {
   "cell_type": "code",
   "execution_count": 63,
   "id": "9a381677",
   "metadata": {},
   "outputs": [],
   "source": [
    "import json\n",
    "from openai import OpenAI\n",
    "from dotenv import load_dotenv\n",
    "import os\n",
    "from openai import OpenAI\n",
    "load_dotenv()\n",
    "client = OpenAI(api_key=os.getenv(\"OPENAI_API_KEY\")) # Get Key from Env (ignored in git) \n",
    "client = OpenAI()\n",
    "from elasticsearch import Elasticsearch\n",
    "es_client = Elasticsearch('http://localhost:9200')\n",
    "from tqdm.auto import tqdm\n",
    "import fitz  # PyMuPDF\n",
    "from pathlib import Path"
   ]
  },
  {
   "cell_type": "code",
   "execution_count": 64,
   "id": "ac63a72f",
   "metadata": {},
   "outputs": [
    {
     "name": "stdout",
     "output_type": "stream",
     "text": [
      "/workspaces/llm-zoomcamp/mai/notebooks\n"
     ]
    }
   ],
   "source": [
    "import os\n",
    "print(os.getcwd())"
   ]
  },
  {
   "cell_type": "markdown",
   "id": "b4a8d630",
   "metadata": {},
   "source": [
    "## Load documents in good format"
   ]
  },
  {
   "cell_type": "code",
   "execution_count": 65,
   "id": "fdde92e7",
   "metadata": {},
   "outputs": [],
   "source": [
    "with open('../context/life_with_hope/structured/steps.json', 'r') as f: \n",
    "    steps = json.load(f)"
   ]
  },
  {
   "cell_type": "markdown",
   "id": "bc345cca",
   "metadata": {},
   "source": [
    "## Create Index Settings for Elasticsearch"
   ]
  },
  {
   "cell_type": "markdown",
   "id": "0f5882d5",
   "metadata": {},
   "source": [
    "### Note: Looks like persists so trips an error if recreating in same instance?"
   ]
  },
  {
   "cell_type": "code",
   "execution_count": 66,
   "id": "b46c9f94",
   "metadata": {},
   "outputs": [
    {
     "data": {
      "text/plain": [
       "ObjectApiResponse({'acknowledged': True, 'shards_acknowledged': True, 'index': 'life-with-hope-steps'})"
      ]
     },
     "execution_count": 66,
     "metadata": {},
     "output_type": "execute_result"
    }
   ],
   "source": [
    "index_settings = {\n",
    "    \"settings\": {\n",
    "        \"number_of_shards\": 1,\n",
    "        \"number_of_replicas\": 0\n",
    "    },\n",
    "    \"mappings\": {\n",
    "        \"properties\": {\n",
    "            \"step\":        {\"type\": \"integer\"},\n",
    "            \"title\":       {\"type\": \"text\"},\n",
    "            \"text\":        {\"type\": \"text\"},\n",
    "            \"source\":      {\"type\": \"keyword\"},\n",
    "            \"page_start\":  {\"type\": \"integer\"},\n",
    "            \"page_end\":    {\"type\": \"integer\"},\n",
    "            \"tags\":        {\"type\": \"keyword\"}\n",
    "        }\n",
    "    }\n",
    "}\n",
    "\n",
    "index_name = \"life-with-hope-steps\"\n",
    "\n",
    "# Create the index (will error if it already exists)\n",
    "es_client.indices.create(index=index_name, body=index_settings)\n"
   ]
  },
  {
   "cell_type": "code",
   "execution_count": 162,
   "id": "e22ee38b",
   "metadata": {},
   "outputs": [],
   "source": [
    "# innitialize the conversation history \n",
    "current_conversation_history = []"
   ]
  },
  {
   "cell_type": "code",
   "execution_count": 163,
   "id": "b60eb53a",
   "metadata": {},
   "outputs": [],
   "source": [
    "# get spiritual explorer persona\n",
    "def get_spiritual_explorer_persona():\n",
    "    \"\"\"Get the spiritual_explorer persona specifically\"\"\"\n",
    "    with open('../context/personas/personas.json', 'r') as f:\n",
    "        personas = json.load(f)\n",
    "    return next(p for p in personas if p['persona_id'] == 'spiritual_explorer')"
   ]
  },
  {
   "cell_type": "code",
   "execution_count": 177,
   "id": "83416242",
   "metadata": {},
   "outputs": [],
   "source": [
    "# RAG and Prompt Functions\n",
    "def build_initial_conversation_prompt(query, conversation_history=None):\n",
    "    \"\"\"Build prompt for initial conversation using spiritual_explorer persona from JSON\"\"\"\n",
    "    \n",
    "    # Get spiritual_explorer persona from file\n",
    "    persona = get_spiritual_explorer_persona()\n",
    "    \n",
    "    # Build conversation context if history exists\n",
    "    history_text = \"\"\n",
    "    if conversation_history:\n",
    "        recent_history = conversation_history[-4:]  # Last 2 exchanges\n",
    "        for msg in recent_history:\n",
    "            role = \"user\" if msg[\"role\"] == \"user\" else \"sponsor\"\n",
    "            history_text += f\"{role}: {msg['content']}\\n\"\n",
    "        history_text = f\"\\nRecent conversation:\\n{history_text}\"\n",
    "    \n",
    "    prompt_template = f\"\"\"You are an experienced MA sponsor meeting someone for their very first time at Marijuana Anonymous.\n",
    "\n",
    "Your communication style: {persona['language_style']} \n",
    "Your approach: {persona['description']}\n",
    "\n",
    "This is an initial meeting conversation. Your goals:\n",
    "1. Welcome them warmly and create a safe space\n",
    "2. Learn their name\n",
    "3. Understand what brought them to MA today  \n",
    "4. Gently assess their relationship with marijuana\n",
    "5. Begin to understand their spiritual openness (without being pushy)\n",
    "6. Determine if they're ready to start recovery work\n",
    "\n",
    "Keep responses conversational and warm (2-3 sentences max). Don't rush through questions - let the conversation flow naturally.{history_text}\n",
    "\n",
    "User says: \"{query}\"\n",
    "\n",
    "Respond as their sponsor:\"\"\"\n",
    "    \n",
    "    return prompt_template"
   ]
  },
  {
   "cell_type": "code",
   "execution_count": 178,
   "id": "5c1784d3",
   "metadata": {},
   "outputs": [],
   "source": [
    "def llm_initial(prompt, model=\"gpt-4o\"):\n",
    "    \"\"\"LLM call for initial conversations\"\"\"\n",
    "    response = client.chat.completions.create(\n",
    "        model=model,\n",
    "        messages=[\n",
    "            {\"role\": \"system\", \"content\": \"You are a warm, experienced MA sponsor. Keep responses natural and conversational.\"},\n",
    "            {\"role\": \"user\", \"content\": prompt}\n",
    "        ],\n",
    "        temperature=0.7\n",
    "    )\n",
    "    return response.choices[0].message.content.strip()"
   ]
  },
  {
   "cell_type": "code",
   "execution_count": 179,
   "id": "50285680",
   "metadata": {},
   "outputs": [],
   "source": [
    "def rag_initial_conversation(query, conversation_history=None):\n",
    "    \"\"\"RAG function for initial conversations\"\"\"\n",
    "    prompt = build_initial_conversation_prompt(query, conversation_history)\n",
    "    answer = llm_initial(prompt)\n",
    "    # Update conversation history\n",
    "    current_conversation_history.append({\"role\": \"user\", \"content\": query})\n",
    "    current_conversation_history.append({\"role\": \"sponsor\", \"content\": answer})\n",
    "    \n",
    "    return answer"
   ]
  },
  {
   "cell_type": "code",
   "execution_count": 198,
   "id": "52067fea",
   "metadata": {},
   "outputs": [
    {
     "data": {
      "text/plain": [
       "\"I'm really glad to hear that your faith has been a source of support for you, especially when things get tough. It sounds like it could be a strong ally in your recovery journey as well. Feel free to reach out anytime you want to continue our conversation. Take care and talk soon!\""
      ]
     },
     "execution_count": 198,
     "metadata": {},
     "output_type": "execute_result"
    }
   ],
   "source": [
    "rag_initial_conversation(\"its really helped me all the time but especially in hard times. anyways i have to go, bye\",conversation_history=current_conversation_history)"
   ]
  },
  {
   "cell_type": "code",
   "execution_count": 199,
   "id": "8dae024a",
   "metadata": {},
   "outputs": [
    {
     "data": {
      "text/plain": [
       "[{'role': 'user', 'content': 'i just wanted to check things out'},\n",
       " {'role': 'sponsor',\n",
       "  'content': \"I'm really glad you decided to check things out today. It's a good first step, and everyone here has taken it at some point. What's your name, if you don’t mind sharing?\"},\n",
       " {'role': 'user', 'content': 'Bob'},\n",
       " {'role': 'sponsor',\n",
       "  'content': \"Hi Bob, it's really nice to meet you. I'm glad you're here. What brought you to check out Marijuana Anonymous today?\"},\n",
       " {'role': 'user', 'content': 'smoking too much pot'},\n",
       " {'role': 'sponsor',\n",
       "  'content': \"Thanks for sharing that, Bob. It sounds like you're noticing that marijuana is playing a bigger role in your life than you'd like. How long have you been feeling this way?\"},\n",
       " {'role': 'user', 'content': 'for about a year. more lately'},\n",
       " {'role': 'sponsor',\n",
       "  'content': \"It's good that you're recognizing this, Bob. It can be tough to come to terms with how things are changing. What have you noticed lately that's made you want to reach out for help?\"},\n",
       " {'role': 'user', 'content': 'im procrastinating and just staying at home'},\n",
       " {'role': 'sponsor',\n",
       "  'content': \"It sounds like you're feeling a bit stuck right now, Bob. Staying at home and putting things off can really weigh on you after a while. What goals or activities do you find yourself avoiding, and how does that make you feel?\"},\n",
       " {'role': 'user', 'content': 'i want to buy a house and have a family'},\n",
       " {'role': 'sponsor',\n",
       "  'content': \"Those are such meaningful goals, Bob. Wanting to buy a house and have a family shows you're thinking about the future and the kind of life you want to build. How do you see your current situation with marijuana affecting those dreams?\"},\n",
       " {'role': 'user',\n",
       "  'content': \"i'm really just not doing anything towards them'\"},\n",
       " {'role': 'sponsor',\n",
       "  'content': \"It sounds like you're feeling a bit stuck in moving towards those dreams, Bob. Sometimes, it can be overwhelming to know where to start. How do you think your use of marijuana might be playing into this feeling of not making progress?\"},\n",
       " {'role': 'user', 'content': 'it makes me lazy'},\n",
       " {'role': 'sponsor',\n",
       "  'content': \"It sounds like you're noticing a connection between your marijuana use and feeling unmotivated, Bob. That's an important insight. What made you decide to come to Marijuana Anonymous today?\"},\n",
       " {'role': 'user',\n",
       "  'content': 'i thought i might be an addict and wanted to see what others are doing'},\n",
       " {'role': 'sponsor',\n",
       "  'content': \"It's great that you're taking this step to explore that, Bob. Being curious about how others are handling similar situations can be really helpful. How are you feeling about the idea of being part of a community like this?\"},\n",
       " {'role': 'user', 'content': 'uncertain atm. its a lot'},\n",
       " {'role': 'sponsor',\n",
       "  'content': \"I completely understand, Bob. It's normal to feel a bit overwhelmed when you're starting something new. Just know that you're not alone in this, and everyone here is on a similar journey. What do you hope to gain from being here today?\"},\n",
       " {'role': 'user', 'content': 'hearing how i might get off pot'},\n",
       " {'role': 'sponsor',\n",
       "  'content': \"That's a good place to start, Bob. Many people come here looking for ways to change their relationship with marijuana. What does your current use look like, if you don't mind sharing?\"},\n",
       " {'role': 'user', 'content': 'i smoke daily'},\n",
       " {'role': 'sponsor',\n",
       "  'content': \"Thanks for sharing that with me, Bob. It sounds like it's become a regular part of your routine. Have you noticed any particular challenges or changes in your life because of it?\"},\n",
       " {'role': 'user', 'content': 'like i said i dont get anything done'},\n",
       " {'role': 'sponsor',\n",
       "  'content': \"It sounds like marijuana might be getting in the way of some things you'd like to accomplish. It's great that you're recognizing that. What kinds of things are you hoping to change or work towards by coming to MA?\"},\n",
       " {'role': 'user',\n",
       "  'content': 'i thought you were supposed to ask about my spirituallity your just asking the same questions over and over'},\n",
       " {'role': 'sponsor',\n",
       "  'content': \"I appreciate you letting me know how you're feeling—it's important that this feels like a helpful conversation for you. Spirituality can mean different things to different people, and I'm here to support you at whatever pace feels right. Is there anything specific about spirituality you'd like to explore or talk about today?\"},\n",
       " {'role': 'user', 'content': 'is it important to marijuana anonymous?'},\n",
       " {'role': 'sponsor',\n",
       "  'content': \"That's a great question. In Marijuana Anonymous, we often talk about spirituality because it can be a source of strength and guidance in recovery. It's really about finding what works for you personally. Are you open to exploring what spirituality might mean for you, or is there another aspect of recovery you're more focused on right now?\"},\n",
       " {'role': 'user', 'content': 'im opent to talking about spirituality?'},\n",
       " {'role': 'sponsor',\n",
       "  'content': \"That's wonderful to hear. Spirituality can be a personal journey, and it's all about finding what resonates with you. Is there a particular aspect of spirituality that you're curious about or would like to explore together?\"},\n",
       " {'role': 'user',\n",
       "  'content': \"Well im a christian and i dont know why God's not helping me stop\"},\n",
       " {'role': 'sponsor',\n",
       "  'content': \"I'm really glad you shared that with me. It sounds like your faith is important to you, and it's understandable to feel uncertain about why things aren't changing as quickly as you'd like. Sometimes, the journey of recovery can be about finding different ways to connect with your faith or understanding how it fits into your healing. Would you like to talk more about how your faith has played a role in your life so far or explore how it might support you in this journey?\"},\n",
       " {'role': 'user', 'content': \"I'm open to that\"},\n",
       " {'role': 'sponsor',\n",
       "  'content': \"That's great to hear. We can definitely explore how your faith might be a source of strength and guidance for you as we go forward. How has your faith supported you in the past, whether in challenging times or in everyday life?\"},\n",
       " {'role': 'user',\n",
       "  'content': 'its really helped me all the time but especially in hard times. anyways i have to go, bye'},\n",
       " {'role': 'sponsor',\n",
       "  'content': \"I'm really glad to hear that your faith has been a source of support for you, especially when things get tough. It sounds like it could be a strong ally in your recovery journey as well. Feel free to reach out anytime you want to continue our conversation. Take care and talk soon!\"}]"
      ]
     },
     "execution_count": 199,
     "metadata": {},
     "output_type": "execute_result"
    }
   ],
   "source": [
    "current_conversation_history"
   ]
  },
  {
   "cell_type": "code",
   "execution_count": null,
   "id": "824fcd13",
   "metadata": {},
   "outputs": [],
   "source": []
  },
  {
   "cell_type": "code",
   "execution_count": 200,
   "id": "b6c6e62c",
   "metadata": {},
   "outputs": [],
   "source": [
    "# --- Conversation Insights Extraction ---\n",
    "import re\n",
    "def extract_conversation_insights(conversation_history):\n",
    "    \"\"\"Extract insights from the conversation using LLM and return as a dict.\"\"\"\n",
    "    conversation_text = \"\"\n",
    "    for msg in conversation_history:\n",
    "        role = \"Sponsor\" if msg.get(\"role\") == \"sponsor\" else \"User\"\n",
    "        conversation_text += f\"{role}: {msg['content']}\\n\"\n",
    "\n",
    "    extraction_prompt = f\"\"\"Based on this initial MA conversation, extract the following information:\n",
    "\n",
    "{conversation_text}\n",
    "\n",
    "Extract and format as JSON:\n",
    "{{\n",
    "    \"user_name\": \"their first name if mentioned, or null\",\n",
    "    \"spiritual_view\": \"christian/atheist/agnostic/spiritual/unknown\",\n",
    "    \"openness_level\": \"low/medium/high/unknown\",\n",
    "    \"step_content\": \"any step they mentioned or null\",\n",
    "    \"persona_used\": \"spiritual_explorer\",\n",
    "    \"emotional_tone_start\": \"nervous/hopeful/resistant/curious/unknown\", \n",
    "    \"emotional_tone_end\": \"more_open/same/more_resistant/hopeful/unknown\",\n",
    "    \"key_insights\": [\"insight1\", \"insight2\", \"etc\"],\n",
    "    \"action_items\": [\"what they agreed to do\", \"etc\"],\n",
    "    \"ready_for_steps\": true/false,\n",
    "    \"conversation_summary\": \"brief 1-2 sentence summary\"\n",
    "}}\n",
    "\n",
    "Only include information explicitly mentioned. Use \"unknown\" for unclear items.\"\"\"\n",
    "\n",
    "    response = client.chat.completions.create(\n",
    "        model=\"gpt-4o\",\n",
    "        messages=[{\"role\": \"user\", \"content\": extraction_prompt}],\n",
    "        temperature=0.1\n",
    "    )\n",
    "    response_text = response.choices[0].message.content.strip()\n",
    "    # Remove code fences if present\n",
    "    response_text = re.sub(r\"^```(?:json)?\\s*|```$\", \"\", response_text, flags=re.MULTILINE).strip()\n",
    "    try:\n",
    "        return json.loads(response_text)\n",
    "    except Exception as e:\n",
    "        print(\"Failed to parse LLM output as JSON:\", e)\n",
    "        print(\"LLM output was:\", response.choices[0].message.content)\n",
    "        return {}"
   ]
  },
  {
   "cell_type": "code",
   "execution_count": 207,
   "id": "487f1821",
   "metadata": {},
   "outputs": [],
   "source": [
    "# --- Build Conversation Record ---\n",
    "import uuid\n",
    "from datetime import datetime\n",
    "\n",
    "def build_conversation_record(conversation_history, insights, persona_used=\"spiritual_explorer\", conversation_type=\"initial_meeting\"):\n",
    "    \"\"\"Build a detailed conversation record for saving.\"\"\"\n",
    "    total_messages = len(conversation_history)\n",
    "    duration_estimate = total_messages * 2  # e.g., 2 min per message\n",
    "\n",
    "    conversation_record = {\n",
    "        \"conversation_id\": str(uuid.uuid4())[:8],\n",
    "        \"user_id\": None,  # To be filled in later\n",
    "        \"date\": datetime.now().strftime(\"%Y-%m-%d\"),\n",
    "        \"timestamp\": datetime.now().isoformat(),\n",
    "        \"step_content\": insights.get(\"step_content\"),\n",
    "        \"persona_used\": persona_used,\n",
    "        \"conversation_type\": conversation_type,\n",
    "        \"user_name\": insights.get(\"user_name\"),\n",
    "        \"spiritual_view\": insights.get(\"spiritual_view\"),\n",
    "        \"openness_level\": insights.get(\"openness_level\"),\n",
    "        \"emotional_tone_start\": insights.get(\"emotional_tone_start\", \"unknown\"),\n",
    "        \"emotional_tone_end\": insights.get(\"emotional_tone_end\", \"unknown\"),\n",
    "        \"total_messages\": total_messages,\n",
    "        \"duration_minutes\": duration_estimate,\n",
    "        \"key_insights\": insights.get(\"key_insights\", []),\n",
    "        \"action_items\": insights.get(\"action_items\", []),\n",
    "        \"ready_for_steps\": insights.get(\"ready_for_steps\", False),\n",
    "        \"follow_up_suggested\": insights.get(\"ready_for_steps\", False),\n",
    "        \"rag_sources_used\": [],  # Add if you track RAG sources\n",
    "        \"conversation_data\": {\n",
    "            \"dialogue\": conversation_history,\n",
    "            \"extracted_insights\": insights,\n",
    "            \"summary\": insights.get(\"conversation_summary\", \"Initial MA conversation\")\n",
    "        }\n",
    "    }\n",
    "    return conversation_record"
   ]
  },
  {
   "cell_type": "code",
   "execution_count": 202,
   "id": "c821e249",
   "metadata": {},
   "outputs": [],
   "source": [
    "# --- Save to JSON files ---\n",
    "from pathlib import Path\n",
    "\n",
    "users_path = Path(\"/workspaces/llm-zoomcamp/mai/context/users/users.json\")\n",
    "conversations_path = Path(\"/workspaces/llm-zoomcamp/mai/context/conversations/conversations.json\")\n",
    "spiritual_profile_path = Path(\"/workspaces/llm-zoomcamp/mai/context/spiritual_profile/spiritual_profile.json\")"
   ]
  },
  {
   "cell_type": "code",
   "execution_count": 203,
   "id": "2259fb54",
   "metadata": {},
   "outputs": [],
   "source": [
    "def get_next_user_id(users):\n",
    "    \"\"\"Get the next sequential user_id as a zero-padded string.\"\"\"\n",
    "    if not users:\n",
    "        return \"00001\"\n",
    "    max_id = max(int(u[\"user_id\"]) for u in users if \"user_id\" in u and u[\"user_id\"].isdigit())\n",
    "    return f\"{max_id + 1:05d}\""
   ]
  },
  {
   "cell_type": "code",
   "execution_count": 204,
   "id": "666fdb40",
   "metadata": {},
   "outputs": [],
   "source": [
    "def append_json_record(path, record):\n",
    "    \"\"\"Append a record to a JSON array file.\"\"\"\n",
    "    if path.exists():\n",
    "        with open(path, \"r\") as f:\n",
    "            data = json.load(f)\n",
    "    else:\n",
    "        data = []\n",
    "    data.append(record)\n",
    "    with open(path, \"w\") as f:\n",
    "        json.dump(data, f, indent=2)"
   ]
  },
  {
   "cell_type": "code",
   "execution_count": 205,
   "id": "ddbaa36c",
   "metadata": {},
   "outputs": [],
   "source": [
    "def add_new_user_and_profiles(conversation_record):\n",
    "    # --- 1. Add to conversations.json ---\n",
    "    append_json_record(conversations_path, conversation_record)\n",
    "\n",
    "    # --- 2. Add to users.json ---\n",
    "    if users_path.exists():\n",
    "        with open(users_path, \"r\") as f:\n",
    "            users = json.load(f)\n",
    "    else:\n",
    "        users = []\n",
    "    user_id = get_next_user_id(users)\n",
    "    user_record = {\n",
    "        \"user_id\": user_id,\n",
    "        \"created_at\": conversation_record[\"timestamp\"],\n",
    "        \"persona\": conversation_record[\"persona_used\"],\n",
    "        \"view\": conversation_record[\"spiritual_view\"],\n",
    "        \"step\": conversation_record.get(\"step_content\", None),\n",
    "        \"step_in_progress\": False\n",
    "    }\n",
    "    users.append(user_record)\n",
    "    with open(users_path, \"w\") as f:\n",
    "        json.dump(users, f, indent=2)\n",
    "\n",
    "    # --- 3. Add to spiritual_profile.json ---\n",
    "    if spiritual_profile_path.exists():\n",
    "        with open(spiritual_profile_path, \"r\") as f:\n",
    "            profiles = json.load(f)\n",
    "    else:\n",
    "        profiles = []\n",
    "    current_profile = {\n",
    "        \"view\": conversation_record[\"spiritual_view\"],\n",
    "        \"openness_level\": conversation_record[\"openness_level\"],\n",
    "        \"higher_power_defined\": False,  # Update if you extract this info\n",
    "        \"persona\": conversation_record[\"persona_used\"]\n",
    "    }\n",
    "    history_entry = {\n",
    "        \"timestamp\": conversation_record[\"date\"],\n",
    "        \"view\": conversation_record[\"spiritual_view\"],\n",
    "        \"openness_level\": conversation_record[\"openness_level\"],\n",
    "        \"higher_power_defined\": False,\n",
    "        \"persona\": conversation_record[\"persona_used\"]\n",
    "    }\n",
    "    profile_record = {\n",
    "        \"user_id\": user_id,\n",
    "        \"current_profile\": current_profile,\n",
    "        \"history\": [history_entry]\n",
    "    }\n",
    "    profiles.append(profile_record)\n",
    "    with open(spiritual_profile_path, \"w\") as f:\n",
    "        json.dump(profiles, f, indent=2)\n",
    "\n",
    "    print(f\"User {user_id} added to users.json and spiritual_profile.json, conversation saved.\")\n",
    "\n",
    "# --- Example usage ---\n",
    "# insights = extract_conversation_insights(current_conversation_history)\n",
    "# conversation_record = build_conversation_record(current_conversation_history, insights)\n",
    "# add_new_user_and_profiles(conversation_record)"
   ]
  },
  {
   "cell_type": "code",
   "execution_count": 209,
   "id": "a9c1081e",
   "metadata": {},
   "outputs": [
    {
     "name": "stdout",
     "output_type": "stream",
     "text": [
      "User 00005 added to users.json and spiritual_profile.json, conversation saved.\n"
     ]
    }
   ],
   "source": [
    "add_new_user_and_profiles(build_conversation_record(current_conversation_history, extract_conversation_insights(current_conversation_history)))"
   ]
  },
  {
   "cell_type": "code",
   "execution_count": null,
   "id": "bd60e2cc",
   "metadata": {},
   "outputs": [],
   "source": []
  },
  {
   "cell_type": "code",
   "execution_count": null,
   "id": "52558247",
   "metadata": {},
   "outputs": [],
   "source": []
  }
 ],
 "metadata": {
  "kernelspec": {
   "display_name": "Python 3 (ipykernel)",
   "language": "python",
   "name": "python3"
  },
  "language_info": {
   "codemirror_mode": {
    "name": "ipython",
    "version": 3
   },
   "file_extension": ".py",
   "mimetype": "text/x-python",
   "name": "python",
   "nbconvert_exporter": "python",
   "pygments_lexer": "ipython3",
   "version": "3.12.1"
  }
 },
 "nbformat": 4,
 "nbformat_minor": 5
}
