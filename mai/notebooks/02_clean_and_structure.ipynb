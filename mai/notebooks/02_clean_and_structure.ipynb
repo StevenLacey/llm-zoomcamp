{
 "cells": [
  {
   "cell_type": "code",
   "execution_count": 1,
   "id": "56690f92-1f2f-4ff5-86d5-68dd75bf7540",
   "metadata": {},
   "outputs": [],
   "source": [
    "from pathlib import Path\n",
    "import json\n",
    "import re\n",
    "\n",
    "input_dir = Path(\"../context/life_with_hope/extracted_text\")\n",
    "output_file = Path(\"../context/life_with_hope/structured/steps.json\")\n",
    "output_file.parent.mkdir(parents=True, exist_ok=True)\n",
    "\n",
    "# Same ranges used before\n",
    "step_page_ranges = {\n",
    "    1: (23, 26),\n",
    "    2: (27, 32),\n",
    "    3: (33, 36),\n",
    "    4: (37, 42),\n",
    "    5: (43, 46),\n",
    "    6: (47, 52),\n",
    "    7: (53, 58),\n",
    "    8: (59, 64),\n",
    "    9: (65, 70),\n",
    "    10: (71, 76),\n",
    "    11: (77, 84),\n",
    "    12: (85, 88),\n",
    "}\n"
   ]
  },
  {
   "cell_type": "code",
   "execution_count": 8,
   "id": "fc2a38c8-712f-4900-81d8-e0d3fa14aa59",
   "metadata": {},
   "outputs": [],
   "source": [
    "import re\n",
    "\n",
    "def parse_step_text(step_num, raw_text):\n",
    "    # Normalize whitespace and remove empty lines\n",
    "    raw = \" \".join([line.strip() for line in raw_text.strip().splitlines() if line.strip()])\n",
    "\n",
    "    # Setup step name\n",
    "    step_word = [\n",
    "        \"One\", \"Two\", \"Three\", \"Four\", \"Five\", \"Six\",\n",
    "        \"Seven\", \"Eight\", \"Nine\", \"Ten\", \"Eleven\", \"Twelve\"\n",
    "    ][step_num - 1]\n",
    "    step_pattern = rf\"\\bStep {step_word}\\b\"\n",
    "\n",
    "    # Find where the actual step text starts (after 2nd \"Step X\")\n",
    "    matches = list(re.finditer(step_pattern, raw, flags=re.IGNORECASE))\n",
    "    if len(matches) < 2:\n",
    "        raise ValueError(f\"Could not find two 'Step {step_word}' occurrences in step {step_num}.\")\n",
    "    start_pos = matches[1].end()\n",
    "    body = raw[start_pos:].strip()\n",
    "\n",
    "    # Remove header/footer artifacts like: \"1 Life with Hope Step One 2\"\n",
    "    stitch_pattern = rf\"\\b\\d+\\s+Life with Hope\\s+Step {step_word}\\s+\\d+\\b\"\n",
    "    body = re.sub(stitch_pattern, \"\", body, flags=re.IGNORECASE)\n",
    "\n",
    "    # Also remove simpler artifacts like: \"Life with Hope Step One 4\"\n",
    "    mini_stitch_pattern = rf\"Life with Hope\\s+Step {step_word}\\s+\\d+\"\n",
    "    body = re.sub(mini_stitch_pattern, \"\", body, flags=re.IGNORECASE)\n",
    "\n",
    "    # Extract the first sentence as the title\n",
    "    title_match = re.match(r\"(.*?[.?!])\\s\", body)\n",
    "    title = title_match.group(1).strip() if title_match else \"\"\n",
    "\n",
    "    # Final cleaning pass: normalize whitespace\n",
    "    cleaned = re.sub(r\"\\s+\", \" \", body).strip()\n",
    "\n",
    "    # Attempt to fix common curly-quote encoding artifacts\n",
    "    def fix_unicode_artifacts(text):\n",
    "        try:\n",
    "            return text.encode(\"latin1\").decode(\"utf-8\")\n",
    "        except Exception:\n",
    "            return text\n",
    "\n",
    "    title = fix_unicode_artifacts(title)\n",
    "    cleaned = fix_unicode_artifacts(cleaned)\n",
    "\n",
    "    return {\n",
    "        \"step\": step_num,\n",
    "        \"title\": title,\n",
    "        \"text\": cleaned,\n",
    "        \"tags\": [f\"step_{step_num}\"],\n",
    "        \"source\": \"Life with Hope\",\n",
    "        \"page_start\": step_page_ranges[step_num][0],\n",
    "        \"page_end\": step_page_ranges[step_num][1],\n",
    "    }"
   ]
  },
  {
   "cell_type": "code",
   "execution_count": 31,
   "id": "bc3c2176-4f8e-4cd6-9f63-81a50b766add",
   "metadata": {},
   "outputs": [],
   "source": [
    "structured_steps = []\n",
    "\n",
    "for step_num in range(1, 13):\n",
    "    file_path = input_dir / f\"step_{str(step_num).zfill(2)}.txt\"\n",
    "    if not file_path.exists():\n",
    "        print(f\"❌ Missing: {file_path}\")\n",
    "        continue\n",
    "\n",
    "    raw_text = file_path.read_text(encoding=\"utf-8\")\n",
    "    parsed = parse_step_text(step_num, raw_text)\n",
    "    structured_steps.append(parsed)\n"
   ]
  },
  {
   "cell_type": "code",
   "execution_count": 33,
   "id": "84695b46-9dbb-46f5-af92-f2090595e2b6",
   "metadata": {},
   "outputs": [
    {
     "name": "stdout",
     "output_type": "stream",
     "text": [
      "✅ Saved 12 steps to ../context/life_with_hope/structured/steps.json\n"
     ]
    }
   ],
   "source": [
    "import json\n",
    "\n",
    "with open(output_file, \"w\", encoding=\"utf-8\") as f:\n",
    "    for step in structured_steps:\n",
    "        f.write(json.dumps(step, ensure_ascii=False) + \"\\n\")\n",
    "\n",
    "print(f\"✅ Saved {len(structured_steps)} steps to {output_file}\")\n"
   ]
  }
 ],
 "metadata": {
  "kernelspec": {
   "display_name": "Python 3 (ipykernel)",
   "language": "python",
   "name": "python3"
  },
  "language_info": {
   "codemirror_mode": {
    "name": "ipython",
    "version": 3
   },
   "file_extension": ".py",
   "mimetype": "text/x-python",
   "name": "python",
   "nbconvert_exporter": "python",
   "pygments_lexer": "ipython3",
   "version": "3.12.1"
  }
 },
 "nbformat": 4,
 "nbformat_minor": 5
}
