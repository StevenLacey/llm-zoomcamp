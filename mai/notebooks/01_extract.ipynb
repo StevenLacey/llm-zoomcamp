{
 "cells": [
  {
   "cell_type": "code",
   "execution_count": 1,
   "id": "3d6ca9d1-626f-4665-a066-0d98b6712ada",
   "metadata": {},
   "outputs": [
    {
     "name": "stdout",
     "output_type": "stream",
     "text": [
      "\n",
      "\u001b[1m[\u001b[0m\u001b[34;49mnotice\u001b[0m\u001b[1;39;49m]\u001b[0m\u001b[39;49m A new release of pip is available: \u001b[0m\u001b[31;49m25.0.1\u001b[0m\u001b[39;49m -> \u001b[0m\u001b[32;49m25.1.1\u001b[0m\n",
      "\u001b[1m[\u001b[0m\u001b[34;49mnotice\u001b[0m\u001b[1;39;49m]\u001b[0m\u001b[39;49m To update, run: \u001b[0m\u001b[32;49mpython3 -m pip install --upgrade pip\u001b[0m\n"
     ]
    }
   ],
   "source": [
    "# Install PyMuPDF\n",
    "!pip install pymupdf --quiet\n",
    "\n",
    "import fitz  # PyMuPDF\n",
    "from pathlib import Path"
   ]
  },
  {
   "cell_type": "code",
   "execution_count": 2,
   "id": "9ce1a83f-1003-46b2-9b63-e1535c8ae6c2",
   "metadata": {},
   "outputs": [
    {
     "name": "stdout",
     "output_type": "stream",
     "text": [
      "/workspaces/llm-zoomcamp/mai/notebooks\n"
     ]
    }
   ],
   "source": [
    "import os\n",
    "print(os.getcwd())"
   ]
  },
  {
   "cell_type": "code",
   "execution_count": 7,
   "id": "21e1973f-e469-4b9b-9386-fcafc2b51bf7",
   "metadata": {},
   "outputs": [],
   "source": [
    "pdf_path = Path(\"../context/life_with_hope/life_with_hope_raw.pdf\")"
   ]
  },
  {
   "cell_type": "code",
   "execution_count": 8,
   "id": "6e447982-c8e2-42eb-9465-2cbad92dfb68",
   "metadata": {},
   "outputs": [
    {
     "name": "stdout",
     "output_type": "stream",
     "text": [
      "True\n"
     ]
    }
   ],
   "source": [
    "print(pdf_path.exists())"
   ]
  },
  {
   "cell_type": "code",
   "execution_count": 9,
   "id": "08d3fd94-90e3-4651-8cff-f0a6438f9e16",
   "metadata": {},
   "outputs": [
    {
     "name": "stdout",
     "output_type": "stream",
     "text": [
      "✅ PDF loaded: 256 total pages\n",
      "\n"
     ]
    }
   ],
   "source": [
    "doc = fitz.open(pdf_path)\n",
    "print(f\"✅ PDF loaded: {len(doc)} total pages\\n\")"
   ]
  },
  {
   "cell_type": "code",
   "execution_count": 17,
   "id": "98112ed4-bfca-43ac-ad82-f2bb08c0697b",
   "metadata": {},
   "outputs": [],
   "source": [
    "step_page_ranges = {\n",
    "    1: (23, 26),\n",
    "    2: (27, 32),\n",
    "    3: (33, 36),\n",
    "    4: (37, 42),\n",
    "    5: (43, 46),\n",
    "    6: (47, 52),\n",
    "    7: (53, 58),\n",
    "    8: (59, 64),\n",
    "    9: (65, 70),\n",
    "    10: (71, 76),\n",
    "    11: (77, 84),\n",
    "    12: (85, 88),\n",
    "}"
   ]
  },
  {
   "cell_type": "code",
   "execution_count": 19,
   "id": "3d6cdfa1-a890-42de-bee4-9f0e05eefffb",
   "metadata": {},
   "outputs": [
    {
     "name": "stdout",
     "output_type": "stream",
     "text": [
      "✅ Step 1 saved to ../context/life_with_hope/extracted_text/step_01.txt\n",
      "✅ Step 2 saved to ../context/life_with_hope/extracted_text/step_02.txt\n",
      "✅ Step 3 saved to ../context/life_with_hope/extracted_text/step_03.txt\n",
      "✅ Step 4 saved to ../context/life_with_hope/extracted_text/step_04.txt\n",
      "✅ Step 5 saved to ../context/life_with_hope/extracted_text/step_05.txt\n",
      "✅ Step 6 saved to ../context/life_with_hope/extracted_text/step_06.txt\n",
      "✅ Step 7 saved to ../context/life_with_hope/extracted_text/step_07.txt\n",
      "✅ Step 8 saved to ../context/life_with_hope/extracted_text/step_08.txt\n",
      "✅ Step 9 saved to ../context/life_with_hope/extracted_text/step_09.txt\n",
      "✅ Step 10 saved to ../context/life_with_hope/extracted_text/step_10.txt\n",
      "✅ Step 11 saved to ../context/life_with_hope/extracted_text/step_11.txt\n",
      "✅ Step 12 saved to ../context/life_with_hope/extracted_text/step_12.txt\n"
     ]
    }
   ],
   "source": [
    "output_dir = Path(\"../context/life_with_hope/extracted_text\")\n",
    "output_dir.mkdir(parents=True, exist_ok=True)\n",
    "\n",
    "for step in range(1, 13):\n",
    "    start, end = [x - 1 for x in step_page_ranges[step]]  # adjust for 0-based indexing\n",
    "    text = \"\"\n",
    "    for page_num in range(start, end + 1):\n",
    "        text += doc[page_num].get_text()\n",
    "\n",
    "    cleaned = text.replace('\\n', ' ').replace('  ', ' ').strip()\n",
    "    output_path = output_dir / f\"step_{str(step).zfill(2)}.txt\"\n",
    "    with open(output_path, \"w\", encoding=\"utf-8\") as f:\n",
    "        f.write(cleaned)\n",
    "\n",
    "    print(f\"✅ Step {step} saved to {output_path}\")\n"
   ]
  },
  {
   "cell_type": "code",
   "execution_count": null,
   "id": "2c6d4a85-e255-48b1-8884-a16807c31ad5",
   "metadata": {},
   "outputs": [],
   "source": []
  }
 ],
 "metadata": {
  "kernelspec": {
   "display_name": "Python 3 (ipykernel)",
   "language": "python",
   "name": "python3"
  },
  "language_info": {
   "codemirror_mode": {
    "name": "ipython",
    "version": 3
   },
   "file_extension": ".py",
   "mimetype": "text/x-python",
   "name": "python",
   "nbconvert_exporter": "python",
   "pygments_lexer": "ipython3",
   "version": "3.12.1"
  }
 },
 "nbformat": 4,
 "nbformat_minor": 5
}
