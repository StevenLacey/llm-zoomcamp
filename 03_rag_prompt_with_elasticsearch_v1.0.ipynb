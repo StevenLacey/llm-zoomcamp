{
 "cells": [
  {
   "cell_type": "markdown",
   "id": "79abe113-e8e3-47ea-b187-001096d243bb",
   "metadata": {},
   "source": [
    "## Import packages and API Key"
   ]
  },
  {
   "cell_type": "code",
   "execution_count": 29,
   "id": "22873eb1-e442-4079-87a2-e325c51bcb96",
   "metadata": {},
   "outputs": [],
   "source": [
    "import json\n",
    "from openai import OpenAI\n",
    "from dotenv import load_dotenv\n",
    "import os\n",
    "from openai import OpenAI\n",
    "load_dotenv()\n",
    "client = OpenAI(api_key=os.getenv(\"OPENAI_API_KEY\")) # Get Key from Env (ignored in git) \n",
    "client = OpenAI()\n",
    "from elasticsearch import Elasticsearch\n",
    "es_client = Elasticsearch('http://localhost:9200')\n",
    "from tqdm.auto import tqdm\n",
    "import fitz  # PyMuPDF\n",
    "from pathlib import Path"
   ]
  },
  {
   "cell_type": "markdown",
   "id": "d7a6949c-862b-4d1d-a6ea-fe9ce70d168a",
   "metadata": {},
   "source": [
    "## Load documents in good format"
   ]
  },
  {
   "cell_type": "code",
   "execution_count": 30,
   "id": "dc2b5f6f-6294-4e68-b53e-7898cb6e5f78",
   "metadata": {},
   "outputs": [
    {
     "name": "stdout",
     "output_type": "stream",
     "text": [
      "/workspaces/llm-zoomcamp\n"
     ]
    }
   ],
   "source": [
    "import os\n",
    "print(os.getcwd())"
   ]
  },
  {
   "cell_type": "code",
   "execution_count": 31,
   "id": "030e97fb-d839-4ca7-b9b2-aa041031eee6",
   "metadata": {},
   "outputs": [],
   "source": [
    "with open('mai/context/life_with_hope/structured/steps.json', 'r') as f: \n",
    "    steps = json.load(f)"
   ]
  },
  {
   "cell_type": "markdown",
   "id": "35984a33-d2b7-43d5-a183-dc1f7ba619ee",
   "metadata": {},
   "source": [
    "## Create Index Settings for Elasticsearch"
   ]
  },
  {
   "cell_type": "markdown",
   "id": "472fd135-a4ce-4ba8-a98f-65af667810ed",
   "metadata": {},
   "source": [
    "### Note: Looks like persists so trips an error if recreating in same instance?"
   ]
  },
  {
   "cell_type": "code",
   "execution_count": 39,
   "id": "d008be51-81cc-4105-b896-e6e5cf3c4b95",
   "metadata": {},
   "outputs": [
    {
     "data": {
      "text/plain": [
       "ObjectApiResponse({'acknowledged': True, 'shards_acknowledged': True, 'index': 'life-with-hope-steps'})"
      ]
     },
     "execution_count": 39,
     "metadata": {},
     "output_type": "execute_result"
    }
   ],
   "source": [
    "index_settings = {\n",
    "    \"settings\": {\n",
    "        \"number_of_shards\": 1,\n",
    "        \"number_of_replicas\": 0\n",
    "    },\n",
    "    \"mappings\": {\n",
    "        \"properties\": {\n",
    "            \"step\":        {\"type\": \"integer\"},\n",
    "            \"title\":       {\"type\": \"text\"},\n",
    "            \"text\":        {\"type\": \"text\"},\n",
    "            \"source\":      {\"type\": \"keyword\"},\n",
    "            \"page_start\":  {\"type\": \"integer\"},\n",
    "            \"page_end\":    {\"type\": \"integer\"},\n",
    "            \"tags\":        {\"type\": \"keyword\"}\n",
    "        }\n",
    "    }\n",
    "}\n",
    "\n",
    "index_name = \"life-with-hope-steps\"\n",
    "\n",
    "# Create the index (will error if it already exists)\n",
    "es_client.indices.create(index=index_name, body=index_settings)\n"
   ]
  },
  {
   "cell_type": "code",
   "execution_count": 40,
   "id": "b08160b9-c04c-434b-9ff0-48d2f78bc634",
   "metadata": {},
   "outputs": [
    {
     "name": "stderr",
     "output_type": "stream",
     "text": [
      "100%|█████████████████████████████████████████████████████████████████████████████████████████████████████████████████████████████████████| 12/12 [00:00<00:00, 59.88it/s]\n"
     ]
    }
   ],
   "source": [
    "for step in tqdm(steps): \n",
    "    es_client.index(index=index_name, id=step[\"step\"], document=step)"
   ]
  },
  {
   "cell_type": "markdown",
   "id": "e759bf46-8d76-4c0e-8138-d440245e73a6",
   "metadata": {},
   "source": [
    "## Create reusable functions.|"
   ]
  },
  {
   "cell_type": "code",
   "execution_count": 73,
   "id": "7e5ab81b-1e3d-42c6-893c-e9d050c3d38d",
   "metadata": {},
   "outputs": [],
   "source": [
    "def elastic_search(query, step_number=None):\n",
    "    must_clause = {\n",
    "        \"multi_match\": {\n",
    "            \"query\": query,\n",
    "            \"fields\": [\"title^2\", \"text\"],\n",
    "            \"type\": \"bool_prefix\"\n",
    "        }\n",
    "    }\n",
    "\n",
    "    # Start building the full bool query\n",
    "    bool_query = {\n",
    "        \"must\": must_clause\n",
    "    }\n",
    "\n",
    "    # Optionally add a filter for step\n",
    "    if step_number is not None:\n",
    "        bool_query[\"filter\"] = {\n",
    "            \"term\": {\n",
    "                \"step\": step_number\n",
    "            }\n",
    "        }\n",
    "\n",
    "    search_query = {\n",
    "        \"size\": 3,\n",
    "        \"query\": {\n",
    "            \"bool\": bool_query\n",
    "        }\n",
    "    }\n",
    "\n",
    "    response = es_client.search(index=index_name, body=search_query)\n",
    "\n",
    "    result_docs = []\n",
    "    for hit in response[\"hits\"][\"hits\"]:\n",
    "        result_docs.append(hit[\"_source\"])\n",
    "\n",
    "    return result_docs\n"
   ]
  },
  {
   "cell_type": "code",
   "execution_count": 74,
   "id": "0e1dcfb4-eea0-4661-942e-d695511cb6ac",
   "metadata": {},
   "outputs": [],
   "source": [
    "def build_prompt(query, search_results):\n",
    "    prompt_template = \"\"\"\n",
    "    You are an experienced 12-step Marijuana Anonymous sponsor.\n",
    "    Answer the question below using only the context from the 'Life with Hope' book.\n",
    "    If the context doesn't include a direct answer, use your best judgment based on the context to offer a helpful response.\"\n",
    "    \n",
    "    Context:\n",
    "    {context}\n",
    "    \n",
    "    Question:\n",
    "    {question}\n",
    "    \n",
    "    Answer:\"\"\"\n",
    "\n",
    "    context = \"\"\n",
    "    for doc in search_results:\n",
    "        context += f\"- Step {doc['step']}: {doc['text']}\\n\"\n",
    "\n",
    "    prompt = prompt_template.format(question=query, context=context.strip())\n",
    "    return prompt\n"
   ]
  },
  {
   "cell_type": "code",
   "execution_count": 75,
   "id": "d518b7ad-8a6d-453b-a9e0-065b140c6a58",
   "metadata": {},
   "outputs": [],
   "source": [
    "def llm(prompt, model=\"gpt-4o\"):\n",
    "    response = client.chat.completions.create(\n",
    "        model=model,\n",
    "        messages=[\n",
    "            {\"role\": \"system\", \"content\": \"You are a helpful and spiritually grounded Marijuana Anonymous sponsor. Keep your answers grounded in the 12 steps and the provided context. Avoid speculation.\"},\n",
    "            {\"role\": \"user\", \"content\": prompt}\n",
    "        ]\n",
    "    )\n",
    "    return response.choices[0].message.content.strip()\n"
   ]
  },
  {
   "cell_type": "markdown",
   "id": "f6ac87f3-5c72-4549-8bac-63cda319b033",
   "metadata": {},
   "source": [
    "## Create RAG"
   ]
  },
  {
   "cell_type": "code",
   "execution_count": 76,
   "id": "eeb74e75-08af-43e6-bbd3-9902fb9946bd",
   "metadata": {},
   "outputs": [],
   "source": [
    "def rag(query):\n",
    "    search_results = elastic_search(query)\n",
    "    prompt = build_prompt(query, search_results)\n",
    "    answer = llm(prompt)\n",
    "    return answer"
   ]
  },
  {
   "cell_type": "code",
   "execution_count": 77,
   "id": "9a75b8e3-f156-462b-8ee3-1f4d6e3111e2",
   "metadata": {},
   "outputs": [],
   "source": [
    "query = 'what if I dont believe in a higher power?'"
   ]
  },
  {
   "cell_type": "code",
   "execution_count": 78,
   "id": "491717a7-bb4e-41f8-9cac-0d9a63baa6c6",
   "metadata": {},
   "outputs": [
    {
     "name": "stdout",
     "output_type": "stream",
     "text": [
      "If you find yourself struggling with the concept of a Higher Power, it's important to remember that Marijuana Anonymous does not demand any specific beliefs, and there's room within the fellowship for all viewpoints, whether you identify as agnostic, atheist, or theist. The key is to maintain an open mind and a hopeful heart.\n",
      "\n",
      "The concept of a Higher Power in MA is quite flexible and can be tailored to your own understanding or comfort level. It doesn't have to be a deity; it can be any positive and powerful force that can help guide you in your recovery. For some, this might be the strength of the fellowship, the collective wisdom and support of the group, or simply a state of spirituality or peace that transcends individual will.\n",
      "\n",
      "In essence, the idea is to find something greater than your own ego and addiction that can aid your recovery journey. So as you work through the Twelve Steps, try to focus on the principles of open-mindedness, humility, and willingness to find what resonates and works best for you personally. The most important thing is to stop saying no, observe the recovery around you, and let yourself be open to change and growth.\n"
     ]
    }
   ],
   "source": [
    "print(rag(query))"
   ]
  },
  {
   "cell_type": "code",
   "execution_count": 79,
   "id": "8af9af61-27c0-4bd1-b685-17096cc54000",
   "metadata": {},
   "outputs": [
    {
     "name": "stdout",
     "output_type": "stream",
     "text": [
      "\n",
      "    You are an experienced 12-step Marijuana Anonymous sponsor.\n",
      "    Answer the question below using only the context from the 'Life with Hope' book.\n",
      "    If the context doesn't include a direct answer, use your best judgment based on the context to offer a helpful response.\"\n",
      "\n",
      "    Context:\n",
      "    - Step 2: Came to believe that a Power greater than ourselves could restore us to sanity. Step Two was our introduction to the principles of open-mindedness and hope. In Step One we confronted our addiction, admitting that we were powerless over marijuana and that our lives had become unmanageable. We were then left with two alternatives: to stay as we were and continue using marijuana until we died, or to seek spiritual help. Once we admitted our powerlessness, we had to find a power greater than ourselves by which we could live. We knew that our human will alone had never been sufficient to manage our addiction. We began to realize that only a Higher Power could help us. When we came to meetings and listened to others, we identified with the insanity of addiction as described by the members of the fellowship. We began to grudgingly admit that we were selfish and self-centered too, just like the other addicts in the group. We were spiritually bankrupt and needed help. We could now see that our marijuana abuse had continued long after we realized that we had a problem. We had continued using even as we became ever more resentful, isolated, paranoid, slothful, and desperate. No matter how great the need or the wish to stop, the thought of using eventually pushed aside all the reasons why we should. We always had to have a supply on hand and felt horribly guilty that we couldn’t stop using. Our insanity was evident as we repeated the same behavior over and over, yet somehow expected different results. Some of us even had bad experiences each time we smoked but managed to suppress them somehow...before we used again. We came to realize that trying to fix our lives with marijuana hadn’t worked. Marijuana had once seemed to be the most effective way to help us cope with the problem of living, at least temporarily. When we stopped using marijuana, we didn’t automatically feel worthwhile and full of purpose. Our overwhelming feelings, character defects, and negative actions were still there. Sometimes they seemed even stronger than before, because we had no anesthetic to dull them. We were not problem users whose problems went away when we threw away our stash. When we stopped using, we found we had a problem with living; we were addicts. We began to see the possibility that our beliefs about ourselves, formed while using, had been mistaken. We saw that our perceptions had been based in delusion. Some of us had withdrawn physically, with little social contact. Some of us had isolated emotionally, not allowing anyone to get close to us. And some had hidden behind a front of functionality, while in our hearts we felt trapped and incapable of controlling our using. Sometimes this front took the form of aggressive or defensive attitudes, sometimes of passive or indifferent attitudes. These were the symptoms of our disease. We had never before been able to find the power necessary to change. At this point many of us found ourselves faced with a seemingly overwhelming dilemma. Our Higher Power had always been either ourselves or our drug. Now we were being asked to accept the existence of a new and greater power. Some of us said, “I won’t believe.” Some Life with Hope Step Two said, “I can’t believe.” And some said, “I may believe in the existence of a Higher Power, but I have no real hope that it will help me.” People who will not believe in a power greater than their ego are threatened. We tell these people that MA doesn’t demand anything. Those of us who did not want faith were reminded that there is no dogma in Marijuana Anonymous. It is not necessary to acquire a major God Consciousness to be able to cease using. All we need is to maintain an open mind and a hopeful heart. It is not necessary to say yes. It is, however, important to stop saying no. Observe the reality around you and the recovery taking place within MA. One only has to stop fighting. “Higher Power” means different things to different people. To some of us, it is a God of an organized religion; to others, it is a state of being commonly called spirituality. Some of us believe in no deity; a Higher Power may be the strength gained from being a part of, and caring for, a community of others. There is room in MA for all beliefs. We do not proselytize any particular view or religion. In MA each of us discovers a spirit of humility and tolerance, and each of us finds a Higher Power that works for us. Some of us think of the group as our Higher Power. After all, the group is more powerful than any of its individual members and, over the years, it has developed procedures and traditions, which work. Our groups have found a common solution to a common problem — something that had been impossible for each individual member to accomplish on their own. And practically everyone can easily and naturally draw strength and support from the fellowship. This minimum of belief is enough to open the door and cross the threshold. Once we are on the other side, our belief and trust in a Higher Power broadens and deepens as we continue taking the Steps. Although many of us came to the fellowship already believing in the existence of a Higher Power, we doubted that it would be of help since it had not helped us to stay clean before. When we were still using, we prayed each night to stop, yet awakened the next morning and used. Some of us were just too smart for our own good. We thought we had it all figured out. We felt intellectually superior. “I can do anything I set out to do...Knowledge is power!” Yet we were faced with the paradox of our own addiction. Our best thinking brought us to our bottom. What we learned is that recovery from addiction requires resources beyond the capacities of any one individual addict. Still others had become disgusted with religion. We could only see hypocrisy, nonsense, bigotry, or self- righteousness. But upon closer examination, we found blossoms of truth and beauty hidden among the thorns. We discovered that some of these arguments were simply devices to feed our own egos, actually making us part of the problem. They were ways of feeling superior. Ironically, we were the ones who had become self-righteous. It was time to open our minds. Then there were those of us that came to the program still seeing ourselves as being very religious. Yet again, we too were faced with the question of why we had been unable to overcome the disease of addiction. Obviously our religion alone hadn’t been the answer. Gradually, as we listened to other recovering addicts, we became willing to do what was needed. We Life with Hope Step Two came to believe that a power greater than ourselves could restore us to sanity. Marijuana Anonymous gives us no definition of a power greater than ourselves. We practice spiritual principles, not religion. We have no theological doctrines. What we do have is a realization that we had never been able to stay clean on our own. We needed a Higher Power to do that. We realized that it would be arrogant to think there was no power greater than ourselves in the universe. There is room in MA for all beliefs, or none. It doesn’t matter if we are agnostic, atheist, or theist. We all have a place here. There is no conflict. For each of us, a power greater than ourselves is whatever we choose it to be. It can be any positive, powerful thing that we are comfortable with. As we began recovering, we let go of convincing others what the Greater Power was, and instead focused on how to use that power in recovery. We had sane minutes, hours, days, and weeks. We either found the way to a new faith, or renewed our old one. We saw that a power greater than ourselves was doing for us what we could never do alone. We saw that force working in our lives and in the lives of others. For Step Two, we had only needed to answer the questions, “Do I now believe?” or “Am I open to believing in a power greater than myself?” After that, we were ready for Step Three. 9\n",
      "- Step 3: Made a decision to turn our will and our lives over to the care of God, as we understood God. Step Three called us into action, for it was only by action that self-will could be removed. Our inability to surrender had always blocked the effective entry of a Higher Power into our lives. Willingness was the lever withwhichwemovedthisobstruction.Whenwetook this step, we were practicing the principle of faith. Step Three asked us to make a decision based upon our acceptance of our addiction and powerlessness that we had identified in Steps One and Two. Before, we alternated between being controlling or controlled. We either drove other people away with our self-centeredness, demanding that others react to our plans and schemes as we would have them react, or we resigned from the world by refusing to make decisions for ourselves. In either extreme, it was selfishness that ran our lives. Our intoxicated way of life had made things worse. We did whatever we could to make other people, places, and things be what we wanted. When this proved to be impossible, we would be hurt and blame others for our problems. So we tried even harder to control and consequently suffered even more. We were actually quite uncaring although we usually did not consider ourselves to be so. Why not decide to put our lives in the care of God, as we understood God? Our way had certainly not worked for us. The program of recovery works both for people who do not believe in God and for people who do. It does not work for people who think they are God. Spiritual awakening is not possible for those who remain dishonest, close-minded, and unwilling. Intolerance, belligerence, and denial keep us from open-minded investigation. For addicts, the consequences of these attitudes are dangerous. The Third Step does not say, “We turned our will and our lives over to the care of God, as we understood God.” It says rather, “We made a decision” to do so. We didn’t turn it all over perfectly or all at once. We made a decision. What an accomplishment this was! We made a decision; it was not made for us by marijuana, our families, a probation officer, judge, therapist, or doctor. We made it ourselves. We made a decision to have faith and began putting our trust in a power greater than ourselves. Step Three was neither another assertion of our willpower nor another resignation from responsibility. It was a decision. How were we going to believe that God could care for us? How could we learn to live without self-will and obsession? We were taught that a little willingness goes a long way towards building faith. Most of us resisted. We tried to understand this step before we made the decision to have faith and act upon it. We then found that simply making this decision opened us up to a spiritual connection and was an act of faith in and of itself. What we chose to do was to let go and let a caring God into our lives. Step Three was a decision not only to have faith but also to live by faith. Our lives had been centered around marijuana — getting it, and staying high. We found that by deciding to turn our will and lives over to the care of God, as we each understood God, our lives and the responsible use of our freedom to choose were returned to us. For many of us that decision was followed with a prayer to our Higher Power similar to this one: “Higher Power, I have tried to control the uncontrollable for far too long. I ask that you take this burden from me. I acknowledge that my life is unmanageable. I ask for your care and guidance. Grant me honesty, courage, humility, and serenity, to face that which keeps me from you and others. I give this life to you, to do with as you will.Œ If at all possible, we took this step with our sponsor, a spiritual advisor, or someone else we trusted. If we could find no one to share this with, then we prayed earnestly to our Higher Power. It was the beginning of learning how to “turn it over” and to “let go and let God” (both well known twelve-step sayings). By starting to trust our Higher Power, we cleared the way for growth and recovery. Now we no longer have to rely on the weak force of self-will to solve our problems. Faith and acceptance are our new solutions. The power of faith gives our lives a new direction. Learning to live by faith took practice; it opened the way to a new reliance on a Higher Power and the restoration of our inner wisdom. The turning point for us was the decision to relinquish control. However, no matter how sincere our efforts, we do make mistakes. Then we admit our humanity and try again. Having made the decision to turn our will and our lives over to the care of our Higher Power, it was time to implement the decision. We had to look at exactly what it was that we decided to turn over. We needed to discover and examine the patterns and conditions of our lives. Moreover, we needed to rediscover what in our lives made us believe in ourselves, and acknowledge gratitude for the people who had made our lives better. It was time for Step Four.\n",
      "- Step 12: Having had a spiritual awakening as the result of these steps, we tried to carry this message to marijuana addicts, and to practice these principles in all our affairs. Step Twelve is about practicing the principle of service. It is also a guarantee. At this point in our recovery, the Twelve Steps are a part of our daily lives. If we have been honest and painstaking thus far, the result is a certainty — we have experienced a spiritual awakening. By this we mean that we are now able to live our lives and feel our feelings with the knowledge and faith that we are no longer depending only on our own unaided strength and resources. We are transformed from suffering addicts seeking relief from the grip of our disease into people who are able to be “happy, joyous, and free.” By the grace of a Higher Power, we are given the gift of recovery. For most of us, recovery is a process that goes from awareness to awakening. We have many spiritual experiences before we have the permanence of a spiritual awakening as a result of growth from these Steps. We have received a gift that, in fact, amounts to a new state of being. We realize that our potential is limitless. We now have tools to help us grow. Our goals become attainable. We find ourselves in possession of new degrees of honesty, tolerance, patience, unselfishness, serenity, and love. Experience has shown us that we can all learn to live by spiritual principles. The Twelfth Step and our spiritual awakening result in a wonderful release of energy. We are now in a position to truly carry the message, in a powerful and joyful way, to fellow addicts who are still suffering. This is possible because we ourselves have become living proof that the program works. Perhaps the greatest satisfaction of recovery and living life by the spiritual principles of the Twelve Steps comes when we “give it away.” This Step says that we can be of service to God, ourselves, and others. Those of us that have been around long enough to take all the Steps are well aware that this kind of giving is its own reward. The more we help others, the more we help ourselves. This is one of the great truths of our program. There is no satisfaction greater than knowing that one has made an honest attempt to help another, regardless of the results. In Step Twelve, we take action to carry the message of recovery to the marijuana addict who still suffers. There are many ways of doing Twelfth Step work. Just being at a meeting is carrying the message. Even if we don’t speak, our presence gives reassurance and strength to others. When we do speak, we try to carry the message of recovery as best we can, keeping in mind the Twelve Traditions. We try to carry a message of recovery, rather than push our own agenda or wallow in self-pity. Our message is a simple one of hope: by following the spiritual principles of the Twelve Steps, any addict can stop using marijuana and lose the obsession and desire to do so. We reach out to other addicts. We approach and make ourselves accessible to newcomers before and after meetings and during breaks. It is often during these informal encounters that wary or suspicious newcomers may find the confidence to open up and start availing themselves of the nurturing power of the fellowship. When we are having a bad day, our self-absorption diminishes when we take the time to reach out. Service work provides the backbone of our MA; if there is no service, there is no program. Those of us who came into recovery before MA existed have experienced both the hard work it took to get this organization going and the joy of seeing it grow. We all owe a tremendous debt to the legacy of service started by other twelve-step programs. For each and every one of us, our survival depends upon a healthy and functioning fellowship. It is our responsibility to do what we can to make sure that MA continues to be there for us, for the marijuana addict who still suffers, and for the addict who is not yet born. We act as trusted servants for our groups. We take service commitments. There are many essential jobs that must be done. We set up chairs, bring cookies, make coffee, bring literature, and become group representatives at the district level. We serve on various committees, help answer the phones, and carry the message by speaking at hospitals and institutions. We go to meetings, business meetings, conferences, and conventions. We can even carry the message by attending social events. They are as much for our recovery as our enjoyment. Sharing good times with fellow addicts lets newcomers see that it is possible to enjoy life in recovery. Some of the greatest pleasure and privilege in service comes from sponsorship. A uniquely challenging and rewarding relationship can develop as one addict helps another to stay free of marijuana and grow along spiritual lines. This part of our recovery may be a miracle for those of us who found personal relationships very difficult while we were still using. Some sponsors are highly directive; others regard the literature as the sponsor, and themselves merely as guides. The level of involvement of each sponsor with their sponsee depends on the individuals involved and the needs of the relationship. At minimum, a sponsor encourages their sponsee to take the Steps and guides them through the process that the sponsor has already experienced. Some sponsors only encourage their sponsees to make their own decisions and to seek their own spiritual guidance. When a sponsee has a problem in a particular area of their life, sponsors often find that they can best help by sharing their own experience in that area, rather than by telling their sponsees specifically what to do. If we, as sponsors, are simply ourselves, asking for guidance from our Higher Power and our own sponsors, we will surely develop our own personal style for carrying the message. We must remember to take our work with newcomers in stride. We will often meet someone that we become determined to help but cannot. Sometimes even our best efforts are unsuccessful. We cannot give someone the benefits of taking the Steps, nor can we grow for them. When addicts relapse, we accept it and take consolation in the knowledge that our efforts may end up being helpful in the long run if and when the person makes another attempt at sobriety. After all, Step Twelve says we “try” to carry the message. Sponsors do what they can, but we must remember that nobody else can keep us sober, and nobody else can make us relapse. There are no saviors in MA; we are all responsible for our own sobriety and recovery. At this point in our recovery, we turn more and more to the principles contained in the Twelve Steps and Twelve Traditions and, most importantly, to our Higher Power for guidance in our daily lives. This is how we “practice these principles in all our affairs.” We apply these principles not only to the people and situations we encounter within the program, but also to all other aspects of our lives. We use these spiritual principles to guide our behavior. They lead us to honesty, open-mindedness, hope, faith, and courage. We practice integrity. We strive to be willing and humble, loving and forgiving. We learn to practice justice and perseverance. We are spiritually aware. We become of service — at home, on the job, and in our fellowship of recovery. Our families benefit from our transformation. Our friends notice the change in us. They see how our asking for help can result in acceptance, courage, and wisdom. They see us face our problems and overcome them. We have the opportunity to be a tremendous force for good. We are grateful for getting our humanity back. We can now deal constructively with the pain of loneliness, sickness, and death. We can maintain a degree of courage and serenity when forced to deal with apathy, anger, and violence. If we have been diligent, honest, and painstaking in our recovery, the tools we have acquired in this program will come to our aid when we meet life’s serious challenges: when we lose the job, when a lover leaves us, when a close friend or relative dies. It is during these times that a Higher Power, our fellows, and a spiri- tual state of being will keep us sane and sober. We can, in fact, learn to turn these calamities into positive sources of growth. Of course we all fall short of these ideals at times. When we have been in recovery for a considerable period, we run the risk of becoming indifferent. We are so happy and comfortable with our new lives that we can be lulled into thinking that we are “cured.” Why not just relax? Because inaction is the same as retrogression for us. Continuous and thorough action is essential to our recovery. It is important to note that Step Twelve does not say: “as the result of some of these Steps.” We must take all of the Steps and practice all of their principles if we are to maintain our recovery. Addiction is a terminal disease that does not go into remission simply because we’re not using. Constant vigilance is critical if we are to keep this disease at bay. Those of us who have rigorously and thoroughly taken all of the steps can attest to the fact that we have become stronger people. As we make spiritual progress, we begin to feel emotionally secure. Our new attitudes bring about self-esteem, inner strength, and serenity that is not easily shaken by any of life’s hard times. Our awakening has come about as a result of a spiritual house cleaning, being aware of who we are, and cultivating a growing relationship with our Higher Power. That relationship can lessen the role of fear as the main source of motivation in our lives. We know that our needs will be met — perhaps not in the ways that we had hoped for, but in ways from which we can truly grow. We have found that freedom from fear is much more important than freedom from want. We start to accept the unpleasantness in our lives and become grateful when we are able to experience growth from it. We learn to give without expecting rewards. We act as responsible members of society, living not in isolation but with a sense of community. We become true partners with our friends and loved ones. With the help of a Higher Power, we respond positively to adversity. Practicing the principles we learn by taking the Twelve Steps produces rewards beyond calculation. With a deep sense of gratitude and the help of a power greater than ourselves, we can live in spiritual, emotional, and physical recovery; we live with serenity and security, one day at a time. Humbly seeking to do the will of a Higher Power, we find that we can now live useful lives. As a result, we reap benefits we had thought unattainable, even unimaginable. As we each work the program in our own special way, we discover the spiritual principles that we all have in common. We are all unique examples of how the program works, each of us with our distinct gifts to share. We take these steps for ourselves, not by ourselves. Others have gone before; others will follow. We recover.\n",
      "\n",
      "    Question:\n",
      "    what if I dont believe in a higher power?\n",
      "\n",
      "    Answer:\n"
     ]
    }
   ],
   "source": [
    "print(build_prompt(query, elastic_search(query)))\n"
   ]
  },
  {
   "cell_type": "code",
   "execution_count": null,
   "id": "bcb0c41f-f966-4615-b139-9e49aa6e3a55",
   "metadata": {},
   "outputs": [],
   "source": []
  },
  {
   "cell_type": "code",
   "execution_count": null,
   "id": "1bd42883-acaf-4083-b7af-0d29b2ae24c8",
   "metadata": {},
   "outputs": [],
   "source": []
  }
 ],
 "metadata": {
  "kernelspec": {
   "display_name": "Python 3 (ipykernel)",
   "language": "python",
   "name": "python3"
  },
  "language_info": {
   "codemirror_mode": {
    "name": "ipython",
    "version": 3
   },
   "file_extension": ".py",
   "mimetype": "text/x-python",
   "name": "python",
   "nbconvert_exporter": "python",
   "pygments_lexer": "ipython3",
   "version": "3.12.1"
  }
 },
 "nbformat": 4,
 "nbformat_minor": 5
}
