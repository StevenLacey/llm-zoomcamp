{
 "cells": [
  {
   "cell_type": "code",
   "execution_count": 3,
   "id": "b10f11a1-4820-4985-93dc-b77b932d0623",
   "metadata": {},
   "outputs": [],
   "source": [
    "from dotenv import load_dotenv\n",
    "import os\n",
    "from openai import OpenAI"
   ]
  },
  {
   "cell_type": "code",
   "execution_count": 4,
   "id": "aa0cda2c-5302-44b1-a960-ad32331a968e",
   "metadata": {},
   "outputs": [
    {
     "data": {
      "text/plain": [
       "True"
      ]
     },
     "execution_count": 4,
     "metadata": {},
     "output_type": "execute_result"
    }
   ],
   "source": [
    "load_dotenv()"
   ]
  },
  {
   "cell_type": "code",
   "execution_count": 6,
   "id": "4ae7dab6-96e4-41d8-a939-0b223b52d4a6",
   "metadata": {},
   "outputs": [],
   "source": [
    "client = OpenAI(api_key=os.getenv(\"OPENAI_API_KEY\"))"
   ]
  },
  {
   "cell_type": "code",
   "execution_count": 7,
   "id": "9fe66b0c-f58b-447e-a66f-240c91e9cf8b",
   "metadata": {},
   "outputs": [
    {
     "data": {
      "text/plain": [
       "<openai.OpenAI at 0x704bf5b6c950>"
      ]
     },
     "execution_count": 7,
     "metadata": {},
     "output_type": "execute_result"
    }
   ],
   "source": [
    "client"
   ]
  },
  {
   "cell_type": "code",
   "execution_count": 10,
   "id": "8cb52a7c-7b68-4157-ae71-b4bde7d2c0ea",
   "metadata": {},
   "outputs": [],
   "source": [
    "response = client.chat.completions.create(\n",
    "    model=\"gpt-4o\",\n",
    "    messages=[{\"role\": \"user\", \"content\": \"is it too late to join the course?\"}]\n",
    ")"
   ]
  },
  {
   "cell_type": "code",
   "execution_count": 13,
   "id": "d1644113-a669-4ffd-990b-5b17b00e0019",
   "metadata": {},
   "outputs": [
    {
     "name": "stdout",
     "output_type": "stream",
     "text": [
      "It's hard to say without more context. Course enrollment deadlines vary widely depending on the institution, the type of course, and other factors. To get the most accurate information:\n",
      "\n",
      "1. **Check the Course Website:** Most courses, especially those offered by universities or online platforms, will have clear enrollment deadlines listed.\n",
      "\n",
      "2. **Contact the Instructor or Institution:** If you’re unsure about the deadlines or if special arrangements can be made, reaching out directly is a good approach.\n",
      "\n",
      "3. **Consider Late Enrollment Policies:** Some institutions allow late enrollment with certain penalties or fees, while others might let you audit the course.\n",
      "\n",
      "4. **Look for Rolling Admissions:** Some courses offer rolling admissions, meaning you can join at any time.\n",
      "\n",
      "5. **Check for Prerequisites:** Even if the enrollment period is open, make sure you meet any prerequisites the course might have.\n",
      "\n",
      "If you provide more specific details about the course, I might be able to offer more tailored advice.\n"
     ]
    }
   ],
   "source": [
    "print(response.choices[0].message.content)"
   ]
  },
  {
   "cell_type": "code",
   "execution_count": null,
   "id": "130ed1fc-d6e4-401f-9128-ece442350951",
   "metadata": {},
   "outputs": [],
   "source": []
  }
 ],
 "metadata": {
  "kernelspec": {
   "display_name": "Python 3 (ipykernel)",
   "language": "python",
   "name": "python3"
  },
  "language_info": {
   "codemirror_mode": {
    "name": "ipython",
    "version": 3
   },
   "file_extension": ".py",
   "mimetype": "text/x-python",
   "name": "python",
   "nbconvert_exporter": "python",
   "pygments_lexer": "ipython3",
   "version": "3.12.1"
  }
 },
 "nbformat": 4,
 "nbformat_minor": 5
}
