{
 "cells": [
  {
   "cell_type": "markdown",
   "id": "fe7c46dc-18f0-4b5d-88c7-51e46c05a280",
   "metadata": {},
   "source": [
    "### Import packages and API Key"
   ]
  },
  {
   "cell_type": "code",
   "execution_count": 28,
   "id": "26e27298-3aa1-413a-845b-510ff8ffa52f",
   "metadata": {},
   "outputs": [],
   "source": [
    "import minsearch\n",
    "import json\n",
    "from openai import OpenAI\n",
    "from dotenv import load_dotenv\n",
    "import os\n",
    "from openai import OpenAI\n",
    "load_dotenv()\n",
    "client = OpenAI(api_key=os.getenv(\"OPENAI_API_KEY\")) # Get Key from Env (ignored in git) \n",
    "client = OpenAI()"
   ]
  },
  {
   "cell_type": "markdown",
   "id": "aa8ff43c-5cbb-411e-9810-c16fa663d740",
   "metadata": {},
   "source": [
    "### Get min search"
   ]
  },
  {
   "cell_type": "code",
   "execution_count": 2,
   "id": "1f6b0407-d04a-4610-9a98-9ccd21505269",
   "metadata": {},
   "outputs": [
    {
     "name": "stdout",
     "output_type": "stream",
     "text": [
      "--2025-06-04 14:28:08--  https://raw.githubusercontent.com/alexeygrigorev/minsearch/refs/heads/main/minsearch/minsearch.py\n",
      "Resolving raw.githubusercontent.com (raw.githubusercontent.com)... 185.199.109.133, 185.199.110.133, 185.199.111.133, ...\n",
      "Connecting to raw.githubusercontent.com (raw.githubusercontent.com)|185.199.109.133|:443... connected.\n",
      "HTTP request sent, awaiting response... 200 OK\n",
      "Length: 5488 (5.4K) [text/plain]\n",
      "Saving to: ‘minsearch.py.4’\n",
      "\n",
      "minsearch.py.4      100%[===================>]   5.36K  --.-KB/s    in 0s      \n",
      "\n",
      "2025-06-04 14:28:08 (47.4 MB/s) - ‘minsearch.py.4’ saved [5488/5488]\n",
      "\n"
     ]
    }
   ],
   "source": [
    "!wget https://raw.githubusercontent.com/alexeygrigorev/minsearch/refs/heads/main/minsearch/minsearch.py"
   ]
  },
  {
   "cell_type": "markdown",
   "id": "540cd93e-ecf9-44a2-a5e5-8d9df799e227",
   "metadata": {},
   "source": [
    "### Load documents in good format"
   ]
  },
  {
   "cell_type": "code",
   "execution_count": 29,
   "id": "f603c775-d283-420e-875f-f9b23d83467e",
   "metadata": {},
   "outputs": [],
   "source": [
    "with open('documents.json', 'rt') as f_in: \n",
    "    docs_raw = json.load(f_in)\n",
    "\n",
    "documents = []\n",
    "\n",
    "for course_dict in docs_raw: \n",
    "    for doc in course_dict['documents']:\n",
    "        doc['course'] = course_dict['course']\n",
    "        documents.append(doc)"
   ]
  },
  {
   "cell_type": "code",
   "execution_count": 4,
   "id": "a7d99e21-a2ec-43c0-9ec7-ab8c47312b12",
   "metadata": {},
   "outputs": [
    {
     "data": {
      "text/plain": [
       "<minsearch.Index at 0x7e3239486840>"
      ]
     },
     "execution_count": 4,
     "metadata": {},
     "output_type": "execute_result"
    }
   ],
   "source": [
    "index = minsearch.Index(\n",
    "    text_fields=[\"question\", \"text\", \"section\"], \n",
    "    keyword_fields=[\"course\"] \n",
    ")\n",
    "index.fit(documents)"
   ]
  },
  {
   "cell_type": "markdown",
   "id": "562b7f70-60b0-4e07-b687-13ca624e85cf",
   "metadata": {},
   "source": [
    "### Create reusable functions. "
   ]
  },
  {
   "cell_type": "code",
   "execution_count": 5,
   "id": "abf9e1ad-cf2b-4f97-8d7b-49997132af5a",
   "metadata": {},
   "outputs": [],
   "source": [
    "def search(query): \n",
    "    boost = {'question': 3.0, 'section': 0.5}\n",
    "\n",
    "    results = index.search(\n",
    "        query=query, \n",
    "        filter_dict={'course': 'data-engineering-zoomcamp'},\n",
    "        boost_dict=boost, \n",
    "        num_results=10\n",
    "    )\n",
    "    return results"
   ]
  },
  {
   "cell_type": "code",
   "execution_count": 12,
   "id": "e61f46c2-2158-4526-a2b7-28371ad59e81",
   "metadata": {},
   "outputs": [],
   "source": [
    "def build_prompt(query, seach_results): \n",
    "    prompt_template = \"\"\"\n",
    "    You're a course teaching assistant. Answer the Question based on the CONTEXT from the FAQ database. \n",
    "    Use only the facts from the CONTEXT when answering the QUESTION. \n",
    "    If the CONTEXT doesn't contain the answer, output NONE\n",
    "    \n",
    "    QUESTION: {question}\n",
    "    \n",
    "    CONTEXT: \n",
    "    {context}\n",
    "    \"\"\"\n",
    "    \n",
    "    context = \"\"\n",
    "    \n",
    "    for doc in search_results: \n",
    "        context = context + f\"section: {doc['section']}\\nquestion: {doc['question']}\\nanswer: {doc['text']}\\n\\n\"\n",
    "   \n",
    "    prompt = prompt_template.format(question=query, context=context).strip()\n",
    "    return prompt "
   ]
  },
  {
   "cell_type": "code",
   "execution_count": 13,
   "id": "16480c64-da17-4d85-a219-5ec93456b353",
   "metadata": {},
   "outputs": [],
   "source": [
    "def llm(prompt):\n",
    "    response=client.chat.completions.create(\n",
    "        model='gpt-4o',\n",
    "        messages=[{\"role\": \"user\", \"content\": prompt}]\n",
    "    )  \n",
    "    return response.choices[0].message.content"
   ]
  },
  {
   "cell_type": "markdown",
   "id": "063c9782-7ee1-4319-a9f7-45caf81f0aff",
   "metadata": {},
   "source": [
    "### create RAG "
   ]
  },
  {
   "cell_type": "code",
   "execution_count": 37,
   "id": "6d9f2b78-237f-4075-9a85-6816ac7cc535",
   "metadata": {},
   "outputs": [],
   "source": [
    "query = 'How many Zoomcamps are there in a year?'\n",
    "\n",
    "def rag(query):\n",
    "    search_results = search(query)\n",
    "    prompt = build_prompt(query, search_results)\n",
    "    answer = llm(prompt)\n",
    "    return answer"
   ]
  },
  {
   "cell_type": "markdown",
   "id": "2703d63e-92b9-4424-8621-406ca621fe69",
   "metadata": {},
   "source": [
    "### Return Answer"
   ]
  },
  {
   "cell_type": "code",
   "execution_count": 36,
   "id": "8237cc01-a276-4df2-b37a-2b2af89b0d5b",
   "metadata": {},
   "outputs": [
    {
     "data": {
      "text/plain": [
       "'There are 3 Zoomcamps in a year, as of 2024. They are for separate courses: Data-Engineering (Jan - Apr), MLOps (May - Aug), and Machine Learning (Sep - Jan).'"
      ]
     },
     "execution_count": 36,
     "metadata": {},
     "output_type": "execute_result"
    }
   ],
   "source": [
    "rag(query)"
   ]
  },
  {
   "cell_type": "code",
   "execution_count": null,
   "id": "4fc68d55-1c06-4e57-ac3d-8ef999df98f5",
   "metadata": {},
   "outputs": [],
   "source": []
  }
 ],
 "metadata": {
  "kernelspec": {
   "display_name": "Python 3 (ipykernel)",
   "language": "python",
   "name": "python3"
  },
  "language_info": {
   "codemirror_mode": {
    "name": "ipython",
    "version": 3
   },
   "file_extension": ".py",
   "mimetype": "text/x-python",
   "name": "python",
   "nbconvert_exporter": "python",
   "pygments_lexer": "ipython3",
   "version": "3.12.1"
  }
 },
 "nbformat": 4,
 "nbformat_minor": 5
}
