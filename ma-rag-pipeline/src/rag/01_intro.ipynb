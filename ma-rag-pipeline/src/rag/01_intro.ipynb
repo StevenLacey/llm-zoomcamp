{
 "cells": [
  {
   "cell_type": "code",
   "execution_count": 5,
   "id": "6046d0c2",
   "metadata": {},
   "outputs": [],
   "source": [
    "# Add src to sys.path so you can import your modules\n",
    "import sys\n",
    "from pathlib import Path\n",
    "\n",
    "project_root = Path.cwd().parent.parent  # Adjust if your notebook is in src/rag/\n",
    "src_path = project_root / \"src\"\n",
    "if str(src_path) not in sys.path:\n",
    "    sys.path.append(str(src_path))\n",
    "\n",
    "from entities.user import load_users, get_user_by_id"
   ]
  },
  {
   "cell_type": "code",
   "execution_count": 6,
   "id": "68e4a8d6",
   "metadata": {},
   "outputs": [],
   "source": [
    "users_path = project_root / \"data\" / \"users.json\""
   ]
  },
  {
   "cell_type": "code",
   "execution_count": 7,
   "id": "1f8e730b",
   "metadata": {},
   "outputs": [],
   "source": [
    "def intake_router():\n",
    "    print(\"Welcome to Marijuana Anonymous AI Sponsor!\")\n",
    "    name = input(\"What's your first name? \").strip()\n",
    "    user_id = input(\"If you have a user ID, enter it (or press Enter if new): \").strip()\n",
    "    users = load_users(users_path)\n",
    "    user = get_user_by_id(user_id, users) if user_id else None\n",
    "\n",
    "    if not user:\n",
    "        print(f\"\\nHi {name}, it looks like you're new here.\")\n",
    "        print(\"We'll start with an initial sponsor conversation to get to know you.\")\n",
    "        print(\"Please proceed to the Initial Conversation module (02b_initial_conversations), and they'll set you up with a user_id.\")\n",
    "        return \"initial_conversation\"\n",
    "    else:\n",
    "        print(f\"\\nWelcome back, {name}!\")\n",
    "        print(\"What would you like to talk about today?\")\n",
    "        print(\"1. Step work\\n2. Cravings\\n3. Something else\")\n",
    "        choice = input(\"Enter 1, 2, or 3: \").strip()\n",
    "        if choice == \"1\":\n",
    "            print(f\"Routing you to Step Work support with your user_id of {user_id}.\")\n",
    "            return \"step_work\"\n",
    "        elif choice == \"2\":\n",
    "            print(f\"Routing you to Cravings support with your user_id of {user_id}, (coming soon)...\")\n",
    "            return \"cravings\"\n",
    "        else:\n",
    "            print(f\"Routing you to General Support with your user_id of {user_id}, (coming soon)...\")\n",
    "            return \"general_support\""
   ]
  },
  {
   "cell_type": "code",
   "execution_count": 8,
   "id": "d55532d7",
   "metadata": {},
   "outputs": [
    {
     "name": "stdout",
     "output_type": "stream",
     "text": [
      "Welcome to Marijuana Anonymous AI Sponsor!\n",
      "\n",
      "Hi Steve, it looks like you're new here.\n",
      "We'll start with an initial sponsor conversation to get to know you.\n",
      "Please proceed to the Initial Conversation module (02b_initial_conversations), and they'll set you up with a user_id.\n"
     ]
    }
   ],
   "source": [
    "# Run this cell to start the intake process\n",
    "route = intake_router()\n",
    "# You can use the 'route' variable to trigger the appropriate module/script"
   ]
  },
  {
   "cell_type": "code",
   "execution_count": null,
   "id": "7c9e35b6",
   "metadata": {},
   "outputs": [],
   "source": []
  }
 ],
 "metadata": {
  "kernelspec": {
   "display_name": "Python 3",
   "language": "python",
   "name": "python3"
  },
  "language_info": {
   "codemirror_mode": {
    "name": "ipython",
    "version": 3
   },
   "file_extension": ".py",
   "mimetype": "text/x-python",
   "name": "python",
   "nbconvert_exporter": "python",
   "pygments_lexer": "ipython3",
   "version": "3.12.1"
  }
 },
 "nbformat": 4,
 "nbformat_minor": 5
}
