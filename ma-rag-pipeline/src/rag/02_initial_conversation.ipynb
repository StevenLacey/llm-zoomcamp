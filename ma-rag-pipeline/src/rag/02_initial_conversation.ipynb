{
 "cells": [
  {
   "cell_type": "code",
   "execution_count": null,
   "id": "d8a3b597",
   "metadata": {},
   "outputs": [],
   "source": [
    "import sys\n",
    "from pathlib import Path\n",
    "\n",
    "project_root = Path.cwd().parent.parent  # Adjust if your notebook is in src/rag/\n",
    "src_path = project_root / \"src\"\n",
    "if str(src_path) not in sys.path:\n",
    "    sys.path.append(str(src_path))\n"
   ]
  },
  {
   "cell_type": "code",
   "execution_count": null,
   "id": "e80d12bd",
   "metadata": {},
   "outputs": [],
   "source": []
  },
  {
   "cell_type": "code",
   "execution_count": 32,
   "id": "16960c34",
   "metadata": {},
   "outputs": [],
   "source": [
    "from entities.persona import PersonaManager"
   ]
  },
  {
   "cell_type": "code",
   "execution_count": 40,
   "id": "e15560e0",
   "metadata": {},
   "outputs": [
    {
     "data": {
      "text/plain": [
       "'Skeptical, analytical, seeks logic and proof before belief'"
      ]
     },
     "execution_count": 40,
     "metadata": {},
     "output_type": "execute_result"
    }
   ],
   "source": [
    "PersonaManager().get_persona_by_id(\"trust_builder\").description"
   ]
  },
  {
   "cell_type": "code",
   "execution_count": null,
   "id": "9fddfa85",
   "metadata": {},
   "outputs": [],
   "source": []
  }
 ],
 "metadata": {
  "kernelspec": {
   "display_name": "Python 3",
   "language": "python",
   "name": "python3"
  },
  "language_info": {
   "codemirror_mode": {
    "name": "ipython",
    "version": 3
   },
   "file_extension": ".py",
   "mimetype": "text/x-python",
   "name": "python",
   "nbconvert_exporter": "python",
   "pygments_lexer": "ipython3",
   "version": "3.12.1"
  }
 },
 "nbformat": 4,
 "nbformat_minor": 5
}
