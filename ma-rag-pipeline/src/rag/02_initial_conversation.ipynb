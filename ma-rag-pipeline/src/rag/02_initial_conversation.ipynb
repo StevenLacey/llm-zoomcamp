{
 "cells": [
  {
   "cell_type": "code",
   "execution_count": 1,
   "id": "d8a3b597",
   "metadata": {},
   "outputs": [
    {
     "name": "stderr",
     "output_type": "stream",
     "text": [
      "/usr/local/python/3.12.1/lib/python3.12/site-packages/tqdm/auto.py:21: TqdmWarning: IProgress not found. Please update jupyter and ipywidgets. See https://ipywidgets.readthedocs.io/en/stable/user_install.html\n",
      "  from .autonotebook import tqdm as notebook_tqdm\n"
     ]
    }
   ],
   "source": [
    "import json\n",
    "from openai import OpenAI\n",
    "from dotenv import load_dotenv\n",
    "import os\n",
    "from openai import OpenAI\n",
    "load_dotenv()\n",
    "client = OpenAI(api_key=os.getenv(\"OPENAI_API_KEY\")) # Get Key from Env (ignored in git) \n",
    "client = OpenAI()\n",
    "from elasticsearch import Elasticsearch\n",
    "es_client = Elasticsearch('http://localhost:9200')\n",
    "from tqdm.auto import tqdm\n",
    "import fitz  # PyMuPDF\n",
    "## think i dont need any more ## from pathlib import Path"
   ]
  },
  {
   "cell_type": "code",
   "execution_count": 2,
   "id": "7d65bc5f",
   "metadata": {},
   "outputs": [],
   "source": [
    "# Set WD\n",
    "import os \n",
    "os.getcwd()\n",
    "# change path to the ma-rag-pipeline directory \n",
    "os.chdir(\"/workspaces/llm-zoomcamp/ma-rag-pipeline\")"
   ]
  },
  {
   "cell_type": "markdown",
   "id": "cc7deba5",
   "metadata": {},
   "source": [
    "### 1. Import new entity and utility functions. "
   ]
  },
  {
   "cell_type": "code",
   "execution_count": 3,
   "id": "37a16bf1",
   "metadata": {},
   "outputs": [],
   "source": [
    "from src.entities.user import load_users, get_user_by_id\n",
    "from src.entities.spiritual_profile import load_spiritual_profiles, get_profile_by_user_id\n",
    "from src.entities.conversation import load_conversations, append_conversation\n",
    "from src.entities.persona import load_personas, get_persona_by_id\n",
    "from src.utils.io import load_json, save_json, append_json_record\n",
    "from pathlib import Path # I was already using this "
   ]
  },
  {
   "cell_type": "markdown",
   "id": "5bcefa48",
   "metadata": {},
   "source": [
    "### 2. Set Paths"
   ]
  },
  {
   "cell_type": "code",
   "execution_count": 4,
   "id": "1394ccb5",
   "metadata": {},
   "outputs": [],
   "source": [
    "\n",
    "user_path = Path(\"data/users.json\")\n",
    "persona_path = Path(\"data/personas.json\")\n",
    "spiritual_profile_path = Path(\"data/spiritual_profiles.json\")\n",
    "conversation_path = Path(\"data/conversations.json\")"
   ]
  },
  {
   "cell_type": "markdown",
   "id": "163e1dbb",
   "metadata": {},
   "source": [
    "### 3. Load Data"
   ]
  },
  {
   "cell_type": "code",
   "execution_count": 5,
   "id": "a267ed6b",
   "metadata": {},
   "outputs": [],
   "source": [
    "users = load_users(user_path)\n",
    "spiritual_profiles = load_spiritual_profiles(spiritual_profile_path)\n",
    "personas = load_personas(persona_path)\n",
    "conversations = load_conversations(conversation_path)"
   ]
  },
  {
   "cell_type": "code",
   "execution_count": 6,
   "id": "5bf84638",
   "metadata": {},
   "outputs": [
    {
     "data": {
      "text/plain": [
       "PosixPath('data/users.json')"
      ]
     },
     "execution_count": 6,
     "metadata": {},
     "output_type": "execute_result"
    }
   ],
   "source": [
    "user_path"
   ]
  },
  {
   "cell_type": "code",
   "execution_count": null,
   "id": "a1bf4d95",
   "metadata": {},
   "outputs": [
    {
     "data": {
      "text/plain": [
       "['Bob is struggling with marijuana addiction.',\n",
       " 'He turned to marijuana as a coping mechanism after the loss of his cat and family.',\n",
       " 'He feels betrayed by religion but is open to exploring spirituality.']"
      ]
     },
     "execution_count": 10,
     "metadata": {},
     "output_type": "execute_result"
    }
   ],
   "source": []
  },
  {
   "cell_type": "code",
   "execution_count": null,
   "id": "b3e469e7",
   "metadata": {},
   "outputs": [],
   "source": []
  }
 ],
 "metadata": {
  "kernelspec": {
   "display_name": "Python 3",
   "language": "python",
   "name": "python3"
  },
  "language_info": {
   "codemirror_mode": {
    "name": "ipython",
    "version": 3
   },
   "file_extension": ".py",
   "mimetype": "text/x-python",
   "name": "python",
   "nbconvert_exporter": "python",
   "pygments_lexer": "ipython3",
   "version": "3.12.1"
  }
 },
 "nbformat": 4,
 "nbformat_minor": 5
}
