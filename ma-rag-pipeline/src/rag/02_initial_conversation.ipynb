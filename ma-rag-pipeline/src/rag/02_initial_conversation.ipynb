{
 "cells": [
  {
   "cell_type": "code",
   "execution_count": 1,
   "id": "d8a3b597",
   "metadata": {},
   "outputs": [
    {
     "name": "stderr",
     "output_type": "stream",
     "text": [
      "/usr/local/python/3.12.1/lib/python3.12/site-packages/tqdm/auto.py:21: TqdmWarning: IProgress not found. Please update jupyter and ipywidgets. See https://ipywidgets.readthedocs.io/en/stable/user_install.html\n",
      "  from .autonotebook import tqdm as notebook_tqdm\n"
     ]
    }
   ],
   "source": [
    "import json\n",
    "from openai import OpenAI\n",
    "from dotenv import load_dotenv\n",
    "import os\n",
    "from openai import OpenAI\n",
    "load_dotenv()\n",
    "client = OpenAI(api_key=os.getenv(\"OPENAI_API_KEY\")) # Get Key from Env (ignored in git) \n",
    "client = OpenAI()\n",
    "from elasticsearch import Elasticsearch\n",
    "es_client = Elasticsearch('http://localhost:9200')\n",
    "from tqdm.auto import tqdm\n",
    "import fitz  # PyMuPDF\n",
    "## think i dont need any more ## from pathlib import Path"
   ]
  },
  {
   "cell_type": "code",
   "execution_count": 2,
   "id": "7d65bc5f",
   "metadata": {},
   "outputs": [],
   "source": [
    "# Set WD\n",
    "import os \n",
    "os.getcwd()\n",
    "# change path to the ma-rag-pipeline directory \n",
    "os.chdir(\"/workspaces/llm-zoomcamp/ma-rag-pipeline\")"
   ]
  },
  {
   "cell_type": "markdown",
   "id": "cc7deba5",
   "metadata": {},
   "source": [
    "### 1. Import new entity and utility functions. "
   ]
  },
  {
   "cell_type": "code",
   "execution_count": 3,
   "id": "37a16bf1",
   "metadata": {},
   "outputs": [],
   "source": [
    "from src.entities.user import load_users, get_user_by_id\n",
    "from src.entities.spiritual_profile import load_spiritual_profiles, get_profile_by_user_id\n",
    "from src.entities.conversation import load_conversations, append_conversation\n",
    "from src.entities.persona import load_personas, get_persona_by_id\n",
    "from src.utils.io import load_json, save_json, append_json_record\n",
    "from pathlib import Path # I was already using this "
   ]
  },
  {
   "cell_type": "markdown",
   "id": "5bcefa48",
   "metadata": {},
   "source": [
    "### 2. Set Paths"
   ]
  },
  {
   "cell_type": "code",
   "execution_count": 4,
   "id": "1394ccb5",
   "metadata": {},
   "outputs": [],
   "source": [
    "\n",
    "user_path = Path(\"data/users.json\")\n",
    "persona_path = Path(\"data/personas.json\")\n",
    "spiritual_profile_path = Path(\"data/spiritual_profiles.json\")\n",
    "conversation_path = Path(\"data/conversations.json\")"
   ]
  },
  {
   "cell_type": "markdown",
   "id": "163e1dbb",
   "metadata": {},
   "source": [
    "### 3. Load Data"
   ]
  },
  {
   "cell_type": "code",
   "execution_count": 5,
   "id": "a267ed6b",
   "metadata": {},
   "outputs": [],
   "source": [
    "users = load_users(user_path)\n",
    "spiritual_profiles = load_spiritual_profiles(spiritual_profile_path)\n",
    "personas = load_personas(persona_path)\n",
    "conversations = load_conversations(conversation_path)"
   ]
  },
  {
   "cell_type": "markdown",
   "id": "0f1d6c90",
   "metadata": {},
   "source": [
    "### 4. Select Persona"
   ]
  },
  {
   "cell_type": "markdown",
   "id": "0bbb88d1",
   "metadata": {},
   "source": [
    "### 5. initialize current conversation history"
   ]
  },
  {
   "cell_type": "code",
   "execution_count": null,
   "id": "25f2800d",
   "metadata": {},
   "outputs": [],
   "source": [
    "current_conversation_history = []"
   ]
  },
  {
   "cell_type": "code",
   "execution_count": 40,
   "id": "fa30f470",
   "metadata": {},
   "outputs": [],
   "source": [
    "# RAG and Prompt Functions\n",
    "def build_initial_conversation_prompt(query, conversation_history=None):\n",
    "    \"\"\"Build prompt for initial conversation using spiritual_explorer persona from JSON\"\"\"\n",
    "    \n",
    "    # Get spiritual_explorer persona from file\n",
    "    persona = get_persona_by_id(\"spiritual_explorer\", personas).to_dict() # Pull the beginner persona from the personas.json file\n",
    "    \n",
    "    # Build conversation context if history exists\n",
    "    history_text = \"\"\n",
    "    if conversation_history:\n",
    "        recent_history = conversation_history[-4:]  # Last 2 exchanges\n",
    "        for msg in recent_history:\n",
    "            role = \"user\" if msg[\"role\"] == \"user\" else \"sponsor\"\n",
    "            history_text += f\"{role}: {msg['content']}\\n\"\n",
    "        history_text = f\"\\nRecent conversation:\\n{history_text}\"\n",
    "    \n",
    "    prompt_template = f\"\"\"You are an experienced MA sponsor meeting someone for their very first time at Marijuana Anonymous.\n",
    "\n",
    "Your communication style: {persona['language_style']} \n",
    "Your approach: {persona['description']}\n",
    "\n",
    "This is an initial meeting conversation. Your goals:\n",
    "1. Welcome them warmly and create a safe space\n",
    "2. Learn their name\n",
    "3. Understand what brought them to MA today  \n",
    "4. Gently assess their relationship with marijuana\n",
    "5. Begin to understand their spiritual openness (without being pushy)\n",
    "6. Determine if they're ready to start recovery work\n",
    "\n",
    "Keep responses conversational and warm (2-3 sentences max). Don't rush through questions - let the conversation flow naturally.{history_text}\n",
    "\n",
    "User says: \"{query}\"\n",
    "\n",
    "Respond as their sponsor:\"\"\"\n",
    "    \n",
    "    return prompt_template"
   ]
  },
  {
   "cell_type": "code",
   "execution_count": 41,
   "id": "b201c0c7",
   "metadata": {},
   "outputs": [],
   "source": [
    "def llm_initial(prompt, model=\"gpt-4o\"):\n",
    "    \"\"\"LLM call for initial conversations\"\"\"\n",
    "    response = client.chat.completions.create(\n",
    "        model=model,\n",
    "        messages=[\n",
    "            {\"role\": \"system\", \"content\": \"You are a warm, experienced MA sponsor. Keep responses natural and conversational.\"},\n",
    "            {\"role\": \"user\", \"content\": prompt}\n",
    "        ],\n",
    "        temperature=0.7\n",
    "    )\n",
    "    return response.choices[0].message.content.strip()"
   ]
  },
  {
   "cell_type": "code",
   "execution_count": 42,
   "id": "6f139ceb",
   "metadata": {},
   "outputs": [],
   "source": [
    "def rag_initial_conversation(query, conversation_history=None):\n",
    "    \"\"\"RAG function for initial conversations\"\"\"\n",
    "    prompt = build_initial_conversation_prompt(query, conversation_history)\n",
    "    answer = llm_initial(prompt)\n",
    "    # Update conversation history\n",
    "    current_conversation_history.append({\"role\": \"user\", \"content\": query})\n",
    "    current_conversation_history.append({\"role\": \"sponsor\", \"content\": answer})\n",
    "    \n",
    "    return answer"
   ]
  },
  {
   "cell_type": "code",
   "execution_count": 43,
   "id": "96a4d6c5",
   "metadata": {},
   "outputs": [
    {
     "data": {
      "text/plain": [
       "\"Hi there! It's so nice to meet you, and I'm glad you’re here. Can I ask your name?\""
      ]
     },
     "execution_count": 43,
     "metadata": {},
     "output_type": "execute_result"
    }
   ],
   "source": [
    "rag_initial_conversation(\"Hi, I'm new here and looking for help with my marijuana use.\", current_conversation_history)"
   ]
  },
  {
   "cell_type": "code",
   "execution_count": null,
   "id": "87822dc8",
   "metadata": {},
   "outputs": [
    {
     "name": "stdout",
     "output_type": "stream",
     "text": [
      "Sponsor: Hello there! I'm really glad you decided to join us today. Can I ask what name you'd like to go by here?\n",
      "Sponsor: Hi Steve, it's really nice to meet you. I'm really glad you decided to join us today. What brought you to Marijuana Anonymous?\n",
      "Sponsor: I appreciate you sharing that with me, Steve. It sounds like you're facing a significant challenge with the upcoming move. What do you think makes you feel most vulnerable about going back to Canada?\n",
      "Sponsor: I hear you, Steve. Being in a place where it's so accessible and feeling alone can definitely be tough. Have you thought about any strategies or support systems that might help you stay grounded while you're there?\n",
      "Sponsor: It's completely okay to reach out to your sponsor, Steve. That's what we're here for—to support each other, especially during challenging times. Maybe we can brainstorm a few more ways to help you feel connected and supported while you're there. How does that sound?\n",
      "Sponsor: Great, Steve. Let's think about what might work for you. Maybe we can start by making a list of a few things you could do when you're feeling tempted or lonely. Are there any activities or hobbies you enjoy that could help keep your mind occupied?\n",
      "Sponsor: That sounds like a good plan, Steve. Keeping busy with the house and the move can definitely help keep your mind focused. How are you feeling about everything that's going on with the move?\n",
      "Sponsor: I can imagine that's quite a big task, Steve. It must feel overwhelming at times to manage such a significant transition. How are you handling all the stress that comes with selling a house abroad?\n",
      "Sponsor: Wow, Steve, that's a lot to have on your plate all at once. It sounds like you're navigating some major life changes, and it must be tough not having much time for yourself in all this. How are you managing to cope day-to-day with everything that's happening?\n",
      "Sponsor: It sounds like you're going through a really challenging time, Steve, and it's understandable that you might be leaning on something to help cope. I'm glad you've reached out to talk about it. What brings you to Marijuana Anonymous today?\n",
      "Sponsor: It sounds like you're recognizing some patterns that might be concerning for you, Steve. It's great that you're here and willing to explore these feelings. How do you feel your relationship with marijuana fits into everything that's been going on in your life?\n",
      "Sponsor: No, I haven't started over again, Steve. But I remember how daunting that step can feel. It's all about taking it one day at a time. How are you feeling about possibly starting that journey for yourself?\n"
     ]
    }
   ],
   "source": [
    "import time\n",
    "# Main loop for conversation\n",
    "while True:\n",
    "    user_query = input(\"You: \")\n",
    "    if user_query.strip().lower() in [\"bye\", \"goodbye\", \"exit\", \"quit\"]:\n",
    "        print(\"Sponsor: Goodbye! Take care.\")\n",
    "        break\n",
    "    sponsor_reply = rag_initial_conversation(user_query, conversation_history=current_conversation_history)\n",
    "    print(f\"Sponsor: {sponsor_reply}\")\n",
    "    time.sleep(0.5)  # Add a half-second pause before next input"
   ]
  },
  {
   "cell_type": "code",
   "execution_count": null,
   "id": "316f97fc",
   "metadata": {},
   "outputs": [],
   "source": []
  }
 ],
 "metadata": {
  "kernelspec": {
   "display_name": "Python 3",
   "language": "python",
   "name": "python3"
  },
  "language_info": {
   "codemirror_mode": {
    "name": "ipython",
    "version": 3
   },
   "file_extension": ".py",
   "mimetype": "text/x-python",
   "name": "python",
   "nbconvert_exporter": "python",
   "pygments_lexer": "ipython3",
   "version": "3.12.1"
  }
 },
 "nbformat": 4,
 "nbformat_minor": 5
}
