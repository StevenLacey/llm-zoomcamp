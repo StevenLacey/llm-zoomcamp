{
 "cells": [
  {
   "cell_type": "code",
   "execution_count": 106,
   "id": "d8a3b597",
   "metadata": {},
   "outputs": [],
   "source": [
    "import json\n",
    "from openai import OpenAI\n",
    "from dotenv import load_dotenv\n",
    "import os\n",
    "from openai import OpenAI\n",
    "load_dotenv()\n",
    "client = OpenAI(api_key=os.getenv(\"OPENAI_API_KEY\")) # Get Key from Env (ignored in git) \n",
    "client = OpenAI()\n",
    "from elasticsearch import Elasticsearch\n",
    "es_client = Elasticsearch('http://localhost:9200')\n",
    "from tqdm.auto import tqdm\n",
    "import fitz  # PyMuPDF\n",
    "## think i dont need any more ## from pathlib import Path"
   ]
  },
  {
   "cell_type": "markdown",
   "id": "cc7deba5",
   "metadata": {},
   "source": [
    "### 1. Import new entity and utility functions. "
   ]
  },
  {
   "cell_type": "code",
   "execution_count": 107,
   "id": "37a16bf1",
   "metadata": {},
   "outputs": [
    {
     "ename": "ImportError",
     "evalue": "cannot import name 'load_personas' from 'src.entities.persona' (/workspaces/llm-zoomcamp/ma-rag-pipeline/src/entities/persona.py)",
     "output_type": "error",
     "traceback": [
      "\u001b[31m---------------------------------------------------------------------------\u001b[39m",
      "\u001b[31mImportError\u001b[39m                               Traceback (most recent call last)",
      "\u001b[36mCell\u001b[39m\u001b[36m \u001b[39m\u001b[32mIn[107]\u001b[39m\u001b[32m, line 4\u001b[39m\n\u001b[32m      2\u001b[39m \u001b[38;5;28;01mfrom\u001b[39;00m\u001b[38;5;250m \u001b[39m\u001b[34;01msrc\u001b[39;00m\u001b[34;01m.\u001b[39;00m\u001b[34;01mentities\u001b[39;00m\u001b[34;01m.\u001b[39;00m\u001b[34;01mspiritual_profile\u001b[39;00m\u001b[38;5;250m \u001b[39m\u001b[38;5;28;01mimport\u001b[39;00m load_spiritual_profiles, get_profile_by_user_id\n\u001b[32m      3\u001b[39m \u001b[38;5;28;01mfrom\u001b[39;00m\u001b[38;5;250m \u001b[39m\u001b[34;01msrc\u001b[39;00m\u001b[34;01m.\u001b[39;00m\u001b[34;01mentities\u001b[39;00m\u001b[34;01m.\u001b[39;00m\u001b[34;01mconversation\u001b[39;00m\u001b[38;5;250m \u001b[39m\u001b[38;5;28;01mimport\u001b[39;00m load_conversations, append_conversation\n\u001b[32m----> \u001b[39m\u001b[32m4\u001b[39m \u001b[38;5;28;01mfrom\u001b[39;00m\u001b[38;5;250m \u001b[39m\u001b[34;01msrc\u001b[39;00m\u001b[34;01m.\u001b[39;00m\u001b[34;01mentities\u001b[39;00m\u001b[34;01m.\u001b[39;00m\u001b[34;01mpersona\u001b[39;00m\u001b[38;5;250m \u001b[39m\u001b[38;5;28;01mimport\u001b[39;00m load_personas, get_persona_by_id\n\u001b[32m      5\u001b[39m \u001b[38;5;28;01mfrom\u001b[39;00m\u001b[38;5;250m \u001b[39m\u001b[34;01msrc\u001b[39;00m\u001b[34;01m.\u001b[39;00m\u001b[34;01mutils\u001b[39;00m\u001b[34;01m.\u001b[39;00m\u001b[34;01mio\u001b[39;00m\u001b[38;5;250m \u001b[39m\u001b[38;5;28;01mimport\u001b[39;00m load_json, save_json, append_json_record\n\u001b[32m      6\u001b[39m \u001b[38;5;28;01mfrom\u001b[39;00m\u001b[38;5;250m \u001b[39m\u001b[34;01mpathlib\u001b[39;00m\u001b[38;5;250m \u001b[39m\u001b[38;5;28;01mimport\u001b[39;00m Path \u001b[38;5;66;03m# I was already using this \u001b[39;00m\n",
      "\u001b[31mImportError\u001b[39m: cannot import name 'load_personas' from 'src.entities.persona' (/workspaces/llm-zoomcamp/ma-rag-pipeline/src/entities/persona.py)"
     ]
    }
   ],
   "source": [
    "from src.entities.user import load_users, get_user_by_id\n",
    "from src.entities.spiritual_profile import load_spiritual_profiles, get_profile_by_user_id\n",
    "from src.entities.conversation import load_conversations, append_conversation\n",
    "from src.entities.persona import load_personas, get_persona_by_id\n",
    "from src.utils.io import load_json, save_json, append_json_record\n",
    "from pathlib import Path # I was already using this "
   ]
  },
  {
   "cell_type": "markdown",
   "id": "5bcefa48",
   "metadata": {},
   "source": [
    "### 2. Set Paths"
   ]
  },
  {
   "cell_type": "code",
   "execution_count": 101,
   "id": "1394ccb5",
   "metadata": {},
   "outputs": [],
   "source": [
    "\n",
    "user_path = Path(\"data/users.json\")\n",
    "persona_path = Path(\"data/personas.json\")\n",
    "spiritual_profile_path = Path(\"data/spiritual_profiles.json\")\n",
    "conversation_path = Path(\"data/conversations.json\")"
   ]
  },
  {
   "cell_type": "markdown",
   "id": "163e1dbb",
   "metadata": {},
   "source": [
    "### 3. Load Data"
   ]
  },
  {
   "cell_type": "code",
   "execution_count": 108,
   "id": "7c99b53b",
   "metadata": {},
   "outputs": [
    {
     "data": {
      "text/plain": [
       "'/workspaces/llm-zoomcamp/ma-rag-pipeline'"
      ]
     },
     "execution_count": 108,
     "metadata": {},
     "output_type": "execute_result"
    }
   ],
   "source": [
    "import os \n",
    "os.getcwd()"
   ]
  },
  {
   "cell_type": "code",
   "execution_count": 102,
   "id": "a267ed6b",
   "metadata": {},
   "outputs": [
    {
     "ename": "AttributeError",
     "evalue": "'PosixPath' object has no attribute 'personas_path'",
     "output_type": "error",
     "traceback": [
      "\u001b[31m---------------------------------------------------------------------------\u001b[39m",
      "\u001b[31mAttributeError\u001b[39m                            Traceback (most recent call last)",
      "\u001b[36mCell\u001b[39m\u001b[36m \u001b[39m\u001b[32mIn[102]\u001b[39m\u001b[32m, line 3\u001b[39m\n\u001b[32m      1\u001b[39m users = load_users(user_path)\n\u001b[32m      2\u001b[39m spiritual_profiles = load_spiritual_profiles(spiritual_profile_path)\n\u001b[32m----> \u001b[39m\u001b[32m3\u001b[39m personas = \u001b[43mPersonaManager\u001b[49m\u001b[43m.\u001b[49m\u001b[43mload_personas\u001b[49m\u001b[43m(\u001b[49m\u001b[43mpersona_path\u001b[49m\u001b[43m)\u001b[49m\n\u001b[32m      4\u001b[39m \u001b[38;5;66;03m#conversations = load_conversations(conversation_path)\u001b[39;00m\n",
      "\u001b[36mFile \u001b[39m\u001b[32m/workspaces/llm-zoomcamp/ma-rag-pipeline/src/entities/persona.py:39\u001b[39m, in \u001b[36mPersonaManager.load_personas\u001b[39m\u001b[34m(self)\u001b[39m\n\u001b[32m     38\u001b[39m \u001b[38;5;28;01mdef\u001b[39;00m\u001b[38;5;250m \u001b[39m\u001b[34mload_personas\u001b[39m(\u001b[38;5;28mself\u001b[39m) -> List[Persona]:\n\u001b[32m---> \u001b[39m\u001b[32m39\u001b[39m     \u001b[38;5;28;01mif\u001b[39;00m \u001b[38;5;28;43mself\u001b[39;49m\u001b[43m.\u001b[49m\u001b[43mpersonas_path\u001b[49m.exists():\n\u001b[32m     40\u001b[39m         \u001b[38;5;28;01mwith\u001b[39;00m \u001b[38;5;28mopen\u001b[39m(\u001b[38;5;28mself\u001b[39m.personas_path, \u001b[33m\"\u001b[39m\u001b[33mr\u001b[39m\u001b[33m\"\u001b[39m) \u001b[38;5;28;01mas\u001b[39;00m f:\n\u001b[32m     41\u001b[39m             data = json.load(f)\n",
      "\u001b[31mAttributeError\u001b[39m: 'PosixPath' object has no attribute 'personas_path'"
     ]
    }
   ],
   "source": [
    "users = load_users(user_path)\n",
    "spiritual_profiles = load_spiritual_profiles(spiritual_profile_path)\n",
    "personas = load_personas(persona_path)\n",
    "#conversations = load_conversations(conversation_path)"
   ]
  },
  {
   "cell_type": "code",
   "execution_count": 98,
   "id": "0b792b77",
   "metadata": {},
   "outputs": [
    {
     "data": {
      "text/plain": [
       "PosixPath('data/personas.json')"
      ]
     },
     "execution_count": 98,
     "metadata": {},
     "output_type": "execute_result"
    }
   ],
   "source": [
    "persona_path"
   ]
  },
  {
   "cell_type": "code",
   "execution_count": 100,
   "id": "5bf84638",
   "metadata": {},
   "outputs": [
    {
     "data": {
      "text/plain": [
       "PosixPath('data/users.json')"
      ]
     },
     "execution_count": 100,
     "metadata": {},
     "output_type": "execute_result"
    }
   ],
   "source": [
    "user_path"
   ]
  },
  {
   "cell_type": "code",
   "execution_count": null,
   "id": "a1bf4d95",
   "metadata": {},
   "outputs": [],
   "source": []
  }
 ],
 "metadata": {
  "kernelspec": {
   "display_name": "Python 3",
   "language": "python",
   "name": "python3"
  },
  "language_info": {
   "codemirror_mode": {
    "name": "ipython",
    "version": 3
   },
   "file_extension": ".py",
   "mimetype": "text/x-python",
   "name": "python",
   "nbconvert_exporter": "python",
   "pygments_lexer": "ipython3",
   "version": "3.12.1"
  }
 },
 "nbformat": 4,
 "nbformat_minor": 5
}
