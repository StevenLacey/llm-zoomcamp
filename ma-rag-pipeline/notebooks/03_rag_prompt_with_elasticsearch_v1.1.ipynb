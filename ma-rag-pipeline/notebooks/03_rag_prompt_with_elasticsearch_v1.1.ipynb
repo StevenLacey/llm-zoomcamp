     /project_root
     ├── /src
     │   ├── __init__.py
     │   ├── main.py
     │   ├── intake.py
     │   ├── conversations.py
     │   ├── elasticsearch_utils.py
     │   ├── llm_utils.py
     │   ├── models.py
     │   └── config.py
     ├── /data
     │   ├── users.json
     │   ├── conversations.json
     │   └── ...
     ├── /notebooks
     │   ├── 01b_intake_greeting.ipynb
     │   ├── 02b_initial_conversations.ipynb
     │   ├── 03_rag_prompt_with_elasticsearch_v1.1.ipynb
     │   └── 04_...
     └── /tests
         └── ...