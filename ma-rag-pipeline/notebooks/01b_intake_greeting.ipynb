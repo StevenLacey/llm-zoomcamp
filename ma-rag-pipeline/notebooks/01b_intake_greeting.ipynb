     /project_root
     ├── /src
     │   ├── __init__.py
     │   ├── main.py
     │   ├── /data
     │   │   ├── data_loader.py
     │   │   └── data_saver.py
     │   ├── /models
     │   │   ├── user.py
     │   │   └── conversation.py
     │   ├── /services
     │   │   ├── llm_service.py
     │   │   └── elasticsearch_service.py
     │   └── /utils
     │       ├── json_utils.py
     │       └── logging_utils.py
     ├── /notebooks
     │   ├── 01b_intake_greeting.ipynb
     │   ├── 02b_initial_conversations.ipynb
     │   ├── 03_rag_prompt_with_elasticsearch_v1.1.ipynb
     │   └── 04_other_notebook.ipynb
     └── /context
         ├── users.json
         ├── conversations.json
         └── personas.json